{
 "cells": [
  {
   "cell_type": "markdown",
   "id": "a42edf82",
   "metadata": {},
   "source": [
    "SET"
   ]
  },
  {
   "cell_type": "code",
   "execution_count": 1,
   "id": "2a85e351",
   "metadata": {},
   "outputs": [],
   "source": [
    "evans_house_hood = {50, 59, 50, 20, 48, 60}"
   ]
  },
  {
   "cell_type": "code",
   "execution_count": 2,
   "id": "639be68f",
   "metadata": {},
   "outputs": [
    {
     "name": "stdout",
     "output_type": "stream",
     "text": [
      "<class 'set'>\n"
     ]
    }
   ],
   "source": [
    "print(type(evans_house_hood))"
   ]
  },
  {
   "cell_type": "code",
   "execution_count": 3,
   "id": "fab328ba",
   "metadata": {},
   "outputs": [
    {
     "name": "stdout",
     "output_type": "stream",
     "text": [
      "{48, 50, 20, 59, 60}\n"
     ]
    }
   ],
   "source": [
    "print(evans_house_hood)"
   ]
  },
  {
   "cell_type": "code",
   "execution_count": null,
   "id": "f5c50062",
   "metadata": {},
   "outputs": [],
   "source": []
  },
  {
   "cell_type": "markdown",
   "id": "b33dd9b0",
   "metadata": {},
   "source": [
    "TUPLE"
   ]
  },
  {
   "cell_type": "code",
   "execution_count": 4,
   "id": "a544c235",
   "metadata": {},
   "outputs": [],
   "source": [
    "random_data = (6, 8, 9, \"evans\", 20, 10)"
   ]
  },
  {
   "cell_type": "code",
   "execution_count": 5,
   "id": "544a8a24",
   "metadata": {},
   "outputs": [
    {
     "name": "stdout",
     "output_type": "stream",
     "text": [
      "<class 'tuple'>\n"
     ]
    }
   ],
   "source": [
    "print(type(random_data))"
   ]
  },
  {
   "cell_type": "code",
   "execution_count": 12,
   "id": "2ad56882",
   "metadata": {},
   "outputs": [
    {
     "name": "stdout",
     "output_type": "stream",
     "text": [
      "(6, 8, 9, 'evans', 20, 10)\n"
     ]
    }
   ],
   "source": [
    "print(random_data)"
   ]
  },
  {
   "cell_type": "code",
   "execution_count": null,
   "id": "25cfd44a",
   "metadata": {},
   "outputs": [],
   "source": []
  },
  {
   "cell_type": "code",
   "execution_count": 14,
   "id": "6ad8df7f",
   "metadata": {},
   "outputs": [],
   "source": [
    "random_numbers = (6, 10, 10, 20, \"john\", 60, 20)"
   ]
  },
  {
   "cell_type": "code",
   "execution_count": 16,
   "id": "1259ddb9",
   "metadata": {},
   "outputs": [
    {
     "name": "stdout",
     "output_type": "stream",
     "text": [
      "<class 'tuple'>\n"
     ]
    }
   ],
   "source": [
    "print(type(random_numbers))"
   ]
  },
  {
   "cell_type": "code",
   "execution_count": 17,
   "id": "3312ba03",
   "metadata": {},
   "outputs": [
    {
     "name": "stdout",
     "output_type": "stream",
     "text": [
      "(6, 10, 10, 20, 'john', 60, 20)\n"
     ]
    }
   ],
   "source": [
    "print(random_numbers)"
   ]
  },
  {
   "cell_type": "code",
   "execution_count": null,
   "id": "6f9b8ded",
   "metadata": {},
   "outputs": [],
   "source": []
  },
  {
   "cell_type": "code",
   "execution_count": 30,
   "id": "fd96c63f",
   "metadata": {},
   "outputs": [],
   "source": [
    "numbers = (30, 60 , 80, 60, 80, 3, 5, 7, 7)"
   ]
  },
  {
   "cell_type": "code",
   "execution_count": 31,
   "id": "fc53124e",
   "metadata": {},
   "outputs": [
    {
     "name": "stdout",
     "output_type": "stream",
     "text": [
      "<class 'tuple'>\n"
     ]
    }
   ],
   "source": [
    "print(type(random_numbers))"
   ]
  },
  {
   "cell_type": "code",
   "execution_count": 32,
   "id": "c83b58da",
   "metadata": {},
   "outputs": [
    {
     "name": "stdout",
     "output_type": "stream",
     "text": [
      "(30, 60, 80, 60, 80, 3, 5, 7, 7)\n"
     ]
    }
   ],
   "source": [
    "print(numbers)"
   ]
  },
  {
   "cell_type": "code",
   "execution_count": null,
   "id": "0075e1c0",
   "metadata": {},
   "outputs": [],
   "source": []
  },
  {
   "cell_type": "markdown",
   "id": "e3df4c2d",
   "metadata": {},
   "source": [
    "SET"
   ]
  },
  {
   "cell_type": "code",
   "execution_count": 33,
   "id": "d09b8760",
   "metadata": {},
   "outputs": [],
   "source": [
    "family_age = {30, 50, 67, 50, 9, 35, 40, 8, 30}"
   ]
  },
  {
   "cell_type": "code",
   "execution_count": 34,
   "id": "e520fd8e",
   "metadata": {},
   "outputs": [
    {
     "name": "stdout",
     "output_type": "stream",
     "text": [
      "<class 'set'>\n"
     ]
    }
   ],
   "source": [
    "print(type(family_age))"
   ]
  },
  {
   "cell_type": "code",
   "execution_count": 35,
   "id": "90ae1911",
   "metadata": {},
   "outputs": [
    {
     "name": "stdout",
     "output_type": "stream",
     "text": [
      "{50, 35, 67, 30, 40, 9, 8}\n"
     ]
    }
   ],
   "source": [
    "print(family_age)"
   ]
  },
  {
   "cell_type": "code",
   "execution_count": null,
   "id": "9ffd1470",
   "metadata": {},
   "outputs": [],
   "source": []
  },
  {
   "cell_type": "markdown",
   "id": "10deae45",
   "metadata": {},
   "source": [
    "DICTIONARY"
   ]
  },
  {
   "cell_type": "code",
   "execution_count": 36,
   "id": "4fa481f6",
   "metadata": {},
   "outputs": [],
   "source": [
    "evans_house = {\"shina\":40, \"ehis\":30, \"tope\":27,\"abbey\":25, \"joseph\":22, \"imole\":19}"
   ]
  },
  {
   "cell_type": "code",
   "execution_count": 37,
   "id": "18dbdd7c",
   "metadata": {},
   "outputs": [
    {
     "name": "stdout",
     "output_type": "stream",
     "text": [
      "<class 'dict'>\n"
     ]
    }
   ],
   "source": [
    "print(type(evans_house))"
   ]
  },
  {
   "cell_type": "code",
   "execution_count": 38,
   "id": "79ca5dcf",
   "metadata": {},
   "outputs": [
    {
     "name": "stdout",
     "output_type": "stream",
     "text": [
      "{'shina': 40, 'ehis': 30, 'tope': 27, 'abbey': 25, 'joseph': 22, 'imole': 19}\n"
     ]
    }
   ],
   "source": [
    "print(evans_house)"
   ]
  },
  {
   "cell_type": "code",
   "execution_count": null,
   "id": "d7ebf3f3",
   "metadata": {},
   "outputs": [],
   "source": []
  },
  {
   "cell_type": "markdown",
   "id": "9027f8d3",
   "metadata": {},
   "source": [
    "Accessing dictionary values"
   ]
  },
  {
   "cell_type": "code",
   "execution_count": 39,
   "id": "08afd0fb",
   "metadata": {},
   "outputs": [],
   "source": [
    "new_dict = {\"evans\": 31, \"tope\": 38}"
   ]
  },
  {
   "cell_type": "code",
   "execution_count": 40,
   "id": "caa485d7",
   "metadata": {},
   "outputs": [
    {
     "name": "stdout",
     "output_type": "stream",
     "text": [
      "{'evans': 31, 'tope': 38}\n"
     ]
    }
   ],
   "source": [
    "print(new_dict)"
   ]
  },
  {
   "cell_type": "code",
   "execution_count": 41,
   "id": "141c2319",
   "metadata": {},
   "outputs": [
    {
     "name": "stdout",
     "output_type": "stream",
     "text": [
      "31\n"
     ]
    }
   ],
   "source": [
    "print(new_dict[\"evans\"])"
   ]
  },
  {
   "cell_type": "code",
   "execution_count": 42,
   "id": "5e9b1672",
   "metadata": {},
   "outputs": [
    {
     "name": "stdout",
     "output_type": "stream",
     "text": [
      "38\n"
     ]
    }
   ],
   "source": [
    "print(new_dict[\"tope\"])"
   ]
  },
  {
   "cell_type": "code",
   "execution_count": null,
   "id": "7d998367",
   "metadata": {},
   "outputs": [],
   "source": []
  },
  {
   "cell_type": "code",
   "execution_count": 43,
   "id": "c5b3aaff",
   "metadata": {},
   "outputs": [],
   "source": [
    "new_product = {\"bread\": 50, \"rice\": 100, \"poundo\":  70}"
   ]
  },
  {
   "cell_type": "code",
   "execution_count": 44,
   "id": "776b9afa",
   "metadata": {},
   "outputs": [
    {
     "name": "stdout",
     "output_type": "stream",
     "text": [
      "<class 'dict'>\n"
     ]
    }
   ],
   "source": [
    "print(type(new_product))"
   ]
  },
  {
   "cell_type": "code",
   "execution_count": 45,
   "id": "32e2846c",
   "metadata": {},
   "outputs": [
    {
     "name": "stdout",
     "output_type": "stream",
     "text": [
      "100\n"
     ]
    }
   ],
   "source": [
    "print(new_product[\"rice\"])"
   ]
  },
  {
   "cell_type": "code",
   "execution_count": 47,
   "id": "292f0490",
   "metadata": {},
   "outputs": [
    {
     "name": "stdout",
     "output_type": "stream",
     "text": [
      "70\n"
     ]
    }
   ],
   "source": [
    "print(new_product[\"poundo\"])"
   ]
  },
  {
   "cell_type": "code",
   "execution_count": 48,
   "id": "b14b56dd",
   "metadata": {},
   "outputs": [
    {
     "name": "stdout",
     "output_type": "stream",
     "text": [
      "50\n"
     ]
    }
   ],
   "source": [
    "print(new_product[\"bread\"])"
   ]
  },
  {
   "cell_type": "code",
   "execution_count": null,
   "id": "187635a5",
   "metadata": {},
   "outputs": [],
   "source": []
  },
  {
   "cell_type": "code",
   "execution_count": 49,
   "id": "554cd277",
   "metadata": {},
   "outputs": [
    {
     "name": "stdout",
     "output_type": "stream",
     "text": [
      "dict_keys(['bread', 'rice', 'poundo'])\n"
     ]
    }
   ],
   "source": [
    "print(new_product.keys())"
   ]
  },
  {
   "cell_type": "code",
   "execution_count": null,
   "id": "200607db",
   "metadata": {},
   "outputs": [],
   "source": []
  },
  {
   "cell_type": "code",
   "execution_count": 50,
   "id": "18c1fa03",
   "metadata": {},
   "outputs": [
    {
     "name": "stdout",
     "output_type": "stream",
     "text": [
      "dict_keys(['shina', 'ehis', 'tope', 'abbey', 'joseph', 'imole'])\n"
     ]
    }
   ],
   "source": [
    "print(evans_house.keys())"
   ]
  },
  {
   "cell_type": "code",
   "execution_count": null,
   "id": "114c34e7",
   "metadata": {},
   "outputs": [],
   "source": []
  },
  {
   "cell_type": "code",
   "execution_count": 51,
   "id": "0f3b9909",
   "metadata": {},
   "outputs": [
    {
     "name": "stdout",
     "output_type": "stream",
     "text": [
      "dict_values([50, 100, 70])\n"
     ]
    }
   ],
   "source": [
    "print(new_product.values())"
   ]
  },
  {
   "cell_type": "code",
   "execution_count": null,
   "id": "6d637dd7",
   "metadata": {},
   "outputs": [],
   "source": []
  },
  {
   "cell_type": "code",
   "execution_count": 52,
   "id": "c5e1cf62",
   "metadata": {},
   "outputs": [],
   "source": [
    "evans_future_age = new_dict[\"evans\"] + 20"
   ]
  },
  {
   "cell_type": "code",
   "execution_count": 56,
   "id": "894edc7e",
   "metadata": {},
   "outputs": [
    {
     "name": "stdout",
     "output_type": "stream",
     "text": [
      "51\n"
     ]
    }
   ],
   "source": [
    "print(evans_future_age)"
   ]
  },
  {
   "cell_type": "code",
   "execution_count": null,
   "id": "9ad72291",
   "metadata": {},
   "outputs": [],
   "source": []
  },
  {
   "cell_type": "markdown",
   "id": "272ec37f",
   "metadata": {},
   "source": [
    "LIST"
   ]
  },
  {
   "cell_type": "code",
   "execution_count": 6,
   "id": "eee2b814",
   "metadata": {},
   "outputs": [],
   "source": [
    "family_names = [\"tope\", \"seun\", \"abbey\", \"biola\", \"seyi\"]"
   ]
  },
  {
   "cell_type": "code",
   "execution_count": 7,
   "id": "a129d249",
   "metadata": {},
   "outputs": [
    {
     "name": "stdout",
     "output_type": "stream",
     "text": [
      "['tope', 'seun', 'abbey', 'biola', 'seyi']\n"
     ]
    }
   ],
   "source": [
    "print(family_names)"
   ]
  },
  {
   "cell_type": "code",
   "execution_count": 8,
   "id": "c9874530",
   "metadata": {},
   "outputs": [],
   "source": [
    "family_names.append(\"evans\")"
   ]
  },
  {
   "cell_type": "code",
   "execution_count": 9,
   "id": "cb7d172e",
   "metadata": {},
   "outputs": [
    {
     "name": "stdout",
     "output_type": "stream",
     "text": [
      "['tope', 'seun', 'abbey', 'biola', 'seyi', 'evans']\n"
     ]
    }
   ],
   "source": [
    "print(family_names)"
   ]
  },
  {
   "cell_type": "code",
   "execution_count": null,
   "id": "6141dcc9",
   "metadata": {},
   "outputs": [],
   "source": []
  },
  {
   "cell_type": "code",
   "execution_count": 10,
   "id": "4ba5bc43",
   "metadata": {},
   "outputs": [],
   "source": [
    "country_names =[\"Germany\", \"China\", \"USA\", \"Korea\", \"Denmark\"]"
   ]
  },
  {
   "cell_type": "code",
   "execution_count": 11,
   "id": "26bbd1f4",
   "metadata": {},
   "outputs": [
    {
     "name": "stdout",
     "output_type": "stream",
     "text": [
      "['Germany', 'China', 'USA', 'Korea', 'Denmark']\n"
     ]
    }
   ],
   "source": [
    "print(country_names)"
   ]
  },
  {
   "cell_type": "code",
   "execution_count": 14,
   "id": "3fb49290",
   "metadata": {},
   "outputs": [],
   "source": [
    "country_names.append(\"Japan\")"
   ]
  },
  {
   "cell_type": "code",
   "execution_count": 15,
   "id": "9aa380da",
   "metadata": {},
   "outputs": [
    {
     "name": "stdout",
     "output_type": "stream",
     "text": [
      "['Germany', 'China', 'USA', 'Korea', 'Denmark', 'Japan', 'Japan']\n"
     ]
    }
   ],
   "source": [
    "print(country_names)"
   ]
  },
  {
   "cell_type": "code",
   "execution_count": null,
   "id": "2b0b787a",
   "metadata": {},
   "outputs": [],
   "source": []
  },
  {
   "cell_type": "code",
   "execution_count": 21,
   "id": "b562bd1d",
   "metadata": {},
   "outputs": [],
   "source": [
    "country_names.remove(\"Japan\")"
   ]
  },
  {
   "cell_type": "code",
   "execution_count": 22,
   "id": "9772122c",
   "metadata": {},
   "outputs": [
    {
     "name": "stdout",
     "output_type": "stream",
     "text": [
      "['Germany', 'China', 'Korea', 'Denmark', 'Japan']\n"
     ]
    }
   ],
   "source": [
    "print(country_names)"
   ]
  },
  {
   "cell_type": "code",
   "execution_count": 23,
   "id": "41a5cb7c",
   "metadata": {},
   "outputs": [],
   "source": [
    "country_names.remove(\"Japan\")"
   ]
  },
  {
   "cell_type": "code",
   "execution_count": 24,
   "id": "8ebd3361",
   "metadata": {},
   "outputs": [
    {
     "name": "stdout",
     "output_type": "stream",
     "text": [
      "['Germany', 'China', 'Korea', 'Denmark']\n"
     ]
    }
   ],
   "source": [
    "print(country_names)"
   ]
  },
  {
   "cell_type": "code",
   "execution_count": 25,
   "id": "de701991",
   "metadata": {},
   "outputs": [
    {
     "name": "stdout",
     "output_type": "stream",
     "text": [
      "<class 'list'>\n"
     ]
    }
   ],
   "source": [
    "print(type(country_names))"
   ]
  },
  {
   "cell_type": "code",
   "execution_count": null,
   "id": "281f34ce",
   "metadata": {},
   "outputs": [],
   "source": []
  },
  {
   "cell_type": "code",
   "execution_count": 30,
   "id": "d963edfb",
   "metadata": {},
   "outputs": [],
   "source": [
    "city_in_usa = [\"california\", \"new york\", \"minnesota\", \"new jersey \"]"
   ]
  },
  {
   "cell_type": "code",
   "execution_count": 31,
   "id": "c791a4a6",
   "metadata": {},
   "outputs": [
    {
     "name": "stdout",
     "output_type": "stream",
     "text": [
      "['california', 'new york', 'minnesota', 'new jersey ']\n"
     ]
    }
   ],
   "source": [
    "print(city_in_usa)"
   ]
  },
  {
   "cell_type": "code",
   "execution_count": 32,
   "id": "2937d03c",
   "metadata": {},
   "outputs": [],
   "source": [
    "city_in_usa.append(\"san jose\")"
   ]
  },
  {
   "cell_type": "code",
   "execution_count": 33,
   "id": "6c26feb8",
   "metadata": {},
   "outputs": [
    {
     "name": "stdout",
     "output_type": "stream",
     "text": [
      "['california', 'new york', 'minnesota', 'new jersey ', 'san jose']\n"
     ]
    }
   ],
   "source": [
    "print(city_in_usa)"
   ]
  },
  {
   "cell_type": "code",
   "execution_count": 35,
   "id": "5a4a0bd5",
   "metadata": {},
   "outputs": [
    {
     "name": "stdout",
     "output_type": "stream",
     "text": [
      "<class 'list'>\n"
     ]
    }
   ],
   "source": [
    "print(type(city_in_usa))"
   ]
  },
  {
   "cell_type": "code",
   "execution_count": 36,
   "id": "0899589d",
   "metadata": {},
   "outputs": [],
   "source": [
    "city_in_usa.remove(\"minnesota\")"
   ]
  },
  {
   "cell_type": "code",
   "execution_count": 37,
   "id": "b6065874",
   "metadata": {},
   "outputs": [
    {
     "name": "stdout",
     "output_type": "stream",
     "text": [
      "['california', 'new york', 'new jersey ', 'san jose']\n"
     ]
    }
   ],
   "source": [
    "print(city_in_usa)"
   ]
  },
  {
   "cell_type": "code",
   "execution_count": null,
   "id": "c030051e",
   "metadata": {},
   "outputs": [],
   "source": []
  },
  {
   "cell_type": "markdown",
   "id": "53dbf65c",
   "metadata": {},
   "source": [
    "Converting tuple to list and list back to tuple after appending"
   ]
  },
  {
   "cell_type": "code",
   "execution_count": null,
   "id": "c72a88e4",
   "metadata": {},
   "outputs": [],
   "source": []
  },
  {
   "cell_type": "code",
   "execution_count": 38,
   "id": "1ca7ba8e",
   "metadata": {},
   "outputs": [],
   "source": [
    "new_tuple = (3,4,5,6,8)"
   ]
  },
  {
   "cell_type": "code",
   "execution_count": 42,
   "id": "3ba09e35",
   "metadata": {},
   "outputs": [],
   "source": [
    "convert_tuple_to_list = list(new_tuple)"
   ]
  },
  {
   "cell_type": "code",
   "execution_count": 45,
   "id": "8a0eff1d",
   "metadata": {
    "scrolled": true
   },
   "outputs": [
    {
     "name": "stdout",
     "output_type": "stream",
     "text": [
      "[3, 4, 5, 6, 8]\n"
     ]
    }
   ],
   "source": [
    "print(convert_tuple_to_list)"
   ]
  },
  {
   "cell_type": "code",
   "execution_count": 46,
   "id": "948d67bc",
   "metadata": {},
   "outputs": [],
   "source": [
    "convert_tuple_to_list.append(10)"
   ]
  },
  {
   "cell_type": "code",
   "execution_count": 48,
   "id": "bd77b30f",
   "metadata": {
    "scrolled": true
   },
   "outputs": [
    {
     "name": "stdout",
     "output_type": "stream",
     "text": [
      "[3, 4, 5, 6, 8, 10]\n"
     ]
    }
   ],
   "source": [
    "print(convert_tuple_to_list)"
   ]
  },
  {
   "cell_type": "code",
   "execution_count": 56,
   "id": "2ba2caa8",
   "metadata": {},
   "outputs": [
    {
     "name": "stdout",
     "output_type": "stream",
     "text": [
      "<class 'list'>\n"
     ]
    }
   ],
   "source": [
    "print(type(convert_tuple_to_list))"
   ]
  },
  {
   "cell_type": "code",
   "execution_count": null,
   "id": "11b12537",
   "metadata": {},
   "outputs": [],
   "source": []
  },
  {
   "cell_type": "code",
   "execution_count": null,
   "id": "01a24076",
   "metadata": {},
   "outputs": [],
   "source": []
  },
  {
   "cell_type": "code",
   "execution_count": 49,
   "id": "4a21a868",
   "metadata": {},
   "outputs": [],
   "source": [
    "tuple2 = (20, 33, 60, 49)"
   ]
  },
  {
   "cell_type": "code",
   "execution_count": 50,
   "id": "e2a3441e",
   "metadata": {},
   "outputs": [
    {
     "name": "stdout",
     "output_type": "stream",
     "text": [
      "<class 'tuple'>\n"
     ]
    }
   ],
   "source": [
    "print(type(tuple2))"
   ]
  },
  {
   "cell_type": "code",
   "execution_count": 51,
   "id": "a0f6fbf6",
   "metadata": {},
   "outputs": [
    {
     "name": "stdout",
     "output_type": "stream",
     "text": [
      "(20, 33, 60, 49)\n"
     ]
    }
   ],
   "source": [
    "print(tuple2)"
   ]
  },
  {
   "cell_type": "code",
   "execution_count": 57,
   "id": "40c4e05b",
   "metadata": {},
   "outputs": [],
   "source": [
    "convert_tuple2_to_list = list(tuple2)"
   ]
  },
  {
   "cell_type": "code",
   "execution_count": 58,
   "id": "c7257aab",
   "metadata": {},
   "outputs": [
    {
     "name": "stdout",
     "output_type": "stream",
     "text": [
      "<class 'list'>\n"
     ]
    }
   ],
   "source": [
    "print(type(convert_tuple2_to_list))"
   ]
  },
  {
   "cell_type": "code",
   "execution_count": 59,
   "id": "68067bba",
   "metadata": {},
   "outputs": [],
   "source": [
    "convert_tuple_to_list.append(100)"
   ]
  },
  {
   "cell_type": "code",
   "execution_count": 60,
   "id": "d93bf6c5",
   "metadata": {},
   "outputs": [
    {
     "name": "stdout",
     "output_type": "stream",
     "text": [
      "[3, 4, 5, 6, 8, 10, 100]\n"
     ]
    }
   ],
   "source": [
    "print(convert_tuple_to_list)"
   ]
  },
  {
   "cell_type": "code",
   "execution_count": null,
   "id": "f2d23d26",
   "metadata": {},
   "outputs": [],
   "source": []
  },
  {
   "cell_type": "code",
   "execution_count": 63,
   "id": "c98fce20",
   "metadata": {},
   "outputs": [],
   "source": [
    "convert_list_to_tuple = tuple(convert_tuple_to_list)"
   ]
  },
  {
   "cell_type": "code",
   "execution_count": 64,
   "id": "4d422ca7",
   "metadata": {},
   "outputs": [
    {
     "name": "stdout",
     "output_type": "stream",
     "text": [
      "<class 'tuple'>\n"
     ]
    }
   ],
   "source": [
    "print(type(convert_list_to_tuple))"
   ]
  },
  {
   "cell_type": "code",
   "execution_count": 68,
   "id": "3fcc7293",
   "metadata": {},
   "outputs": [
    {
     "name": "stdout",
     "output_type": "stream",
     "text": [
      "(3, 4, 5, 6, 8, 10, 100)\n"
     ]
    }
   ],
   "source": [
    "print(convert_list_to_tuple)"
   ]
  },
  {
   "cell_type": "code",
   "execution_count": null,
   "id": "5553350c",
   "metadata": {},
   "outputs": [],
   "source": []
  },
  {
   "cell_type": "code",
   "execution_count": null,
   "id": "eb1c6209",
   "metadata": {},
   "outputs": [],
   "source": []
  }
 ],
 "metadata": {
  "kernelspec": {
   "display_name": "Python 3 (ipykernel)",
   "language": "python",
   "name": "python3"
  },
  "language_info": {
   "codemirror_mode": {
    "name": "ipython",
    "version": 3
   },
   "file_extension": ".py",
   "mimetype": "text/x-python",
   "name": "python",
   "nbconvert_exporter": "python",
   "pygments_lexer": "ipython3",
   "version": "3.10.4"
  }
 },
 "nbformat": 4,
 "nbformat_minor": 5
}
