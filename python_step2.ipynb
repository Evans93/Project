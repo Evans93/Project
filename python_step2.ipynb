{
 "cells": [
  {
   "cell_type": "markdown",
   "id": "a42edf82",
   "metadata": {},
   "source": [
    "SET"
   ]
  },
  {
   "cell_type": "code",
   "execution_count": 1,
   "id": "2a85e351",
   "metadata": {},
   "outputs": [],
   "source": [
    "evans_house_hood = {50, 59, 50, 20, 48, 60}"
   ]
  },
  {
   "cell_type": "code",
   "execution_count": 2,
   "id": "639be68f",
   "metadata": {},
   "outputs": [
    {
     "name": "stdout",
     "output_type": "stream",
     "text": [
      "<class 'set'>\n"
     ]
    }
   ],
   "source": [
    "print(type(evans_house_hood))"
   ]
  },
  {
   "cell_type": "code",
   "execution_count": 3,
   "id": "fab328ba",
   "metadata": {},
   "outputs": [
    {
     "name": "stdout",
     "output_type": "stream",
     "text": [
      "{48, 50, 20, 59, 60}\n"
     ]
    }
   ],
   "source": [
    "print(evans_house_hood)"
   ]
  },
  {
   "cell_type": "code",
   "execution_count": null,
   "id": "f5c50062",
   "metadata": {},
   "outputs": [],
   "source": []
  },
  {
   "cell_type": "markdown",
   "id": "b33dd9b0",
   "metadata": {},
   "source": [
    "TUPLE"
   ]
  },
  {
   "cell_type": "code",
   "execution_count": 4,
   "id": "a544c235",
   "metadata": {},
   "outputs": [],
   "source": [
    "random_data = (6, 8, 9, \"evans\", 20, 10)"
   ]
  },
  {
   "cell_type": "code",
   "execution_count": 5,
   "id": "544a8a24",
   "metadata": {},
   "outputs": [
    {
     "name": "stdout",
     "output_type": "stream",
     "text": [
      "<class 'tuple'>\n"
     ]
    }
   ],
   "source": [
    "print(type(random_data))"
   ]
  },
  {
   "cell_type": "code",
   "execution_count": 12,
   "id": "2ad56882",
   "metadata": {},
   "outputs": [
    {
     "name": "stdout",
     "output_type": "stream",
     "text": [
      "(6, 8, 9, 'evans', 20, 10)\n"
     ]
    }
   ],
   "source": [
    "print(random_data)"
   ]
  },
  {
   "cell_type": "code",
   "execution_count": null,
   "id": "25cfd44a",
   "metadata": {},
   "outputs": [],
   "source": []
  },
  {
   "cell_type": "code",
   "execution_count": 1,
   "id": "6ad8df7f",
   "metadata": {},
   "outputs": [],
   "source": [
    "random_numbers = (6, 10, 10, 20, 60, 20)"
   ]
  },
  {
   "cell_type": "code",
   "execution_count": 2,
   "id": "1259ddb9",
   "metadata": {},
   "outputs": [
    {
     "name": "stdout",
     "output_type": "stream",
     "text": [
      "<class 'tuple'>\n"
     ]
    }
   ],
   "source": [
    "print(type(random_numbers))"
   ]
  },
  {
   "cell_type": "code",
   "execution_count": 3,
   "id": "3312ba03",
   "metadata": {},
   "outputs": [
    {
     "name": "stdout",
     "output_type": "stream",
     "text": [
      "(6, 10, 10, 20, 60, 20)\n"
     ]
    }
   ],
   "source": [
    "print(random_numbers)"
   ]
  },
  {
   "cell_type": "code",
   "execution_count": null,
   "id": "6f9b8ded",
   "metadata": {},
   "outputs": [],
   "source": []
  },
  {
   "cell_type": "code",
   "execution_count": 30,
   "id": "fd96c63f",
   "metadata": {},
   "outputs": [],
   "source": [
    "numbers = (30, 60 , 80, 60, 80, 3, 5, 7, 7)"
   ]
  },
  {
   "cell_type": "code",
   "execution_count": 31,
   "id": "fc53124e",
   "metadata": {},
   "outputs": [
    {
     "name": "stdout",
     "output_type": "stream",
     "text": [
      "<class 'tuple'>\n"
     ]
    }
   ],
   "source": [
    "print(type(random_numbers))"
   ]
  },
  {
   "cell_type": "code",
   "execution_count": 32,
   "id": "c83b58da",
   "metadata": {},
   "outputs": [
    {
     "name": "stdout",
     "output_type": "stream",
     "text": [
      "(30, 60, 80, 60, 80, 3, 5, 7, 7)\n"
     ]
    }
   ],
   "source": [
    "print(numbers)"
   ]
  },
  {
   "cell_type": "code",
   "execution_count": null,
   "id": "0075e1c0",
   "metadata": {},
   "outputs": [],
   "source": []
  },
  {
   "cell_type": "markdown",
   "id": "e3df4c2d",
   "metadata": {},
   "source": [
    "SET"
   ]
  },
  {
   "cell_type": "code",
   "execution_count": 33,
   "id": "d09b8760",
   "metadata": {},
   "outputs": [],
   "source": [
    "family_age = {30, 50, 67, 50, 9, 35, 40, 8, 30}"
   ]
  },
  {
   "cell_type": "code",
   "execution_count": 34,
   "id": "e520fd8e",
   "metadata": {},
   "outputs": [
    {
     "name": "stdout",
     "output_type": "stream",
     "text": [
      "<class 'set'>\n"
     ]
    }
   ],
   "source": [
    "print(type(family_age))"
   ]
  },
  {
   "cell_type": "code",
   "execution_count": 35,
   "id": "90ae1911",
   "metadata": {},
   "outputs": [
    {
     "name": "stdout",
     "output_type": "stream",
     "text": [
      "{50, 35, 67, 30, 40, 9, 8}\n"
     ]
    }
   ],
   "source": [
    "print(family_age)"
   ]
  },
  {
   "cell_type": "code",
   "execution_count": null,
   "id": "9ffd1470",
   "metadata": {},
   "outputs": [],
   "source": []
  },
  {
   "cell_type": "markdown",
   "id": "10deae45",
   "metadata": {},
   "source": [
    "DICTIONARY"
   ]
  },
  {
   "cell_type": "code",
   "execution_count": 5,
   "id": "4fa481f6",
   "metadata": {},
   "outputs": [],
   "source": [
    "evans_house = {\"shina\":40, \"ehis\":30, \"tope\":27,\"abbey\":25, \"joseph\":22, \"imole\":19}"
   ]
  },
  {
   "cell_type": "code",
   "execution_count": 6,
   "id": "18dbdd7c",
   "metadata": {},
   "outputs": [
    {
     "name": "stdout",
     "output_type": "stream",
     "text": [
      "<class 'dict'>\n"
     ]
    }
   ],
   "source": [
    "print(type(evans_house))"
   ]
  },
  {
   "cell_type": "code",
   "execution_count": 7,
   "id": "79ca5dcf",
   "metadata": {},
   "outputs": [
    {
     "name": "stdout",
     "output_type": "stream",
     "text": [
      "{'shina': 40, 'ehis': 30, 'tope': 27, 'abbey': 25, 'joseph': 22, 'imole': 19}\n"
     ]
    }
   ],
   "source": [
    "print(evans_house)"
   ]
  },
  {
   "cell_type": "code",
   "execution_count": null,
   "id": "d7ebf3f3",
   "metadata": {},
   "outputs": [],
   "source": []
  },
  {
   "cell_type": "code",
   "execution_count": 8,
   "id": "a7c9581c",
   "metadata": {},
   "outputs": [
    {
     "name": "stdout",
     "output_type": "stream",
     "text": [
      "27\n"
     ]
    }
   ],
   "source": [
    "print(evans_house[\"tope\"])"
   ]
  },
  {
   "cell_type": "code",
   "execution_count": null,
   "id": "871c0825",
   "metadata": {},
   "outputs": [],
   "source": []
  },
  {
   "cell_type": "code",
   "execution_count": null,
   "id": "69dc73f7",
   "metadata": {},
   "outputs": [],
   "source": []
  },
  {
   "cell_type": "markdown",
   "id": "9027f8d3",
   "metadata": {},
   "source": [
    "Accessing dictionary values"
   ]
  },
  {
   "cell_type": "code",
   "execution_count": 39,
   "id": "08afd0fb",
   "metadata": {},
   "outputs": [],
   "source": [
    "new_dict = {\"evans\": 31, \"tope\": 38}"
   ]
  },
  {
   "cell_type": "code",
   "execution_count": 40,
   "id": "caa485d7",
   "metadata": {},
   "outputs": [
    {
     "name": "stdout",
     "output_type": "stream",
     "text": [
      "{'evans': 31, 'tope': 38}\n"
     ]
    }
   ],
   "source": [
    "print(new_dict)"
   ]
  },
  {
   "cell_type": "code",
   "execution_count": 41,
   "id": "141c2319",
   "metadata": {},
   "outputs": [
    {
     "name": "stdout",
     "output_type": "stream",
     "text": [
      "31\n"
     ]
    }
   ],
   "source": [
    "print(new_dict[\"evans\"])"
   ]
  },
  {
   "cell_type": "code",
   "execution_count": 42,
   "id": "5e9b1672",
   "metadata": {},
   "outputs": [
    {
     "name": "stdout",
     "output_type": "stream",
     "text": [
      "38\n"
     ]
    }
   ],
   "source": [
    "print(new_dict[\"tope\"])"
   ]
  },
  {
   "cell_type": "code",
   "execution_count": null,
   "id": "7d998367",
   "metadata": {},
   "outputs": [],
   "source": []
  },
  {
   "cell_type": "code",
   "execution_count": 43,
   "id": "c5b3aaff",
   "metadata": {},
   "outputs": [],
   "source": [
    "new_product = {\"bread\": 50, \"rice\": 100, \"poundo\":  70}"
   ]
  },
  {
   "cell_type": "code",
   "execution_count": 44,
   "id": "776b9afa",
   "metadata": {},
   "outputs": [
    {
     "name": "stdout",
     "output_type": "stream",
     "text": [
      "<class 'dict'>\n"
     ]
    }
   ],
   "source": [
    "print(type(new_product))"
   ]
  },
  {
   "cell_type": "code",
   "execution_count": 45,
   "id": "32e2846c",
   "metadata": {},
   "outputs": [
    {
     "name": "stdout",
     "output_type": "stream",
     "text": [
      "100\n"
     ]
    }
   ],
   "source": [
    "print(new_product[\"rice\"])"
   ]
  },
  {
   "cell_type": "code",
   "execution_count": 47,
   "id": "292f0490",
   "metadata": {},
   "outputs": [
    {
     "name": "stdout",
     "output_type": "stream",
     "text": [
      "70\n"
     ]
    }
   ],
   "source": [
    "print(new_product[\"poundo\"])"
   ]
  },
  {
   "cell_type": "code",
   "execution_count": 48,
   "id": "b14b56dd",
   "metadata": {},
   "outputs": [
    {
     "name": "stdout",
     "output_type": "stream",
     "text": [
      "50\n"
     ]
    }
   ],
   "source": [
    "print(new_product[\"bread\"])"
   ]
  },
  {
   "cell_type": "code",
   "execution_count": null,
   "id": "187635a5",
   "metadata": {},
   "outputs": [],
   "source": []
  },
  {
   "cell_type": "code",
   "execution_count": 49,
   "id": "554cd277",
   "metadata": {},
   "outputs": [
    {
     "name": "stdout",
     "output_type": "stream",
     "text": [
      "dict_keys(['bread', 'rice', 'poundo'])\n"
     ]
    }
   ],
   "source": [
    "print(new_product.keys())"
   ]
  },
  {
   "cell_type": "code",
   "execution_count": null,
   "id": "200607db",
   "metadata": {},
   "outputs": [],
   "source": []
  },
  {
   "cell_type": "code",
   "execution_count": 50,
   "id": "18c1fa03",
   "metadata": {},
   "outputs": [
    {
     "name": "stdout",
     "output_type": "stream",
     "text": [
      "dict_keys(['shina', 'ehis', 'tope', 'abbey', 'joseph', 'imole'])\n"
     ]
    }
   ],
   "source": [
    "print(evans_house.keys())"
   ]
  },
  {
   "cell_type": "code",
   "execution_count": null,
   "id": "114c34e7",
   "metadata": {},
   "outputs": [],
   "source": []
  },
  {
   "cell_type": "code",
   "execution_count": 51,
   "id": "0f3b9909",
   "metadata": {},
   "outputs": [
    {
     "name": "stdout",
     "output_type": "stream",
     "text": [
      "dict_values([50, 100, 70])\n"
     ]
    }
   ],
   "source": [
    "print(new_product.values())"
   ]
  },
  {
   "cell_type": "code",
   "execution_count": null,
   "id": "6d637dd7",
   "metadata": {},
   "outputs": [],
   "source": []
  },
  {
   "cell_type": "code",
   "execution_count": 52,
   "id": "c5e1cf62",
   "metadata": {},
   "outputs": [],
   "source": [
    "evans_future_age = new_dict[\"evans\"] + 20"
   ]
  },
  {
   "cell_type": "code",
   "execution_count": 56,
   "id": "894edc7e",
   "metadata": {},
   "outputs": [
    {
     "name": "stdout",
     "output_type": "stream",
     "text": [
      "51\n"
     ]
    }
   ],
   "source": [
    "print(evans_future_age)"
   ]
  },
  {
   "cell_type": "code",
   "execution_count": null,
   "id": "9ad72291",
   "metadata": {},
   "outputs": [],
   "source": []
  },
  {
   "cell_type": "markdown",
   "id": "272ec37f",
   "metadata": {},
   "source": [
    "LIST"
   ]
  },
  {
   "cell_type": "code",
   "execution_count": 6,
   "id": "eee2b814",
   "metadata": {},
   "outputs": [],
   "source": [
    "family_names = [\"tope\", \"seun\", \"abbey\", \"biola\", \"seyi\"]"
   ]
  },
  {
   "cell_type": "code",
   "execution_count": 7,
   "id": "a129d249",
   "metadata": {},
   "outputs": [
    {
     "name": "stdout",
     "output_type": "stream",
     "text": [
      "['tope', 'seun', 'abbey', 'biola', 'seyi']\n"
     ]
    }
   ],
   "source": [
    "print(family_names)"
   ]
  },
  {
   "cell_type": "code",
   "execution_count": 8,
   "id": "c9874530",
   "metadata": {},
   "outputs": [],
   "source": [
    "family_names.append(\"evans\")"
   ]
  },
  {
   "cell_type": "code",
   "execution_count": 9,
   "id": "cb7d172e",
   "metadata": {},
   "outputs": [
    {
     "name": "stdout",
     "output_type": "stream",
     "text": [
      "['tope', 'seun', 'abbey', 'biola', 'seyi', 'evans']\n"
     ]
    }
   ],
   "source": [
    "print(family_names)"
   ]
  },
  {
   "cell_type": "code",
   "execution_count": null,
   "id": "6141dcc9",
   "metadata": {},
   "outputs": [],
   "source": []
  },
  {
   "cell_type": "code",
   "execution_count": 10,
   "id": "4ba5bc43",
   "metadata": {},
   "outputs": [],
   "source": [
    "country_names =[\"Germany\", \"China\", \"USA\", \"Korea\", \"Denmark\"]"
   ]
  },
  {
   "cell_type": "code",
   "execution_count": 11,
   "id": "26bbd1f4",
   "metadata": {},
   "outputs": [
    {
     "name": "stdout",
     "output_type": "stream",
     "text": [
      "['Germany', 'China', 'USA', 'Korea', 'Denmark']\n"
     ]
    }
   ],
   "source": [
    "print(country_names)"
   ]
  },
  {
   "cell_type": "code",
   "execution_count": 14,
   "id": "3fb49290",
   "metadata": {},
   "outputs": [],
   "source": [
    "country_names.append(\"Japan\")"
   ]
  },
  {
   "cell_type": "code",
   "execution_count": 15,
   "id": "9aa380da",
   "metadata": {},
   "outputs": [
    {
     "name": "stdout",
     "output_type": "stream",
     "text": [
      "['Germany', 'China', 'USA', 'Korea', 'Denmark', 'Japan', 'Japan']\n"
     ]
    }
   ],
   "source": [
    "print(country_names)"
   ]
  },
  {
   "cell_type": "code",
   "execution_count": null,
   "id": "2b0b787a",
   "metadata": {},
   "outputs": [],
   "source": []
  },
  {
   "cell_type": "code",
   "execution_count": 21,
   "id": "b562bd1d",
   "metadata": {},
   "outputs": [],
   "source": [
    "country_names.remove(\"Japan\")"
   ]
  },
  {
   "cell_type": "code",
   "execution_count": 22,
   "id": "9772122c",
   "metadata": {},
   "outputs": [
    {
     "name": "stdout",
     "output_type": "stream",
     "text": [
      "['Germany', 'China', 'Korea', 'Denmark', 'Japan']\n"
     ]
    }
   ],
   "source": [
    "print(country_names)"
   ]
  },
  {
   "cell_type": "code",
   "execution_count": 23,
   "id": "41a5cb7c",
   "metadata": {},
   "outputs": [],
   "source": [
    "country_names.remove(\"Japan\")"
   ]
  },
  {
   "cell_type": "code",
   "execution_count": 24,
   "id": "8ebd3361",
   "metadata": {},
   "outputs": [
    {
     "name": "stdout",
     "output_type": "stream",
     "text": [
      "['Germany', 'China', 'Korea', 'Denmark']\n"
     ]
    }
   ],
   "source": [
    "print(country_names)"
   ]
  },
  {
   "cell_type": "code",
   "execution_count": 25,
   "id": "de701991",
   "metadata": {},
   "outputs": [
    {
     "name": "stdout",
     "output_type": "stream",
     "text": [
      "<class 'list'>\n"
     ]
    }
   ],
   "source": [
    "print(type(country_names))"
   ]
  },
  {
   "cell_type": "code",
   "execution_count": null,
   "id": "281f34ce",
   "metadata": {},
   "outputs": [],
   "source": []
  },
  {
   "cell_type": "code",
   "execution_count": 30,
   "id": "d963edfb",
   "metadata": {},
   "outputs": [],
   "source": [
    "city_in_usa = [\"california\", \"new york\", \"minnesota\", \"new jersey \"]"
   ]
  },
  {
   "cell_type": "code",
   "execution_count": 31,
   "id": "c791a4a6",
   "metadata": {},
   "outputs": [
    {
     "name": "stdout",
     "output_type": "stream",
     "text": [
      "['california', 'new york', 'minnesota', 'new jersey ']\n"
     ]
    }
   ],
   "source": [
    "print(city_in_usa)"
   ]
  },
  {
   "cell_type": "code",
   "execution_count": 32,
   "id": "2937d03c",
   "metadata": {},
   "outputs": [],
   "source": [
    "city_in_usa.append(\"san jose\")"
   ]
  },
  {
   "cell_type": "code",
   "execution_count": 33,
   "id": "6c26feb8",
   "metadata": {},
   "outputs": [
    {
     "name": "stdout",
     "output_type": "stream",
     "text": [
      "['california', 'new york', 'minnesota', 'new jersey ', 'san jose']\n"
     ]
    }
   ],
   "source": [
    "print(city_in_usa)"
   ]
  },
  {
   "cell_type": "code",
   "execution_count": 35,
   "id": "5a4a0bd5",
   "metadata": {},
   "outputs": [
    {
     "name": "stdout",
     "output_type": "stream",
     "text": [
      "<class 'list'>\n"
     ]
    }
   ],
   "source": [
    "print(type(city_in_usa))"
   ]
  },
  {
   "cell_type": "code",
   "execution_count": 36,
   "id": "0899589d",
   "metadata": {},
   "outputs": [],
   "source": [
    "city_in_usa.remove(\"minnesota\")"
   ]
  },
  {
   "cell_type": "code",
   "execution_count": 37,
   "id": "b6065874",
   "metadata": {},
   "outputs": [
    {
     "name": "stdout",
     "output_type": "stream",
     "text": [
      "['california', 'new york', 'new jersey ', 'san jose']\n"
     ]
    }
   ],
   "source": [
    "print(city_in_usa)"
   ]
  },
  {
   "cell_type": "code",
   "execution_count": null,
   "id": "c030051e",
   "metadata": {},
   "outputs": [],
   "source": []
  },
  {
   "cell_type": "markdown",
   "id": "53dbf65c",
   "metadata": {},
   "source": [
    "Converting tuple to list and list back to tuple after appending"
   ]
  },
  {
   "cell_type": "code",
   "execution_count": null,
   "id": "c72a88e4",
   "metadata": {},
   "outputs": [],
   "source": []
  },
  {
   "cell_type": "code",
   "execution_count": 38,
   "id": "1ca7ba8e",
   "metadata": {},
   "outputs": [],
   "source": [
    "new_tuple = (3,4,5,6,8)"
   ]
  },
  {
   "cell_type": "code",
   "execution_count": 42,
   "id": "3ba09e35",
   "metadata": {},
   "outputs": [],
   "source": [
    "convert_tuple_to_list = list(new_tuple)"
   ]
  },
  {
   "cell_type": "code",
   "execution_count": 45,
   "id": "8a0eff1d",
   "metadata": {
    "scrolled": true
   },
   "outputs": [
    {
     "name": "stdout",
     "output_type": "stream",
     "text": [
      "[3, 4, 5, 6, 8]\n"
     ]
    }
   ],
   "source": [
    "print(convert_tuple_to_list)"
   ]
  },
  {
   "cell_type": "code",
   "execution_count": 46,
   "id": "948d67bc",
   "metadata": {},
   "outputs": [],
   "source": [
    "convert_tuple_to_list.append(10)"
   ]
  },
  {
   "cell_type": "code",
   "execution_count": 48,
   "id": "bd77b30f",
   "metadata": {
    "scrolled": true
   },
   "outputs": [
    {
     "name": "stdout",
     "output_type": "stream",
     "text": [
      "[3, 4, 5, 6, 8, 10]\n"
     ]
    }
   ],
   "source": [
    "print(convert_tuple_to_list)"
   ]
  },
  {
   "cell_type": "code",
   "execution_count": 56,
   "id": "2ba2caa8",
   "metadata": {},
   "outputs": [
    {
     "name": "stdout",
     "output_type": "stream",
     "text": [
      "<class 'list'>\n"
     ]
    }
   ],
   "source": [
    "print(type(convert_tuple_to_list))"
   ]
  },
  {
   "cell_type": "code",
   "execution_count": null,
   "id": "11b12537",
   "metadata": {},
   "outputs": [],
   "source": []
  },
  {
   "cell_type": "code",
   "execution_count": null,
   "id": "01a24076",
   "metadata": {},
   "outputs": [],
   "source": []
  },
  {
   "cell_type": "code",
   "execution_count": 49,
   "id": "4a21a868",
   "metadata": {},
   "outputs": [],
   "source": [
    "tuple2 = (20, 33, 60, 49)"
   ]
  },
  {
   "cell_type": "code",
   "execution_count": 50,
   "id": "e2a3441e",
   "metadata": {},
   "outputs": [
    {
     "name": "stdout",
     "output_type": "stream",
     "text": [
      "<class 'tuple'>\n"
     ]
    }
   ],
   "source": [
    "print(type(tuple2))"
   ]
  },
  {
   "cell_type": "code",
   "execution_count": 51,
   "id": "a0f6fbf6",
   "metadata": {},
   "outputs": [
    {
     "name": "stdout",
     "output_type": "stream",
     "text": [
      "(20, 33, 60, 49)\n"
     ]
    }
   ],
   "source": [
    "print(tuple2)"
   ]
  },
  {
   "cell_type": "code",
   "execution_count": 57,
   "id": "40c4e05b",
   "metadata": {},
   "outputs": [],
   "source": [
    "convert_tuple2_to_list = list(tuple2)"
   ]
  },
  {
   "cell_type": "code",
   "execution_count": 58,
   "id": "c7257aab",
   "metadata": {},
   "outputs": [
    {
     "name": "stdout",
     "output_type": "stream",
     "text": [
      "<class 'list'>\n"
     ]
    }
   ],
   "source": [
    "print(type(convert_tuple2_to_list))"
   ]
  },
  {
   "cell_type": "code",
   "execution_count": 59,
   "id": "68067bba",
   "metadata": {},
   "outputs": [],
   "source": [
    "convert_tuple_to_list.append(100)"
   ]
  },
  {
   "cell_type": "code",
   "execution_count": 60,
   "id": "d93bf6c5",
   "metadata": {},
   "outputs": [
    {
     "name": "stdout",
     "output_type": "stream",
     "text": [
      "[3, 4, 5, 6, 8, 10, 100]\n"
     ]
    }
   ],
   "source": [
    "print(convert_tuple_to_list)"
   ]
  },
  {
   "cell_type": "code",
   "execution_count": null,
   "id": "f2d23d26",
   "metadata": {},
   "outputs": [],
   "source": []
  },
  {
   "cell_type": "code",
   "execution_count": 63,
   "id": "c98fce20",
   "metadata": {},
   "outputs": [],
   "source": [
    "convert_list_to_tuple = tuple(convert_tuple_to_list)"
   ]
  },
  {
   "cell_type": "code",
   "execution_count": 64,
   "id": "4d422ca7",
   "metadata": {},
   "outputs": [
    {
     "name": "stdout",
     "output_type": "stream",
     "text": [
      "<class 'tuple'>\n"
     ]
    }
   ],
   "source": [
    "print(type(convert_list_to_tuple))"
   ]
  },
  {
   "cell_type": "code",
   "execution_count": 68,
   "id": "3fcc7293",
   "metadata": {},
   "outputs": [
    {
     "name": "stdout",
     "output_type": "stream",
     "text": [
      "(3, 4, 5, 6, 8, 10, 100)\n"
     ]
    }
   ],
   "source": [
    "print(convert_list_to_tuple)"
   ]
  },
  {
   "cell_type": "code",
   "execution_count": null,
   "id": "5553350c",
   "metadata": {},
   "outputs": [],
   "source": []
  },
  {
   "cell_type": "markdown",
   "id": "8285667d",
   "metadata": {},
   "source": [
    "Converting tuple to list and list back to tuple after appending"
   ]
  },
  {
   "cell_type": "code",
   "execution_count": 10,
   "id": "9ac7686f",
   "metadata": {},
   "outputs": [],
   "source": [
    "new_tuple =(4, 6, 8, 3, 1)"
   ]
  },
  {
   "cell_type": "code",
   "execution_count": 11,
   "id": "6545fd6e",
   "metadata": {},
   "outputs": [
    {
     "name": "stdout",
     "output_type": "stream",
     "text": [
      "(4, 6, 8, 3, 1)\n"
     ]
    }
   ],
   "source": [
    "print(new_tuple)"
   ]
  },
  {
   "cell_type": "code",
   "execution_count": 12,
   "id": "f5e768f1",
   "metadata": {},
   "outputs": [
    {
     "name": "stdout",
     "output_type": "stream",
     "text": [
      "<class 'tuple'>\n"
     ]
    }
   ],
   "source": [
    "print(type(new_tuple))"
   ]
  },
  {
   "cell_type": "code",
   "execution_count": 14,
   "id": "23df38ea",
   "metadata": {},
   "outputs": [],
   "source": [
    "convert_tuple_to_list = list(new_tuple)"
   ]
  },
  {
   "cell_type": "code",
   "execution_count": 15,
   "id": "a197558f",
   "metadata": {},
   "outputs": [
    {
     "name": "stdout",
     "output_type": "stream",
     "text": [
      "[4, 6, 8, 3, 1]\n"
     ]
    }
   ],
   "source": [
    "print(convert_tuple_to_list)"
   ]
  },
  {
   "cell_type": "code",
   "execution_count": 16,
   "id": "fa36aea6",
   "metadata": {},
   "outputs": [
    {
     "name": "stdout",
     "output_type": "stream",
     "text": [
      "<class 'list'>\n"
     ]
    }
   ],
   "source": [
    "print(type(convert_tuple_to_list))"
   ]
  },
  {
   "cell_type": "code",
   "execution_count": 17,
   "id": "cb449944",
   "metadata": {},
   "outputs": [],
   "source": [
    "convert_tuple_to_list.append(40)"
   ]
  },
  {
   "cell_type": "code",
   "execution_count": 19,
   "id": "a6129e6c",
   "metadata": {},
   "outputs": [
    {
     "name": "stdout",
     "output_type": "stream",
     "text": [
      "[4, 6, 8, 3, 1, 40]\n"
     ]
    }
   ],
   "source": [
    "print(convert_tuple_to_list)"
   ]
  },
  {
   "cell_type": "code",
   "execution_count": null,
   "id": "7935d1d6",
   "metadata": {},
   "outputs": [],
   "source": []
  },
  {
   "cell_type": "code",
   "execution_count": 20,
   "id": "d6a43588",
   "metadata": {},
   "outputs": [],
   "source": [
    "convert_list_to_tuple = tuple(convert_tuple_to_list)"
   ]
  },
  {
   "cell_type": "code",
   "execution_count": 21,
   "id": "4cca980c",
   "metadata": {},
   "outputs": [
    {
     "name": "stdout",
     "output_type": "stream",
     "text": [
      "(4, 6, 8, 3, 1, 40)\n"
     ]
    }
   ],
   "source": [
    "print(convert_list_to_tuple)"
   ]
  },
  {
   "cell_type": "code",
   "execution_count": 22,
   "id": "44e622c3",
   "metadata": {},
   "outputs": [
    {
     "name": "stdout",
     "output_type": "stream",
     "text": [
      "<class 'tuple'>\n"
     ]
    }
   ],
   "source": [
    "print(type(convert_list_to_tuple))"
   ]
  },
  {
   "cell_type": "code",
   "execution_count": null,
   "id": "42295a40",
   "metadata": {},
   "outputs": [],
   "source": []
  },
  {
   "cell_type": "markdown",
   "id": "d6aa9b91",
   "metadata": {},
   "source": [
    "Python indexing"
   ]
  },
  {
   "cell_type": "code",
   "execution_count": 30,
   "id": "8c6084d7",
   "metadata": {},
   "outputs": [],
   "source": [
    "first_name = \"evans\""
   ]
  },
  {
   "cell_type": "code",
   "execution_count": 31,
   "id": "d63f4281",
   "metadata": {},
   "outputs": [],
   "source": [
    "s_index = first_name[4]"
   ]
  },
  {
   "cell_type": "code",
   "execution_count": 32,
   "id": "eb95ab08",
   "metadata": {},
   "outputs": [
    {
     "name": "stdout",
     "output_type": "stream",
     "text": [
      "evans\n"
     ]
    }
   ],
   "source": [
    "print(first_name)"
   ]
  },
  {
   "cell_type": "code",
   "execution_count": 33,
   "id": "cad5e6c7",
   "metadata": {},
   "outputs": [
    {
     "data": {
      "text/plain": [
       "'eva'"
      ]
     },
     "execution_count": 33,
     "metadata": {},
     "output_type": "execute_result"
    }
   ],
   "source": [
    "first_name[:3]"
   ]
  },
  {
   "cell_type": "code",
   "execution_count": 34,
   "id": "755a35bb",
   "metadata": {},
   "outputs": [
    {
     "data": {
      "text/plain": [
       "'s'"
      ]
     },
     "execution_count": 34,
     "metadata": {},
     "output_type": "execute_result"
    }
   ],
   "source": [
    "first_name[-1]"
   ]
  },
  {
   "cell_type": "code",
   "execution_count": 35,
   "id": "859d22a6",
   "metadata": {},
   "outputs": [
    {
     "name": "stdout",
     "output_type": "stream",
     "text": [
      "e\n"
     ]
    }
   ],
   "source": [
    "print(first_name[0])"
   ]
  },
  {
   "cell_type": "code",
   "execution_count": 36,
   "id": "d71dbe54",
   "metadata": {},
   "outputs": [
    {
     "name": "stdout",
     "output_type": "stream",
     "text": [
      "eva\n"
     ]
    }
   ],
   "source": [
    "print(first_name[0:3])"
   ]
  },
  {
   "cell_type": "code",
   "execution_count": 37,
   "id": "73fb6f45",
   "metadata": {},
   "outputs": [
    {
     "name": "stdout",
     "output_type": "stream",
     "text": [
      "ns\n"
     ]
    }
   ],
   "source": [
    "print(first_name[3:6])"
   ]
  },
  {
   "cell_type": "code",
   "execution_count": null,
   "id": "f05c1390",
   "metadata": {},
   "outputs": [],
   "source": []
  },
  {
   "cell_type": "markdown",
   "id": "4e77f32a",
   "metadata": {},
   "source": [
    "Counting total characters in a string or total element in a list using len() function"
   ]
  },
  {
   "cell_type": "code",
   "execution_count": 38,
   "id": "66818180",
   "metadata": {},
   "outputs": [],
   "source": [
    "middle_name = \"john\""
   ]
  },
  {
   "cell_type": "code",
   "execution_count": 39,
   "id": "7a902d1f",
   "metadata": {},
   "outputs": [],
   "source": [
    "total_alphabet = len(middle_name)"
   ]
  },
  {
   "cell_type": "code",
   "execution_count": 40,
   "id": "59a0225c",
   "metadata": {},
   "outputs": [
    {
     "name": "stdout",
     "output_type": "stream",
     "text": [
      "4\n"
     ]
    }
   ],
   "source": [
    "print(total_alphabet)"
   ]
  },
  {
   "cell_type": "code",
   "execution_count": null,
   "id": "a571f507",
   "metadata": {},
   "outputs": [],
   "source": []
  },
  {
   "cell_type": "code",
   "execution_count": 48,
   "id": "cdb4b85c",
   "metadata": {},
   "outputs": [],
   "source": [
    "numbers = [20, 40, 59, 2, 33, 59, 11, 60]"
   ]
  },
  {
   "cell_type": "code",
   "execution_count": 49,
   "id": "0da3c651",
   "metadata": {},
   "outputs": [],
   "source": [
    "total_numbers = len(numbers)"
   ]
  },
  {
   "cell_type": "code",
   "execution_count": 50,
   "id": "7e7a0218",
   "metadata": {},
   "outputs": [
    {
     "name": "stdout",
     "output_type": "stream",
     "text": [
      "8\n"
     ]
    }
   ],
   "source": [
    "print(total_numbers)"
   ]
  },
  {
   "cell_type": "code",
   "execution_count": 54,
   "id": "f3493db8",
   "metadata": {},
   "outputs": [
    {
     "name": "stdout",
     "output_type": "stream",
     "text": [
      "<class 'list'>\n"
     ]
    }
   ],
   "source": [
    "print(type(numbers))"
   ]
  },
  {
   "cell_type": "code",
   "execution_count": null,
   "id": "4c1b05f1",
   "metadata": {},
   "outputs": [],
   "source": []
  },
  {
   "cell_type": "code",
   "execution_count": 120,
   "id": "c9a42431",
   "metadata": {},
   "outputs": [],
   "source": [
    "full_name = \"evans ehis\""
   ]
  },
  {
   "cell_type": "code",
   "execution_count": 121,
   "id": "b47d7cd0",
   "metadata": {},
   "outputs": [
    {
     "name": "stdout",
     "output_type": "stream",
     "text": [
      "10\n"
     ]
    }
   ],
   "source": [
    "print(len(full_name))"
   ]
  },
  {
   "cell_type": "code",
   "execution_count": 47,
   "id": "15ddf251",
   "metadata": {},
   "outputs": [
    {
     "name": "stdout",
     "output_type": "stream",
     "text": [
      "<class 'str'>\n"
     ]
    }
   ],
   "source": [
    "print(type(full_name))"
   ]
  },
  {
   "cell_type": "code",
   "execution_count": null,
   "id": "6db2adf9",
   "metadata": {},
   "outputs": [],
   "source": []
  },
  {
   "cell_type": "code",
   "execution_count": null,
   "id": "9e9de550",
   "metadata": {},
   "outputs": [],
   "source": []
  },
  {
   "cell_type": "code",
   "execution_count": 56,
   "id": "7fcdd4f3",
   "metadata": {},
   "outputs": [],
   "source": [
    "nested_list = [4, 6, 10, 89, \"evans\", 80, \"john\", 11, 100, [3, 8, 90]]"
   ]
  },
  {
   "cell_type": "code",
   "execution_count": 57,
   "id": "ac3951ba",
   "metadata": {},
   "outputs": [
    {
     "name": "stdout",
     "output_type": "stream",
     "text": [
      "<class 'list'>\n"
     ]
    }
   ],
   "source": [
    "print(type(nested_list))"
   ]
  },
  {
   "cell_type": "code",
   "execution_count": 58,
   "id": "f8beaa42",
   "metadata": {},
   "outputs": [
    {
     "name": "stdout",
     "output_type": "stream",
     "text": [
      "[4, 6, 10, 89, 'evans', 80, 'john', 11, 100, [3, 8, 90]]\n"
     ]
    }
   ],
   "source": [
    "print(nested_list)"
   ]
  },
  {
   "cell_type": "code",
   "execution_count": 59,
   "id": "e56493e6",
   "metadata": {},
   "outputs": [
    {
     "name": "stdout",
     "output_type": "stream",
     "text": [
      "10\n"
     ]
    }
   ],
   "source": [
    "print(len(nested_list))"
   ]
  },
  {
   "cell_type": "code",
   "execution_count": null,
   "id": "0313c661",
   "metadata": {},
   "outputs": [],
   "source": []
  },
  {
   "cell_type": "markdown",
   "id": "7f77cac9",
   "metadata": {},
   "source": [
    "Sorting in Python"
   ]
  },
  {
   "cell_type": "code",
   "execution_count": 60,
   "id": "2bd71e96",
   "metadata": {},
   "outputs": [],
   "source": [
    "numbers = [90, 87, 55, 7, 34, 67, 10]"
   ]
  },
  {
   "cell_type": "code",
   "execution_count": 61,
   "id": "9f4216ac",
   "metadata": {},
   "outputs": [],
   "source": [
    "numbers.sort()"
   ]
  },
  {
   "cell_type": "code",
   "execution_count": 62,
   "id": "5c3f5c61",
   "metadata": {},
   "outputs": [
    {
     "name": "stdout",
     "output_type": "stream",
     "text": [
      "[7, 10, 34, 55, 67, 87, 90]\n"
     ]
    }
   ],
   "source": [
    "print(numbers)"
   ]
  },
  {
   "cell_type": "code",
   "execution_count": null,
   "id": "90c5143d",
   "metadata": {},
   "outputs": [],
   "source": []
  },
  {
   "cell_type": "code",
   "execution_count": 63,
   "id": "63e07a01",
   "metadata": {},
   "outputs": [],
   "source": [
    "numbers.sort(reverse = True)"
   ]
  },
  {
   "cell_type": "code",
   "execution_count": 64,
   "id": "815d8725",
   "metadata": {},
   "outputs": [
    {
     "name": "stdout",
     "output_type": "stream",
     "text": [
      "[90, 87, 67, 55, 34, 10, 7]\n"
     ]
    }
   ],
   "source": [
    "print(numbers)"
   ]
  },
  {
   "cell_type": "code",
   "execution_count": null,
   "id": "66a30ba5",
   "metadata": {},
   "outputs": [],
   "source": []
  },
  {
   "cell_type": "markdown",
   "id": "76954adc",
   "metadata": {},
   "source": [
    "Accessing an item from a nested list"
   ]
  },
  {
   "cell_type": "code",
   "execution_count": 66,
   "id": "b5c28c22",
   "metadata": {},
   "outputs": [],
   "source": [
    "nested_1 = [50, 58, 48, 90, [20, 65, 90]]"
   ]
  },
  {
   "cell_type": "code",
   "execution_count": 67,
   "id": "ed0f9915",
   "metadata": {},
   "outputs": [
    {
     "name": "stdout",
     "output_type": "stream",
     "text": [
      "[50, 58, 48, 90, [20, 65, 90]]\n"
     ]
    }
   ],
   "source": [
    "print(nested_1)"
   ]
  },
  {
   "cell_type": "code",
   "execution_count": 68,
   "id": "c5d984e1",
   "metadata": {},
   "outputs": [
    {
     "name": "stdout",
     "output_type": "stream",
     "text": [
      "90\n"
     ]
    }
   ],
   "source": [
    "print(nested_1[3])"
   ]
  },
  {
   "cell_type": "code",
   "execution_count": 76,
   "id": "53c6e6cc",
   "metadata": {},
   "outputs": [
    {
     "name": "stdout",
     "output_type": "stream",
     "text": [
      "20\n"
     ]
    }
   ],
   "source": [
    "print(nested_1[4][0])"
   ]
  },
  {
   "cell_type": "code",
   "execution_count": 78,
   "id": "911ba38a",
   "metadata": {},
   "outputs": [
    {
     "name": "stdout",
     "output_type": "stream",
     "text": [
      "90\n"
     ]
    }
   ],
   "source": [
    "print(nested_1[4][2])"
   ]
  },
  {
   "cell_type": "code",
   "execution_count": null,
   "id": "5ea455e9",
   "metadata": {},
   "outputs": [],
   "source": []
  },
  {
   "cell_type": "code",
   "execution_count": 79,
   "id": "8a42e5b4",
   "metadata": {},
   "outputs": [],
   "source": [
    "nested_2 = [44, 78, 21, 39, 0, [45, 89, 24, [98, 63, 20]]]"
   ]
  },
  {
   "cell_type": "code",
   "execution_count": 80,
   "id": "9787d5a9",
   "metadata": {},
   "outputs": [
    {
     "name": "stdout",
     "output_type": "stream",
     "text": [
      "[44, 78, 21, 39, 0, [45, 89, 24, [98, 63, 20]]]\n"
     ]
    }
   ],
   "source": [
    "print(nested_2)"
   ]
  },
  {
   "cell_type": "code",
   "execution_count": 81,
   "id": "62cc7135",
   "metadata": {},
   "outputs": [
    {
     "name": "stdout",
     "output_type": "stream",
     "text": [
      "<class 'list'>\n"
     ]
    }
   ],
   "source": [
    "print(type(nested_2))"
   ]
  },
  {
   "cell_type": "code",
   "execution_count": 82,
   "id": "03dbf9d3",
   "metadata": {},
   "outputs": [
    {
     "name": "stdout",
     "output_type": "stream",
     "text": [
      "24\n"
     ]
    }
   ],
   "source": [
    "print(nested_2[5][2])"
   ]
  },
  {
   "cell_type": "code",
   "execution_count": 86,
   "id": "f6acad4a",
   "metadata": {},
   "outputs": [
    {
     "name": "stdout",
     "output_type": "stream",
     "text": [
      "89\n"
     ]
    }
   ],
   "source": [
    "print(nested_2[5][1])"
   ]
  },
  {
   "cell_type": "code",
   "execution_count": 88,
   "id": "83b652f9",
   "metadata": {},
   "outputs": [
    {
     "name": "stdout",
     "output_type": "stream",
     "text": [
      "[45, 89, 24, [98, 63, 20]]\n"
     ]
    }
   ],
   "source": [
    "print(nested_2[-1])"
   ]
  },
  {
   "cell_type": "code",
   "execution_count": 90,
   "id": "d3d589a8",
   "metadata": {},
   "outputs": [
    {
     "name": "stdout",
     "output_type": "stream",
     "text": [
      "98\n"
     ]
    }
   ],
   "source": [
    "print(nested_2[5][3][0])"
   ]
  },
  {
   "cell_type": "code",
   "execution_count": null,
   "id": "975c8ead",
   "metadata": {},
   "outputs": [],
   "source": []
  },
  {
   "cell_type": "code",
   "execution_count": 91,
   "id": "174f1937",
   "metadata": {},
   "outputs": [],
   "source": [
    "nested_3 = [59, 78, 81, [95, 32, 21, [11, 15, 18, [69,47,24]]]]"
   ]
  },
  {
   "cell_type": "code",
   "execution_count": 92,
   "id": "bcb5505e",
   "metadata": {},
   "outputs": [
    {
     "name": "stdout",
     "output_type": "stream",
     "text": [
      "[59, 78, 81, [95, 32, 21, [11, 15, 18, [69, 47, 24]]]]\n"
     ]
    }
   ],
   "source": [
    "print(nested_3)"
   ]
  },
  {
   "cell_type": "code",
   "execution_count": 95,
   "id": "45a43519",
   "metadata": {},
   "outputs": [
    {
     "name": "stdout",
     "output_type": "stream",
     "text": [
      "59\n"
     ]
    }
   ],
   "source": [
    "print(nested_3[0])"
   ]
  },
  {
   "cell_type": "code",
   "execution_count": 97,
   "id": "1eef4ffe",
   "metadata": {},
   "outputs": [
    {
     "name": "stdout",
     "output_type": "stream",
     "text": [
      "32\n"
     ]
    }
   ],
   "source": [
    "print(nested_3[3][1])"
   ]
  },
  {
   "cell_type": "code",
   "execution_count": 101,
   "id": "27794d19",
   "metadata": {},
   "outputs": [
    {
     "name": "stdout",
     "output_type": "stream",
     "text": [
      "[95, 32, 21, [11, 15, 18, [69, 47, 24]]]\n"
     ]
    }
   ],
   "source": [
    "print(nested_3[3])"
   ]
  },
  {
   "cell_type": "code",
   "execution_count": 102,
   "id": "78e6c122",
   "metadata": {},
   "outputs": [
    {
     "name": "stdout",
     "output_type": "stream",
     "text": [
      "32\n"
     ]
    }
   ],
   "source": [
    "print(nested_3[3][1])"
   ]
  },
  {
   "cell_type": "code",
   "execution_count": 103,
   "id": "439a4e06",
   "metadata": {},
   "outputs": [
    {
     "name": "stdout",
     "output_type": "stream",
     "text": [
      "15\n"
     ]
    }
   ],
   "source": [
    "print(nested_3[3][3][1])"
   ]
  },
  {
   "cell_type": "code",
   "execution_count": null,
   "id": "11b09ac8",
   "metadata": {},
   "outputs": [],
   "source": []
  },
  {
   "cell_type": "markdown",
   "id": "c768ae03",
   "metadata": {},
   "source": [
    "Adding 2 or more list together"
   ]
  },
  {
   "cell_type": "code",
   "execution_count": 104,
   "id": "49a65f94",
   "metadata": {},
   "outputs": [],
   "source": [
    "list_1 = [60, 89]\n",
    "list_2 = [90,24]"
   ]
  },
  {
   "cell_type": "code",
   "execution_count": 105,
   "id": "5878617b",
   "metadata": {},
   "outputs": [
    {
     "name": "stdout",
     "output_type": "stream",
     "text": [
      "[60, 89, 90, 24]\n"
     ]
    }
   ],
   "source": [
    "print(list_1 + list_2)"
   ]
  },
  {
   "cell_type": "code",
   "execution_count": 108,
   "id": "c71a6672",
   "metadata": {},
   "outputs": [
    {
     "name": "stdout",
     "output_type": "stream",
     "text": [
      "89\n"
     ]
    }
   ],
   "source": [
    "print(list_1[1])"
   ]
  },
  {
   "cell_type": "code",
   "execution_count": null,
   "id": "7b09fd2f",
   "metadata": {},
   "outputs": [],
   "source": []
  },
  {
   "cell_type": "markdown",
   "id": "7280ae49",
   "metadata": {},
   "source": [
    "Empty list operation"
   ]
  },
  {
   "cell_type": "code",
   "execution_count": 109,
   "id": "d7a99a8a",
   "metadata": {},
   "outputs": [],
   "source": [
    "empty_list = []"
   ]
  },
  {
   "cell_type": "code",
   "execution_count": 110,
   "id": "07b75cdd",
   "metadata": {},
   "outputs": [
    {
     "name": "stdout",
     "output_type": "stream",
     "text": [
      "[]\n"
     ]
    }
   ],
   "source": [
    "print(empty_list)"
   ]
  },
  {
   "cell_type": "code",
   "execution_count": 111,
   "id": "7d198e3c",
   "metadata": {},
   "outputs": [
    {
     "name": "stdout",
     "output_type": "stream",
     "text": [
      "<class 'list'>\n"
     ]
    }
   ],
   "source": [
    "print(type(empty_list))"
   ]
  },
  {
   "cell_type": "code",
   "execution_count": 112,
   "id": "27db827c",
   "metadata": {},
   "outputs": [],
   "source": [
    "empty_list.append(45)"
   ]
  },
  {
   "cell_type": "code",
   "execution_count": 113,
   "id": "c75b9cdd",
   "metadata": {},
   "outputs": [
    {
     "name": "stdout",
     "output_type": "stream",
     "text": [
      "[45]\n"
     ]
    }
   ],
   "source": [
    "print(empty_list)"
   ]
  },
  {
   "cell_type": "code",
   "execution_count": 114,
   "id": "27ae9dd3",
   "metadata": {},
   "outputs": [],
   "source": [
    "empty_list.append(109)"
   ]
  },
  {
   "cell_type": "code",
   "execution_count": 115,
   "id": "219ea358",
   "metadata": {},
   "outputs": [],
   "source": [
    "empty_list.append(26)"
   ]
  },
  {
   "cell_type": "code",
   "execution_count": 116,
   "id": "93bbc8d6",
   "metadata": {},
   "outputs": [],
   "source": [
    "empty_list.append(78)"
   ]
  },
  {
   "cell_type": "code",
   "execution_count": 117,
   "id": "396a8013",
   "metadata": {},
   "outputs": [
    {
     "name": "stdout",
     "output_type": "stream",
     "text": [
      "[45, 109, 26, 78]\n"
     ]
    }
   ],
   "source": [
    "print(empty_list)"
   ]
  },
  {
   "cell_type": "code",
   "execution_count": 118,
   "id": "8ccef979",
   "metadata": {},
   "outputs": [],
   "source": [
    "empty_list.remove(26)"
   ]
  },
  {
   "cell_type": "code",
   "execution_count": 119,
   "id": "03a29b81",
   "metadata": {},
   "outputs": [
    {
     "name": "stdout",
     "output_type": "stream",
     "text": [
      "[45, 109, 78]\n"
     ]
    }
   ],
   "source": [
    "print(empty_list)"
   ]
  },
  {
   "cell_type": "code",
   "execution_count": null,
   "id": "6c83e4fd",
   "metadata": {},
   "outputs": [],
   "source": []
  },
  {
   "cell_type": "markdown",
   "id": "44d60ea2",
   "metadata": {},
   "source": [
    "Re-assignment of elements in a list"
   ]
  },
  {
   "cell_type": "code",
   "execution_count": null,
   "id": "5c784ab4",
   "metadata": {},
   "outputs": [],
   "source": []
  }
 ],
 "metadata": {
  "kernelspec": {
   "display_name": "Python 3 (ipykernel)",
   "language": "python",
   "name": "python3"
  },
  "language_info": {
   "codemirror_mode": {
    "name": "ipython",
    "version": 3
   },
   "file_extension": ".py",
   "mimetype": "text/x-python",
   "name": "python",
   "nbconvert_exporter": "python",
   "pygments_lexer": "ipython3",
   "version": "3.10.4"
  }
 },
 "nbformat": 4,
 "nbformat_minor": 5
}
