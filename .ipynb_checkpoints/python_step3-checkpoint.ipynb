{
 "cells": [
  {
   "cell_type": "markdown",
   "id": "10a49968",
   "metadata": {},
   "source": [
    "Logical operators in python"
   ]
  },
  {
   "cell_type": "code",
   "execution_count": null,
   "id": "7ccf1a13",
   "metadata": {},
   "outputs": [],
   "source": []
  },
  {
   "cell_type": "code",
   "execution_count": 1,
   "id": "6b7e962e",
   "metadata": {},
   "outputs": [
    {
     "name": "stdout",
     "output_type": "stream",
     "text": [
      "True\n"
     ]
    }
   ],
   "source": [
    "print((20 > 30) or (15 < 30))"
   ]
  },
  {
   "cell_type": "code",
   "execution_count": 2,
   "id": "1797eb6c",
   "metadata": {},
   "outputs": [
    {
     "name": "stdout",
     "output_type": "stream",
     "text": [
      "False\n"
     ]
    }
   ],
   "source": [
    "print((20 > 30) and (15 < 30))"
   ]
  },
  {
   "cell_type": "code",
   "execution_count": null,
   "id": "28a28ded",
   "metadata": {},
   "outputs": [],
   "source": []
  },
  {
   "cell_type": "code",
   "execution_count": 3,
   "id": "d603926a",
   "metadata": {},
   "outputs": [],
   "source": [
    "names = [\"evans\", \"john\"]"
   ]
  },
  {
   "cell_type": "code",
   "execution_count": 6,
   "id": "b7406ed0",
   "metadata": {},
   "outputs": [
    {
     "name": "stdout",
     "output_type": "stream",
     "text": [
      "False\n"
     ]
    }
   ],
   "source": [
    "print((\"evans\" in names) and (\"johnn\" in names))"
   ]
  },
  {
   "cell_type": "code",
   "execution_count": null,
   "id": "4eaedf6b",
   "metadata": {},
   "outputs": [],
   "source": []
  },
  {
   "cell_type": "code",
   "execution_count": 8,
   "id": "64e55783",
   "metadata": {},
   "outputs": [
    {
     "name": "stdout",
     "output_type": "stream",
     "text": [
      "True\n"
     ]
    }
   ],
   "source": [
    "print((\"evans\" in names) or (\"johnn\" in names))"
   ]
  },
  {
   "cell_type": "code",
   "execution_count": null,
   "id": "213c970a",
   "metadata": {},
   "outputs": [],
   "source": []
  },
  {
   "cell_type": "markdown",
   "id": "7e884e75",
   "metadata": {},
   "source": [
    "if and else statement"
   ]
  },
  {
   "cell_type": "code",
   "execution_count": 14,
   "id": "4e6d095f",
   "metadata": {},
   "outputs": [
    {
     "name": "stdout",
     "output_type": "stream",
     "text": [
      "how old are you:           22\n",
      "you are qulified to register\n"
     ]
    }
   ],
   "source": [
    "age = int(input(\"how old are you:           \"))\n",
    "Threshold = 18\n",
    "\n",
    "if age > Threshold:\n",
    "    print(\"you are qulified to register\")\n",
    "else:\n",
    "    print(\"you are not qualified\")"
   ]
  },
  {
   "cell_type": "code",
   "execution_count": null,
   "id": "08420279",
   "metadata": {},
   "outputs": [],
   "source": []
  },
  {
   "cell_type": "code",
   "execution_count": 16,
   "id": "570bbc06",
   "metadata": {},
   "outputs": [
    {
     "name": "stdout",
     "output_type": "stream",
     "text": [
      "how are you:       17\n",
      "you are not elligible to watch this movie\n"
     ]
    }
   ],
   "source": [
    "age_allowed_to_access_this_movie = int(input(\"how are you:       \"))\n",
    "\n",
    "if age_allowed_to_access_this_movie >= 18:\n",
    "    print(\"you are eligible to watch this movie\")\n",
    "else:\n",
    "    print(\"you are not elligible to watch this movie\")"
   ]
  },
  {
   "cell_type": "code",
   "execution_count": null,
   "id": "901ccbba",
   "metadata": {},
   "outputs": [],
   "source": []
  },
  {
   "cell_type": "code",
   "execution_count": 17,
   "id": "da723749",
   "metadata": {},
   "outputs": [],
   "source": [
    "number = 2000"
   ]
  },
  {
   "cell_type": "code",
   "execution_count": 20,
   "id": "60d97dfe",
   "metadata": {},
   "outputs": [
    {
     "name": "stdout",
     "output_type": "stream",
     "text": [
      "its not correct\n"
     ]
    }
   ],
   "source": [
    "if number >= 5000:\n",
    "    print(\"yes its correct\")\n",
    "else:\n",
    "    print(\"its not correct\")"
   ]
  },
  {
   "cell_type": "code",
   "execution_count": null,
   "id": "71a17eda",
   "metadata": {},
   "outputs": [],
   "source": []
  },
  {
   "cell_type": "code",
   "execution_count": null,
   "id": "1c3d440e",
   "metadata": {},
   "outputs": [],
   "source": []
  },
  {
   "cell_type": "code",
   "execution_count": null,
   "id": "c4b7f04c",
   "metadata": {},
   "outputs": [],
   "source": []
  },
  {
   "cell_type": "code",
   "execution_count": null,
   "id": "58ccdd68",
   "metadata": {},
   "outputs": [],
   "source": []
  },
  {
   "cell_type": "code",
   "execution_count": null,
   "id": "c1f6bb73",
   "metadata": {},
   "outputs": [],
   "source": []
  },
  {
   "cell_type": "code",
   "execution_count": null,
   "id": "15d61c50",
   "metadata": {},
   "outputs": [],
   "source": []
  },
  {
   "cell_type": "code",
   "execution_count": null,
   "id": "c9d5aab1",
   "metadata": {},
   "outputs": [],
   "source": []
  },
  {
   "cell_type": "code",
   "execution_count": null,
   "id": "2693da3b",
   "metadata": {},
   "outputs": [],
   "source": []
  },
  {
   "cell_type": "code",
   "execution_count": null,
   "id": "57daaf71",
   "metadata": {},
   "outputs": [],
   "source": []
  },
  {
   "cell_type": "code",
   "execution_count": 50,
   "id": "22576a32",
   "metadata": {},
   "outputs": [
    {
     "name": "stdout",
     "output_type": "stream",
     "text": [
      "how old are you :      on\n",
      "Please type an integer!!!\n"
     ]
    }
   ],
   "source": [
    "age_allowed_to_access_movie = input(\"how old are you :      \")\n",
    "\n",
    "if type(age_allowed_to_access_movie) != int:\n",
    "    \n",
    "    print(\"Please type an integer!!!\")\n",
    "    age_allowed_to_access_movie"
   ]
  },
  {
   "cell_type": "code",
   "execution_count": null,
   "id": "daf2c0cb",
   "metadata": {},
   "outputs": [],
   "source": [
    "age_allowed_to_access_movie = input(\"how old are you :      \")"
   ]
  },
  {
   "cell_type": "code",
   "execution_count": null,
   "id": "33aa8f77",
   "metadata": {},
   "outputs": [],
   "source": []
  },
  {
   "cell_type": "code",
   "execution_count": 53,
   "id": "43783202",
   "metadata": {},
   "outputs": [
    {
     "name": "stdout",
     "output_type": "stream",
     "text": [
      "yes its less\n",
      "yes its less\n",
      "yes its less\n"
     ]
    }
   ],
   "source": [
    "x = 1\n",
    "\n",
    "while x < 4:\n",
    "    print(\"yes its less\")\n",
    "    x = x + 1"
   ]
  },
  {
   "cell_type": "code",
   "execution_count": 73,
   "id": "f402bf7f",
   "metadata": {},
   "outputs": [
    {
     "name": "stdout",
     "output_type": "stream",
     "text": [
      "how old are you:   ghjklkhvfghj\n",
      "Please put a digit number\n",
      "how old are you:   gfhjkljgv\n",
      "Please put a digit number\n",
      "how old are you:   fcghgjk\n",
      "Please put a digit number\n",
      "how old are you:   5\n",
      "Please put a digit number\n",
      "New age after converted is 5\n"
     ]
    }
   ],
   "source": [
    "import logging\n",
    "\n",
    "age = \"None\"\n",
    "\n",
    "while not age.isdigit():\n",
    "    age = input(\"how old are you:   \")\n",
    "    logging.\n",
    "else:\n",
    "    age = int(age)\n",
    "    print(f\"New age after converted is {age}\")\n",
    "    \n",
    "    \n",
    "\n",
    "    "
   ]
  },
  {
   "cell_type": "code",
   "execution_count": 77,
   "id": "5e9ae652",
   "metadata": {},
   "outputs": [],
   "source": [
    "x = \"56789\""
   ]
  },
  {
   "cell_type": "code",
   "execution_count": 62,
   "id": "5115d3be",
   "metadata": {},
   "outputs": [],
   "source": []
  },
  {
   "cell_type": "code",
   "execution_count": 78,
   "id": "9ef87ef2",
   "metadata": {},
   "outputs": [
    {
     "name": "stdout",
     "output_type": "stream",
     "text": [
      "True\n"
     ]
    }
   ],
   "source": [
    "print(x.isdigit())"
   ]
  },
  {
   "cell_type": "code",
   "execution_count": null,
   "id": "888984f9",
   "metadata": {},
   "outputs": [],
   "source": []
  },
  {
   "cell_type": "code",
   "execution_count": 34,
   "id": "4dc8aadb",
   "metadata": {},
   "outputs": [
    {
     "name": "stdout",
     "output_type": "stream",
     "text": [
      "<class 'int'>\n"
     ]
    }
   ],
   "source": [
    "print(type(age_allowed_to_access_movie))"
   ]
  },
  {
   "cell_type": "code",
   "execution_count": null,
   "id": "a12728fd",
   "metadata": {},
   "outputs": [],
   "source": []
  },
  {
   "cell_type": "code",
   "execution_count": 47,
   "id": "f6d1daeb",
   "metadata": {},
   "outputs": [],
   "source": [
    "a = 1\n",
    "b = 'dre'\n",
    "c = 12.5"
   ]
  },
  {
   "cell_type": "code",
   "execution_count": 49,
   "id": "1b6a89d1",
   "metadata": {},
   "outputs": [
    {
     "name": "stdout",
     "output_type": "stream",
     "text": [
      "<class 'str'>\n"
     ]
    }
   ],
   "source": [
    "print(type(b))"
   ]
  },
  {
   "cell_type": "code",
   "execution_count": null,
   "id": "cf11a66c",
   "metadata": {},
   "outputs": [],
   "source": []
  },
  {
   "cell_type": "code",
   "execution_count": null,
   "id": "cd3b93f0",
   "metadata": {},
   "outputs": [],
   "source": []
  },
  {
   "cell_type": "code",
   "execution_count": 85,
   "id": "de89301a",
   "metadata": {},
   "outputs": [
    {
     "name": "stdout",
     "output_type": "stream",
     "text": [
      "how old are you:        45\n",
      "you are permisioned\n"
     ]
    }
   ],
   "source": [
    "age_allowed_to_access_Website = int(input(\"how old are you:        \"))\n",
    "\n",
    "if age_allowed_to_access_Website < 18:\n",
    "    print(\"you are not permited\")\n",
    "else:\n",
    "    print(\"you are permisioned\")"
   ]
  },
  {
   "cell_type": "code",
   "execution_count": null,
   "id": "2e1eb2f9",
   "metadata": {},
   "outputs": [],
   "source": []
  },
  {
   "cell_type": "code",
   "execution_count": null,
   "id": "9a141bc0",
   "metadata": {},
   "outputs": [],
   "source": []
  },
  {
   "cell_type": "code",
   "execution_count": null,
   "id": "7549f191",
   "metadata": {},
   "outputs": [],
   "source": []
  },
  {
   "cell_type": "code",
   "execution_count": null,
   "id": "6bf590ef",
   "metadata": {},
   "outputs": [],
   "source": []
  },
  {
   "cell_type": "code",
   "execution_count": null,
   "id": "df9db5cc",
   "metadata": {},
   "outputs": [],
   "source": []
  },
  {
   "cell_type": "code",
   "execution_count": null,
   "id": "75d3a7e3",
   "metadata": {},
   "outputs": [],
   "source": []
  },
  {
   "cell_type": "code",
   "execution_count": null,
   "id": "a1e6fc12",
   "metadata": {},
   "outputs": [],
   "source": []
  },
  {
   "cell_type": "code",
   "execution_count": null,
   "id": "d92c9c99",
   "metadata": {},
   "outputs": [],
   "source": []
  },
  {
   "cell_type": "code",
   "execution_count": null,
   "id": "2208dce7",
   "metadata": {},
   "outputs": [],
   "source": []
  },
  {
   "cell_type": "code",
   "execution_count": null,
   "id": "f4630f7e",
   "metadata": {},
   "outputs": [],
   "source": []
  },
  {
   "cell_type": "code",
   "execution_count": null,
   "id": "477f6a8b",
   "metadata": {},
   "outputs": [],
   "source": []
  },
  {
   "cell_type": "code",
   "execution_count": null,
   "id": "7050e4c8",
   "metadata": {},
   "outputs": [],
   "source": []
  },
  {
   "cell_type": "code",
   "execution_count": null,
   "id": "bf8474d8",
   "metadata": {},
   "outputs": [],
   "source": []
  },
  {
   "cell_type": "code",
   "execution_count": null,
   "id": "8f3b96ac",
   "metadata": {},
   "outputs": [],
   "source": []
  },
  {
   "cell_type": "code",
   "execution_count": 1,
   "id": "41111aa4",
   "metadata": {},
   "outputs": [],
   "source": [
    "evans_house = {40, 65, 87, 33, 12, 90, 45}"
   ]
  },
  {
   "cell_type": "code",
   "execution_count": 3,
   "id": "cd665d82",
   "metadata": {},
   "outputs": [
    {
     "name": "stdout",
     "output_type": "stream",
     "text": [
      "{65, 33, 87, 40, 90, 12, 45}\n"
     ]
    }
   ],
   "source": [
    "print(evans_house)"
   ]
  },
  {
   "cell_type": "code",
   "execution_count": 5,
   "id": "8b015264",
   "metadata": {},
   "outputs": [
    {
     "name": "stdout",
     "output_type": "stream",
     "text": [
      "<class 'set'>\n"
     ]
    }
   ],
   "source": [
    "print(type(evans_house))"
   ]
  },
  {
   "cell_type": "code",
   "execution_count": 7,
   "id": "405bde86",
   "metadata": {},
   "outputs": [],
   "source": [
    "convert_evans_house_to_list = list(evans_house)"
   ]
  },
  {
   "cell_type": "code",
   "execution_count": 10,
   "id": "abd24fb2",
   "metadata": {},
   "outputs": [
    {
     "name": "stdout",
     "output_type": "stream",
     "text": [
      "[65, 33, 87, 40, 90, 12, 45]\n"
     ]
    }
   ],
   "source": [
    "print(convert_evans_house_to_list)"
   ]
  },
  {
   "cell_type": "code",
   "execution_count": 12,
   "id": "867bdb7a",
   "metadata": {},
   "outputs": [
    {
     "name": "stdout",
     "output_type": "stream",
     "text": [
      "<class 'list'>\n"
     ]
    }
   ],
   "source": [
    "print(type(convert_evans_house_to_list))"
   ]
  },
  {
   "cell_type": "code",
   "execution_count": 13,
   "id": "92339b4c",
   "metadata": {},
   "outputs": [],
   "source": [
    "convert_evans_house_to_list.append(120.43)"
   ]
  },
  {
   "cell_type": "code",
   "execution_count": 14,
   "id": "f9379dab",
   "metadata": {},
   "outputs": [],
   "source": [
    "convert_evans_house_to_list.append(457.21)"
   ]
  },
  {
   "cell_type": "code",
   "execution_count": 15,
   "id": "abd76f60",
   "metadata": {},
   "outputs": [],
   "source": [
    "convert_evans_house_to_list.append(578.13)"
   ]
  },
  {
   "cell_type": "code",
   "execution_count": 16,
   "id": "c9f29ed7",
   "metadata": {},
   "outputs": [
    {
     "name": "stdout",
     "output_type": "stream",
     "text": [
      "[65, 33, 87, 40, 90, 12, 45, 120.43, 457.21, 578.13]\n"
     ]
    }
   ],
   "source": [
    "print(convert_evans_house_to_list)"
   ]
  },
  {
   "cell_type": "code",
   "execution_count": 19,
   "id": "a52cb18f",
   "metadata": {},
   "outputs": [
    {
     "name": "stdout",
     "output_type": "stream",
     "text": [
      "87\n"
     ]
    }
   ],
   "source": [
    "print(convert_evans_house_to_list[2])"
   ]
  },
  {
   "cell_type": "code",
   "execution_count": 20,
   "id": "13b946ef",
   "metadata": {},
   "outputs": [
    {
     "name": "stdout",
     "output_type": "stream",
     "text": [
      "578.13\n"
     ]
    }
   ],
   "source": [
    "print(convert_evans_house_to_list[-1])"
   ]
  },
  {
   "cell_type": "code",
   "execution_count": 24,
   "id": "71762ead",
   "metadata": {},
   "outputs": [
    {
     "name": "stdout",
     "output_type": "stream",
     "text": [
      "10\n"
     ]
    }
   ],
   "source": [
    "print(len(convert_evans_house_to_list))"
   ]
  },
  {
   "cell_type": "code",
   "execution_count": 29,
   "id": "7d09f0cf",
   "metadata": {},
   "outputs": [],
   "source": [
    "convert_evans_house_to_list.sort()"
   ]
  },
  {
   "cell_type": "code",
   "execution_count": 32,
   "id": "4a3abe1c",
   "metadata": {},
   "outputs": [
    {
     "name": "stdout",
     "output_type": "stream",
     "text": [
      "[12, 33, 40, 45, 65, 87, 90, 120.43, 457.21, 578.13]\n"
     ]
    }
   ],
   "source": [
    "print(convert_evans_house_to_list)"
   ]
  },
  {
   "cell_type": "code",
   "execution_count": null,
   "id": "4ba5d684",
   "metadata": {},
   "outputs": [],
   "source": []
  },
  {
   "cell_type": "code",
   "execution_count": 33,
   "id": "5191262e",
   "metadata": {},
   "outputs": [],
   "source": [
    "convert_evans_house_to_list[0] = 987.45"
   ]
  },
  {
   "cell_type": "code",
   "execution_count": 34,
   "id": "beeadd79",
   "metadata": {},
   "outputs": [
    {
     "name": "stdout",
     "output_type": "stream",
     "text": [
      "[987.45, 33, 40, 45, 65, 87, 90, 120.43, 457.21, 578.13]\n"
     ]
    }
   ],
   "source": [
    "print(convert_evans_house_to_list)"
   ]
  },
  {
   "cell_type": "code",
   "execution_count": 35,
   "id": "339eb6ca",
   "metadata": {},
   "outputs": [],
   "source": [
    "convert_evans_house_to_list[1] = 794.90"
   ]
  },
  {
   "cell_type": "code",
   "execution_count": 36,
   "id": "816d1c75",
   "metadata": {},
   "outputs": [],
   "source": [
    "convert_evans_house_to_list[2] = [593.00]"
   ]
  },
  {
   "cell_type": "code",
   "execution_count": 37,
   "id": "a794a360",
   "metadata": {},
   "outputs": [
    {
     "name": "stdout",
     "output_type": "stream",
     "text": [
      "[987.45, 794.9, [593.0], 45, 65, 87, 90, 120.43, 457.21, 578.13]\n"
     ]
    }
   ],
   "source": [
    "print(convert_evans_house_to_list)"
   ]
  },
  {
   "cell_type": "code",
   "execution_count": 38,
   "id": "130dd8a3",
   "metadata": {},
   "outputs": [
    {
     "name": "stdout",
     "output_type": "stream",
     "text": [
      "False\n"
     ]
    }
   ],
   "source": [
    "print(987.45 not in convert_evans_house_to_list)"
   ]
  },
  {
   "cell_type": "code",
   "execution_count": null,
   "id": "aa5ed753",
   "metadata": {},
   "outputs": [],
   "source": []
  },
  {
   "cell_type": "code",
   "execution_count": null,
   "id": "53e689e3",
   "metadata": {},
   "outputs": [],
   "source": []
  },
  {
   "cell_type": "code",
   "execution_count": null,
   "id": "9db0901d",
   "metadata": {},
   "outputs": [],
   "source": []
  },
  {
   "cell_type": "code",
   "execution_count": 43,
   "id": "5d010bc3",
   "metadata": {},
   "outputs": [],
   "source": [
    "age = 18"
   ]
  },
  {
   "cell_type": "code",
   "execution_count": 48,
   "id": "47b6ef39",
   "metadata": {},
   "outputs": [
    {
     "name": "stdout",
     "output_type": "stream",
     "text": [
      "how old are yo:      14\n",
      "sorry you are not Permited to access this website\n"
     ]
    }
   ],
   "source": [
    "age = int(input(\"how old are yo:      \"))\n",
    "\n",
    "if age < 18:\n",
    "    print(\"sorry you are not Permited to access this website\")\n",
    "    \n",
    "else:\n",
    "    print(\"you are permited\")"
   ]
  },
  {
   "cell_type": "code",
   "execution_count": null,
   "id": "5d5f9360",
   "metadata": {},
   "outputs": [],
   "source": []
  },
  {
   "cell_type": "code",
   "execution_count": null,
   "id": "38369ac7",
   "metadata": {},
   "outputs": [],
   "source": []
  },
  {
   "cell_type": "code",
   "execution_count": 49,
   "id": "97ded2b2",
   "metadata": {},
   "outputs": [
    {
     "name": "stdout",
     "output_type": "stream",
     "text": [
      "<class 'int'>\n"
     ]
    }
   ],
   "source": [
    "print(type(age))"
   ]
  },
  {
   "cell_type": "code",
   "execution_count": null,
   "id": "ccf4e276",
   "metadata": {},
   "outputs": [],
   "source": []
  },
  {
   "cell_type": "code",
   "execution_count": null,
   "id": "f6e76f32",
   "metadata": {},
   "outputs": [],
   "source": []
  },
  {
   "cell_type": "code",
   "execution_count": 71,
   "id": "eafc3b6b",
   "metadata": {},
   "outputs": [
    {
     "name": "stdout",
     "output_type": "stream",
     "text": [
      "900\n",
      "please guess the magic number:      128\n",
      "you lost\n"
     ]
    }
   ],
   "source": [
    "Winning_number = 100\n",
    "user_number = 900\n",
    "\n",
    "\n",
    "import random\n",
    "\n",
    "\n",
    "Winning_number = random.randint(1, 200)\n",
    "\n",
    "print(user_number)\n",
    "\n",
    "user_number = int(input(\"please guess the magic number:      \"))\n",
    "\n",
    "if Winning_number < user_number:\n",
    "    print(\"you have won\")\n",
    "    \n",
    "else:\n",
    "    print(\"you lost\")"
   ]
  },
  {
   "cell_type": "code",
   "execution_count": null,
   "id": "c9bb0f38",
   "metadata": {},
   "outputs": [],
   "source": []
  },
  {
   "cell_type": "code",
   "execution_count": 6,
   "id": "4b7cd465",
   "metadata": {},
   "outputs": [
    {
     "name": "stdout",
     "output_type": "stream",
     "text": [
      "how old are you:         20\n",
      "enter\n"
     ]
    }
   ],
   "source": [
    "specific_age_allowed_to_access_this_web = int(input(\"how old are you:         \"))\n",
    "\n",
    "if specific_age_allowed_to_access_this_web < 18:\n",
    "    print(\"you are not allowed to access this website\")\n",
    "    \n",
    "else:\n",
    "    print(\"enter\")"
   ]
  },
  {
   "cell_type": "code",
   "execution_count": null,
   "id": "9b9117c4",
   "metadata": {},
   "outputs": [],
   "source": []
  },
  {
   "cell_type": "code",
   "execution_count": null,
   "id": "214485f8",
   "metadata": {},
   "outputs": [],
   "source": []
  },
  {
   "cell_type": "code",
   "execution_count": 7,
   "id": "6421d580",
   "metadata": {},
   "outputs": [
    {
     "name": "stdout",
     "output_type": "stream",
     "text": [
      "how old are you:   23\n",
      "You are eligible to watch this movie\n"
     ]
    }
   ],
   "source": [
    "movie_age = int(input(\"how old are you:   \"))\n",
    "\n",
    "if movie_age >= 18:\n",
    "    print(\"You are eligible to watch this movie\")\n",
    "else:\n",
    "    print(\"Sorry , you are too young to watch this movie\")"
   ]
  },
  {
   "cell_type": "code",
   "execution_count": null,
   "id": "6a6d62fd",
   "metadata": {},
   "outputs": [],
   "source": []
  },
  {
   "cell_type": "code",
   "execution_count": 8,
   "id": "a701793c",
   "metadata": {},
   "outputs": [
    {
     "name": "stdout",
     "output_type": "stream",
     "text": [
      "how old are you:           21\n",
      "you are allowed to play the game\n"
     ]
    }
   ],
   "source": [
    "age_allowed_to_play_bet =int(input(\"how old are you:           \"))\n",
    "\n",
    "if age_allowed_to_play_bet < 18:\n",
    "    print(\"you are not allowed to play this game\")\n",
    "    \n",
    "else:\n",
    "    print(\"you are allowed to play the game\")"
   ]
  },
  {
   "cell_type": "code",
   "execution_count": null,
   "id": "77df4bf9",
   "metadata": {},
   "outputs": [],
   "source": []
  },
  {
   "cell_type": "code",
   "execution_count": null,
   "id": "8be5e68d",
   "metadata": {},
   "outputs": [],
   "source": []
  },
  {
   "cell_type": "code",
   "execution_count": 9,
   "id": "ad522899",
   "metadata": {},
   "outputs": [],
   "source": [
    "magic_number = 30\n",
    "user_number = 10"
   ]
  },
  {
   "cell_type": "code",
   "execution_count": 13,
   "id": "14fb2b9e",
   "metadata": {},
   "outputs": [
    {
     "name": "stdout",
     "output_type": "stream",
     "text": [
      "opps, the number you entered is less than the magic number\n"
     ]
    }
   ],
   "source": [
    "magic_number = 30\n",
    "user_number = 10\n",
    "\n",
    "\n",
    "if user_number == magic_number:\n",
    "    print(\"wow you won:\")\n",
    "elif user_number < magic_number:\n",
    "    print(\"opps, the number you entered is less than the magic number\")\n",
    "    \n",
    "else:\n",
    "    print(\"opps, the number you entered is greater than the magic number\")"
   ]
  },
  {
   "cell_type": "code",
   "execution_count": null,
   "id": "3bba1ac7",
   "metadata": {},
   "outputs": [],
   "source": []
  },
  {
   "cell_type": "code",
   "execution_count": 16,
   "id": "db9a2df2",
   "metadata": {},
   "outputs": [
    {
     "name": "stdout",
     "output_type": "stream",
     "text": [
      "8\n",
      "guess the magic number:          90\n",
      "you have lost\n"
     ]
    }
   ],
   "source": [
    "import random \n",
    "\n",
    "magic_number = random.randint (3,  100)\n",
    "\n",
    "print(user_number)\n",
    "\n",
    "user_number = input(\"guess the magic number:          \")\n",
    "\n",
    "if magic_number == user_number:\n",
    "    print(\"you won \")\n",
    "    \n",
    "else:\n",
    "    print(\"you have lost\")"
   ]
  },
  {
   "cell_type": "code",
   "execution_count": null,
   "id": "bd3e5984",
   "metadata": {},
   "outputs": [],
   "source": []
  },
  {
   "cell_type": "code",
   "execution_count": null,
   "id": "75cfae22",
   "metadata": {},
   "outputs": [],
   "source": []
  },
  {
   "cell_type": "code",
   "execution_count": 2,
   "id": "db027735",
   "metadata": {},
   "outputs": [],
   "source": [
    "x = 10"
   ]
  },
  {
   "cell_type": "code",
   "execution_count": 8,
   "id": "65f9d6e6",
   "metadata": {},
   "outputs": [
    {
     "name": "stdout",
     "output_type": "stream",
     "text": [
      "please predict your number:           1\n",
      "you have won\n"
     ]
    }
   ],
   "source": [
    "\n",
    "x =int(input(\"please predict your number:           \"))\n",
    "\n",
    "if x >= 10:\n",
    "    print(\"you have lost\" )\n",
    "    \n",
    "else:\n",
    "    print(\"you have won\")"
   ]
  },
  {
   "cell_type": "code",
   "execution_count": null,
   "id": "d36e2689",
   "metadata": {},
   "outputs": [],
   "source": []
  },
  {
   "cell_type": "code",
   "execution_count": null,
   "id": "69751ecc",
   "metadata": {},
   "outputs": [],
   "source": []
  },
  {
   "cell_type": "code",
   "execution_count": 13,
   "id": "50152d52",
   "metadata": {},
   "outputs": [],
   "source": [
    "winning_number = 20\n",
    "user_number = 10"
   ]
  },
  {
   "cell_type": "code",
   "execution_count": 17,
   "id": "fadc411d",
   "metadata": {},
   "outputs": [
    {
     "name": "stdout",
     "output_type": "stream",
     "text": [
      "32\n",
      "please make your prediction5\n",
      "you have lost\n"
     ]
    }
   ],
   "source": [
    "import random\n",
    "\n",
    "winning_number = random.randint(1, 20)\n",
    "\n",
    "print(user_number)\n",
    "\n",
    "user_number = input(\"please make your prediction\")\n",
    "\n",
    "\n",
    "if user_number == winning_number:\n",
    "    print(\"wow, you've won\")\n",
    "     \n",
    "else:\n",
    "    print(\"you have lost\")"
   ]
  },
  {
   "cell_type": "code",
   "execution_count": null,
   "id": "5c86af26",
   "metadata": {},
   "outputs": [],
   "source": []
  },
  {
   "cell_type": "code",
   "execution_count": null,
   "id": "4c3461f5",
   "metadata": {},
   "outputs": [],
   "source": []
  },
  {
   "cell_type": "code",
   "execution_count": 18,
   "id": "3cd5b615",
   "metadata": {},
   "outputs": [],
   "source": [
    "first_name = \"evans\""
   ]
  },
  {
   "cell_type": "code",
   "execution_count": 19,
   "id": "bd300412",
   "metadata": {},
   "outputs": [
    {
     "name": "stdout",
     "output_type": "stream",
     "text": [
      "evans\n"
     ]
    }
   ],
   "source": [
    "print(first_name)"
   ]
  },
  {
   "cell_type": "code",
   "execution_count": 20,
   "id": "a960e65b",
   "metadata": {},
   "outputs": [
    {
     "name": "stdout",
     "output_type": "stream",
     "text": [
      "<class 'str'>\n"
     ]
    }
   ],
   "source": [
    "print(type(first_name))"
   ]
  },
  {
   "cell_type": "code",
   "execution_count": 23,
   "id": "e6a84d3a",
   "metadata": {},
   "outputs": [
    {
     "name": "stdout",
     "output_type": "stream",
     "text": [
      "5\n"
     ]
    }
   ],
   "source": [
    "print(len(first_name))"
   ]
  },
  {
   "cell_type": "code",
   "execution_count": null,
   "id": "f185fb46",
   "metadata": {},
   "outputs": [],
   "source": []
  },
  {
   "cell_type": "code",
   "execution_count": 24,
   "id": "a5ac0ca4",
   "metadata": {},
   "outputs": [],
   "source": [
    "age = 43"
   ]
  },
  {
   "cell_type": "code",
   "execution_count": 25,
   "id": "c3f8227b",
   "metadata": {},
   "outputs": [
    {
     "name": "stdout",
     "output_type": "stream",
     "text": [
      "43\n"
     ]
    }
   ],
   "source": [
    "print(age)"
   ]
  },
  {
   "cell_type": "code",
   "execution_count": 26,
   "id": "c25efe14",
   "metadata": {},
   "outputs": [
    {
     "name": "stdout",
     "output_type": "stream",
     "text": [
      "<class 'int'>\n"
     ]
    }
   ],
   "source": [
    "print(type(age))"
   ]
  },
  {
   "cell_type": "code",
   "execution_count": null,
   "id": "2b39bbf8",
   "metadata": {},
   "outputs": [],
   "source": []
  },
  {
   "cell_type": "code",
   "execution_count": 27,
   "id": "1c05da94",
   "metadata": {},
   "outputs": [],
   "source": [
    "payment = 590.45"
   ]
  },
  {
   "cell_type": "code",
   "execution_count": 28,
   "id": "3bc93d52",
   "metadata": {},
   "outputs": [
    {
     "name": "stdout",
     "output_type": "stream",
     "text": [
      "<class 'float'>\n"
     ]
    }
   ],
   "source": [
    "print(type(payment))"
   ]
  },
  {
   "cell_type": "code",
   "execution_count": 29,
   "id": "a12c36c0",
   "metadata": {},
   "outputs": [
    {
     "name": "stdout",
     "output_type": "stream",
     "text": [
      "590.45\n"
     ]
    }
   ],
   "source": [
    "print(payment)"
   ]
  },
  {
   "cell_type": "code",
   "execution_count": null,
   "id": "94634f11",
   "metadata": {},
   "outputs": [],
   "source": []
  },
  {
   "cell_type": "code",
   "execution_count": 30,
   "id": "ad52937a",
   "metadata": {},
   "outputs": [],
   "source": [
    "has_a_house = False"
   ]
  },
  {
   "cell_type": "code",
   "execution_count": 31,
   "id": "e18e9002",
   "metadata": {},
   "outputs": [
    {
     "name": "stdout",
     "output_type": "stream",
     "text": [
      "<class 'bool'>\n"
     ]
    }
   ],
   "source": [
    "print(type(has_a_house))"
   ]
  },
  {
   "cell_type": "code",
   "execution_count": 32,
   "id": "75a06b21",
   "metadata": {},
   "outputs": [
    {
     "name": "stdout",
     "output_type": "stream",
     "text": [
      "False\n"
     ]
    }
   ],
   "source": [
    "print(has_a_house)"
   ]
  },
  {
   "cell_type": "code",
   "execution_count": null,
   "id": "540188f9",
   "metadata": {},
   "outputs": [],
   "source": []
  },
  {
   "cell_type": "code",
   "execution_count": 37,
   "id": "9f140d23",
   "metadata": {},
   "outputs": [],
   "source": [
    "company_dept_unpaid_by_customers = 982.68"
   ]
  },
  {
   "cell_type": "code",
   "execution_count": 38,
   "id": "be49ccc4",
   "metadata": {},
   "outputs": [],
   "source": [
    "amount_paid_by_customers = 978.56"
   ]
  },
  {
   "cell_type": "code",
   "execution_count": 39,
   "id": "cf86c5eb",
   "metadata": {},
   "outputs": [
    {
     "name": "stdout",
     "output_type": "stream",
     "text": [
      "4.1200000000000045\n"
     ]
    }
   ],
   "source": [
    "print(company_dept_unpaid_by_customers - amount_paid_by_customers)"
   ]
  },
  {
   "cell_type": "code",
   "execution_count": null,
   "id": "01c944bf",
   "metadata": {},
   "outputs": [],
   "source": []
  },
  {
   "cell_type": "code",
   "execution_count": 41,
   "id": "6930a2c2",
   "metadata": {},
   "outputs": [
    {
     "name": "stdout",
     "output_type": "stream",
     "text": [
      "961611.3407999999\n"
     ]
    }
   ],
   "source": [
    "print(company_dept_unpaid_by_customers * amount_paid_by_customers)"
   ]
  },
  {
   "cell_type": "code",
   "execution_count": null,
   "id": "2d174316",
   "metadata": {},
   "outputs": [],
   "source": []
  },
  {
   "cell_type": "code",
   "execution_count": 42,
   "id": "c53ab8e2",
   "metadata": {},
   "outputs": [
    {
     "name": "stdout",
     "output_type": "stream",
     "text": [
      "1.0042102681491172\n"
     ]
    }
   ],
   "source": [
    "print(company_dept_unpaid_by_customers / amount_paid_by_customers)"
   ]
  },
  {
   "cell_type": "code",
   "execution_count": null,
   "id": "4f14ee9e",
   "metadata": {},
   "outputs": [],
   "source": []
  },
  {
   "cell_type": "code",
   "execution_count": 43,
   "id": "9008d3e8",
   "metadata": {},
   "outputs": [
    {
     "name": "stdout",
     "output_type": "stream",
     "text": [
      "1961.2399999999998\n"
     ]
    }
   ],
   "source": [
    "print(company_dept_unpaid_by_customers + amount_paid_by_customers)"
   ]
  },
  {
   "cell_type": "code",
   "execution_count": null,
   "id": "9cc44e1e",
   "metadata": {},
   "outputs": [],
   "source": []
  },
  {
   "cell_type": "code",
   "execution_count": 44,
   "id": "bb7589cf",
   "metadata": {},
   "outputs": [
    {
     "name": "stdout",
     "output_type": "stream",
     "text": [
      "1.0\n"
     ]
    }
   ],
   "source": [
    "print(company_dept_unpaid_by_customers // amount_paid_by_customers)"
   ]
  },
  {
   "cell_type": "code",
   "execution_count": null,
   "id": "c0f6339e",
   "metadata": {},
   "outputs": [],
   "source": []
  },
  {
   "cell_type": "code",
   "execution_count": 45,
   "id": "b85f05e4",
   "metadata": {},
   "outputs": [
    {
     "name": "stdout",
     "output_type": "stream",
     "text": [
      "4.1200000000000045\n"
     ]
    }
   ],
   "source": [
    "print(company_dept_unpaid_by_customers % amount_paid_by_customers)"
   ]
  },
  {
   "cell_type": "code",
   "execution_count": null,
   "id": "78acfc9e",
   "metadata": {},
   "outputs": [],
   "source": []
  },
  {
   "cell_type": "code",
   "execution_count": null,
   "id": "7d2610ca",
   "metadata": {},
   "outputs": [],
   "source": []
  },
  {
   "cell_type": "code",
   "execution_count": 46,
   "id": "292c6621",
   "metadata": {},
   "outputs": [],
   "source": [
    "city = \"berlin\""
   ]
  },
  {
   "cell_type": "code",
   "execution_count": 47,
   "id": "7ecb7bb6",
   "metadata": {},
   "outputs": [
    {
     "name": "stdout",
     "output_type": "stream",
     "text": [
      "<class 'str'>\n"
     ]
    }
   ],
   "source": [
    "print(type(city))"
   ]
  },
  {
   "cell_type": "code",
   "execution_count": null,
   "id": "28fc4be4",
   "metadata": {},
   "outputs": [],
   "source": []
  },
  {
   "cell_type": "code",
   "execution_count": 48,
   "id": "4c51a17c",
   "metadata": {},
   "outputs": [],
   "source": [
    "age = 89"
   ]
  },
  {
   "cell_type": "code",
   "execution_count": 49,
   "id": "309834fc",
   "metadata": {},
   "outputs": [
    {
     "name": "stdout",
     "output_type": "stream",
     "text": [
      "<class 'int'>\n"
     ]
    }
   ],
   "source": [
    "print(type(age))"
   ]
  },
  {
   "cell_type": "code",
   "execution_count": null,
   "id": "fd0f6322",
   "metadata": {},
   "outputs": [],
   "source": []
  },
  {
   "cell_type": "code",
   "execution_count": 50,
   "id": "a13e33c1",
   "metadata": {},
   "outputs": [],
   "source": [
    "age = \"34\""
   ]
  },
  {
   "cell_type": "code",
   "execution_count": 51,
   "id": "8a676603",
   "metadata": {},
   "outputs": [
    {
     "name": "stdout",
     "output_type": "stream",
     "text": [
      "<class 'str'>\n"
     ]
    }
   ],
   "source": [
    "print(type(age))"
   ]
  },
  {
   "cell_type": "code",
   "execution_count": null,
   "id": "a9106e62",
   "metadata": {},
   "outputs": [],
   "source": []
  },
  {
   "cell_type": "code",
   "execution_count": 52,
   "id": "5d881221",
   "metadata": {},
   "outputs": [],
   "source": [
    "has_a_job = True"
   ]
  },
  {
   "cell_type": "code",
   "execution_count": 54,
   "id": "228deab0",
   "metadata": {},
   "outputs": [
    {
     "name": "stdout",
     "output_type": "stream",
     "text": [
      "<class 'bool'>\n"
     ]
    }
   ],
   "source": [
    "print(type(has_a_job))"
   ]
  },
  {
   "cell_type": "code",
   "execution_count": null,
   "id": "bb153cfd",
   "metadata": {},
   "outputs": [],
   "source": []
  },
  {
   "cell_type": "code",
   "execution_count": 55,
   "id": "34d879b4",
   "metadata": {},
   "outputs": [],
   "source": [
    "money = 875.21"
   ]
  },
  {
   "cell_type": "code",
   "execution_count": 56,
   "id": "d5556321",
   "metadata": {},
   "outputs": [
    {
     "name": "stdout",
     "output_type": "stream",
     "text": [
      "<class 'float'>\n"
     ]
    }
   ],
   "source": [
    "print(type(money))"
   ]
  },
  {
   "cell_type": "code",
   "execution_count": null,
   "id": "abdbcc27",
   "metadata": {},
   "outputs": [],
   "source": []
  },
  {
   "cell_type": "code",
   "execution_count": 57,
   "id": "a4f12eee",
   "metadata": {},
   "outputs": [],
   "source": [
    "x = 68.7"
   ]
  },
  {
   "cell_type": "code",
   "execution_count": 58,
   "id": "0658e90a",
   "metadata": {},
   "outputs": [
    {
     "name": "stdout",
     "output_type": "stream",
     "text": [
      "69\n"
     ]
    }
   ],
   "source": [
    "print(round(x))"
   ]
  },
  {
   "cell_type": "code",
   "execution_count": null,
   "id": "43c12c5f",
   "metadata": {},
   "outputs": [],
   "source": []
  },
  {
   "cell_type": "code",
   "execution_count": 59,
   "id": "9f52e707",
   "metadata": {},
   "outputs": [],
   "source": [
    "p = 56\n",
    "o = 21"
   ]
  },
  {
   "cell_type": "code",
   "execution_count": 60,
   "id": "69c9f28e",
   "metadata": {},
   "outputs": [],
   "source": [
    "Result = round(p / o)"
   ]
  },
  {
   "cell_type": "code",
   "execution_count": 62,
   "id": "2b464221",
   "metadata": {},
   "outputs": [
    {
     "name": "stdout",
     "output_type": "stream",
     "text": [
      "3\n"
     ]
    }
   ],
   "source": [
    "print(Result)"
   ]
  },
  {
   "cell_type": "code",
   "execution_count": null,
   "id": "01c82608",
   "metadata": {},
   "outputs": [],
   "source": []
  },
  {
   "cell_type": "code",
   "execution_count": 71,
   "id": "5ad55844",
   "metadata": {},
   "outputs": [],
   "source": [
    "first_name = \"50\""
   ]
  },
  {
   "cell_type": "code",
   "execution_count": 72,
   "id": "6cfbc6a9",
   "metadata": {},
   "outputs": [
    {
     "name": "stdout",
     "output_type": "stream",
     "text": [
      "<class 'str'>\n"
     ]
    }
   ],
   "source": [
    "print(type(first_name))"
   ]
  },
  {
   "cell_type": "code",
   "execution_count": null,
   "id": "44801533",
   "metadata": {
    "collapsed": true
   },
   "outputs": [],
   "source": []
  },
  {
   "cell_type": "code",
   "execution_count": 73,
   "id": "220a9139",
   "metadata": {},
   "outputs": [],
   "source": [
    "convert_first_name = int(first_name)"
   ]
  },
  {
   "cell_type": "code",
   "execution_count": 74,
   "id": "3cb061ed",
   "metadata": {},
   "outputs": [
    {
     "name": "stdout",
     "output_type": "stream",
     "text": [
      "50\n"
     ]
    }
   ],
   "source": [
    "print(convert_first_name)"
   ]
  },
  {
   "cell_type": "code",
   "execution_count": 75,
   "id": "8d446212",
   "metadata": {},
   "outputs": [
    {
     "name": "stdout",
     "output_type": "stream",
     "text": [
      "<class 'int'>\n"
     ]
    }
   ],
   "source": [
    "print(type(convert_first_name))"
   ]
  },
  {
   "cell_type": "code",
   "execution_count": null,
   "id": "5940bf2f",
   "metadata": {},
   "outputs": [],
   "source": []
  },
  {
   "cell_type": "code",
   "execution_count": null,
   "id": "03a776f9",
   "metadata": {},
   "outputs": [],
   "source": []
  },
  {
   "cell_type": "code",
   "execution_count": 78,
   "id": "db574e8b",
   "metadata": {},
   "outputs": [],
   "source": [
    "middle_name = \"john \"\n",
    "first_name = \"ehis\""
   ]
  },
  {
   "cell_type": "code",
   "execution_count": 79,
   "id": "3bf3c07e",
   "metadata": {},
   "outputs": [
    {
     "name": "stdout",
     "output_type": "stream",
     "text": [
      "john ehis\n"
     ]
    }
   ],
   "source": [
    "print(middle_name + first_name)"
   ]
  },
  {
   "cell_type": "code",
   "execution_count": null,
   "id": "6032615c",
   "metadata": {},
   "outputs": [],
   "source": []
  },
  {
   "cell_type": "code",
   "execution_count": 80,
   "id": "85ca2137",
   "metadata": {},
   "outputs": [
    {
     "name": "stdout",
     "output_type": "stream",
     "text": [
      "whats your last name:         evans\n"
     ]
    }
   ],
   "source": [
    "last_name = input(\"whats your last name:         \")"
   ]
  },
  {
   "cell_type": "code",
   "execution_count": null,
   "id": "b198ba7e",
   "metadata": {},
   "outputs": [],
   "source": []
  },
  {
   "cell_type": "code",
   "execution_count": null,
   "id": "6283d518",
   "metadata": {},
   "outputs": [],
   "source": []
  },
  {
   "cell_type": "code",
   "execution_count": 81,
   "id": "702a42dd",
   "metadata": {},
   "outputs": [],
   "source": [
    "T = 80"
   ]
  },
  {
   "cell_type": "code",
   "execution_count": 82,
   "id": "48c7fa3c",
   "metadata": {},
   "outputs": [
    {
     "name": "stdout",
     "output_type": "stream",
     "text": [
      "sorry it's lesser than 80\n"
     ]
    }
   ],
   "source": [
    "if T <= 80:\n",
    "    print(\"sorry it's lesser than 80\")\n",
    "    \n",
    "else:\n",
    "    print(\"yes it's greater than 80\")"
   ]
  },
  {
   "cell_type": "code",
   "execution_count": null,
   "id": "dcecd61a",
   "metadata": {},
   "outputs": [],
   "source": []
  },
  {
   "cell_type": "code",
   "execution_count": null,
   "id": "155ffb78",
   "metadata": {},
   "outputs": [],
   "source": []
  },
  {
   "cell_type": "code",
   "execution_count": 2,
   "id": "8fecf8b0",
   "metadata": {},
   "outputs": [
    {
     "name": "stdout",
     "output_type": "stream",
     "text": [
      "Are you a student, True or False:   True\n",
      "what is your monthly salary after tax:  2500\n",
      "you are not eligible for this loan application\n"
     ]
    }
   ],
   "source": [
    "student_status = input(\"Are you a student, True or False:   \")\n",
    "    \n",
    "salary = int(input(\"what is your monthly salary after tax:  \"))\n",
    "\n",
    "if (student_status == \"False\") and (salary >= 2000):\n",
    "    print(\"you are eligible for this loan application\")\n",
    "else:\n",
    "    print(\"you are not eligible for this loan application\")\n"
   ]
  },
  {
   "cell_type": "code",
   "execution_count": null,
   "id": "9604b611",
   "metadata": {},
   "outputs": [],
   "source": []
  },
  {
   "cell_type": "code",
   "execution_count": null,
   "id": "e63bd7aa",
   "metadata": {},
   "outputs": [],
   "source": []
  },
  {
   "cell_type": "code",
   "execution_count": 18,
   "id": "04082c76",
   "metadata": {},
   "outputs": [],
   "source": [
    "commute_time = 20\n",
    "rain = False \n",
    "traffic = False\n",
    "\n",
    "if_rain = 5\n",
    "if_traffic = 10"
   ]
  },
  {
   "cell_type": "code",
   "execution_count": 30,
   "id": "4841699a",
   "metadata": {},
   "outputs": [
    {
     "name": "stdout",
     "output_type": "stream",
     "text": [
      "Time to get to alexanderplatz is 35 minutes\n"
     ]
    }
   ],
   "source": [
    "commute_time = 20\n",
    "rain = True \n",
    "traffic = True\n",
    "\n",
    "if_rain = 5\n",
    "if_traffic = 10\n",
    "\n",
    "\n",
    "\n",
    "\n",
    "if (rain == False) and (traffic == False):\n",
    "    total_commute_time = commute_time\n",
    "    print(f\"Time to get to alexanderplatz is {total_commute_time} minutes\")\n",
    "    \n",
    "elif (rain == True) and (traffic == False):\n",
    "    total_commute_time = commute_time + if_rain\n",
    "    print(f\"Time to get to alexanderplatz is {total_commute_time} minutes\")\n",
    "    \n",
    "elif (rain == False) and (traffic == True):\n",
    "    total_commute_time = commute_time + if_traffic\n",
    "    print(f\"Time to get to alexanderplatz is {total_commute_time} minutes\")\n",
    "    \n",
    "else:\n",
    "    total_commute_time = commute_time + if_rain + if_traffic\n",
    "    print(f\"Time to get to alexanderplatz is {total_commute_time} minutes\")"
   ]
  },
  {
   "cell_type": "code",
   "execution_count": null,
   "id": "4b4ce0e3",
   "metadata": {},
   "outputs": [],
   "source": []
  },
  {
   "cell_type": "code",
   "execution_count": null,
   "id": "e61e029d",
   "metadata": {},
   "outputs": [],
   "source": []
  },
  {
   "cell_type": "code",
   "execution_count": 3,
   "id": "6d48981b",
   "metadata": {},
   "outputs": [
    {
     "name": "stdout",
     "output_type": "stream",
     "text": [
      "Whats your medium of transportation, Car or Bike:   bike\n",
      "is it raining, True or False:    True\n",
      "is their traffic, True or False:   False\n",
      "The total commute time is 8 mins\n"
     ]
    }
   ],
   "source": [
    "car_commute = 10\n",
    "bike_commute = 5\n",
    "\n",
    "transportation = input(\"Whats your medium of transportation, Car or Bike:   \")\n",
    "raining = input(\"is it raining, True or False:    \")\n",
    "traffic = input(\"is their traffic, True or False:   \")\n",
    "\n",
    "raining_default = 3\n",
    "traffic_default = 5\n",
    "\n",
    "if transportation == \"Car\":\n",
    "    if (raining == \"True\") and (traffic == \"True\"):\n",
    "        total = car_commute + raining_default + traffic_default\n",
    "        print(f\"The total commute time is {total} mins\")\n",
    "    \n",
    "    elif raining == \"True\" and traffic == \"False\":\n",
    "        total = car_commute + raining_default\n",
    "        print(f\"The total commute time is {total} mins\")\n",
    "        \n",
    "    elif raining == \"False\" and traffic == \"True\":\n",
    "        total = car_commute + traffic_default\n",
    "        print(f\"The total commute time is {total} mins\")\n",
    "    else:\n",
    "        total = car_commute \n",
    "        print(f\"The total commute time is {total} mins\")\n",
    "        \n",
    "else:\n",
    "    if (raining == \"True\") and (traffic == \"True\"):\n",
    "        total = bike_commute + raining_default + traffic_default\n",
    "        print(f\"The total commute time is {total} mins\")\n",
    "        \n",
    "    elif raining == \"True\" and traffic == \"False\":\n",
    "        total = bike_commute + raining_default\n",
    "        print(f\"The total commute time is {total} mins\")\n",
    "        \n",
    "    elif raining == \"False\" and traffic == \"True\":\n",
    "        total = bike_commute + traffic_default\n",
    "        print(f\"The total commute time is {total} mins\")\n",
    "    else:\n",
    "        total = bike_commute \n",
    "        print(f\"The total commute time is {total} mins\")"
   ]
  },
  {
   "cell_type": "code",
   "execution_count": null,
   "id": "08a0aeb8",
   "metadata": {},
   "outputs": [],
   "source": []
  },
  {
   "cell_type": "code",
   "execution_count": null,
   "id": "b8792d2f",
   "metadata": {},
   "outputs": [],
   "source": []
  },
  {
   "cell_type": "code",
   "execution_count": null,
   "id": "ad4e6fb7",
   "metadata": {},
   "outputs": [],
   "source": []
  },
  {
   "cell_type": "code",
   "execution_count": null,
   "id": "22df09c6",
   "metadata": {},
   "outputs": [],
   "source": []
  },
  {
   "cell_type": "code",
   "execution_count": null,
   "id": "021759e9",
   "metadata": {},
   "outputs": [],
   "source": []
  },
  {
   "cell_type": "code",
   "execution_count": 1,
   "id": "571d64bf",
   "metadata": {},
   "outputs": [],
   "source": [
    "age = \"40\""
   ]
  },
  {
   "cell_type": "code",
   "execution_count": 2,
   "id": "5d4a3773",
   "metadata": {},
   "outputs": [
    {
     "name": "stdout",
     "output_type": "stream",
     "text": [
      "<class 'str'>\n"
     ]
    }
   ],
   "source": [
    "print(type(age))"
   ]
  },
  {
   "cell_type": "code",
   "execution_count": 3,
   "id": "5c8b534e",
   "metadata": {},
   "outputs": [
    {
     "name": "stdout",
     "output_type": "stream",
     "text": [
      "40\n"
     ]
    }
   ],
   "source": [
    "print(age)"
   ]
  },
  {
   "cell_type": "code",
   "execution_count": 4,
   "id": "4db25ad4",
   "metadata": {},
   "outputs": [],
   "source": [
    "convert_age = "
   ]
  },
  {
   "cell_type": "code",
   "execution_count": 6,
   "id": "f5fc84bf",
   "metadata": {},
   "outputs": [
    {
     "name": "stdout",
     "output_type": "stream",
     "text": [
      "<class 'int'>\n"
     ]
    }
   ],
   "source": [
    "print(type(convert_age))"
   ]
  },
  {
   "cell_type": "code",
   "execution_count": null,
   "id": "b922e4e8",
   "metadata": {},
   "outputs": [],
   "source": []
  },
  {
   "cell_type": "code",
   "execution_count": null,
   "id": "3cb7e906",
   "metadata": {},
   "outputs": [],
   "source": []
  },
  {
   "cell_type": "code",
   "execution_count": 1,
   "id": "f7d304be",
   "metadata": {},
   "outputs": [],
   "source": [
    "country = \"Germany\""
   ]
  },
  {
   "cell_type": "code",
   "execution_count": 2,
   "id": "79d67864",
   "metadata": {},
   "outputs": [
    {
     "name": "stdout",
     "output_type": "stream",
     "text": [
      "<class 'str'>\n"
     ]
    }
   ],
   "source": [
    "print(type(country))"
   ]
  },
  {
   "cell_type": "code",
   "execution_count": 3,
   "id": "5f9d659b",
   "metadata": {},
   "outputs": [
    {
     "name": "stdout",
     "output_type": "stream",
     "text": [
      "Germany\n"
     ]
    }
   ],
   "source": [
    "print(country)"
   ]
  },
  {
   "cell_type": "code",
   "execution_count": null,
   "id": "71c87cde",
   "metadata": {},
   "outputs": [],
   "source": []
  },
  {
   "cell_type": "code",
   "execution_count": 4,
   "id": "e5a70434",
   "metadata": {},
   "outputs": [],
   "source": [
    "payment = 590.49"
   ]
  },
  {
   "cell_type": "code",
   "execution_count": 5,
   "id": "4df8428f",
   "metadata": {},
   "outputs": [
    {
     "name": "stdout",
     "output_type": "stream",
     "text": [
      "<class 'float'>\n"
     ]
    }
   ],
   "source": [
    "print(type(payment))"
   ]
  },
  {
   "cell_type": "code",
   "execution_count": 6,
   "id": "f77e7437",
   "metadata": {},
   "outputs": [
    {
     "name": "stdout",
     "output_type": "stream",
     "text": [
      "590.49\n"
     ]
    }
   ],
   "source": [
    "print(payment)"
   ]
  },
  {
   "cell_type": "code",
   "execution_count": null,
   "id": "0d5168a2",
   "metadata": {},
   "outputs": [],
   "source": []
  },
  {
   "cell_type": "code",
   "execution_count": 1,
   "id": "c5fac3a7",
   "metadata": {},
   "outputs": [],
   "source": [
    "age = 56"
   ]
  },
  {
   "cell_type": "code",
   "execution_count": 2,
   "id": "5a7f5f43",
   "metadata": {},
   "outputs": [
    {
     "name": "stdout",
     "output_type": "stream",
     "text": [
      "56\n"
     ]
    }
   ],
   "source": [
    "print(age)"
   ]
  },
  {
   "cell_type": "code",
   "execution_count": 3,
   "id": "218cf65a",
   "metadata": {},
   "outputs": [
    {
     "name": "stdout",
     "output_type": "stream",
     "text": [
      "<class 'int'>\n"
     ]
    }
   ],
   "source": [
    "print(type(age))"
   ]
  },
  {
   "cell_type": "code",
   "execution_count": null,
   "id": "d56ab500",
   "metadata": {},
   "outputs": [],
   "source": []
  },
  {
   "cell_type": "code",
   "execution_count": null,
   "id": "0d7ddcf0",
   "metadata": {},
   "outputs": [],
   "source": []
  },
  {
   "cell_type": "code",
   "execution_count": 5,
   "id": "5a537fcc",
   "metadata": {},
   "outputs": [],
   "source": [
    "payment = [758.90, 456.23, 812.3, 8578.90, 45373.98]"
   ]
  },
  {
   "cell_type": "code",
   "execution_count": 6,
   "id": "54f72689",
   "metadata": {},
   "outputs": [
    {
     "name": "stdout",
     "output_type": "stream",
     "text": [
      "<class 'list'>\n"
     ]
    }
   ],
   "source": [
    "print(type(payment))"
   ]
  },
  {
   "cell_type": "code",
   "execution_count": 7,
   "id": "f83fa17e",
   "metadata": {},
   "outputs": [
    {
     "name": "stdout",
     "output_type": "stream",
     "text": [
      "[758.9, 456.23, 812.3, 8578.9, 45373.98]\n"
     ]
    }
   ],
   "source": [
    "print(payment)"
   ]
  },
  {
   "cell_type": "code",
   "execution_count": 8,
   "id": "05b37e5d",
   "metadata": {},
   "outputs": [
    {
     "name": "stdout",
     "output_type": "stream",
     "text": [
      "5\n"
     ]
    }
   ],
   "source": [
    "print(len(payment))"
   ]
  },
  {
   "cell_type": "code",
   "execution_count": 9,
   "id": "c553efdb",
   "metadata": {},
   "outputs": [],
   "source": [
    "payment.append(8000.67)"
   ]
  },
  {
   "cell_type": "code",
   "execution_count": 10,
   "id": "71379f85",
   "metadata": {},
   "outputs": [],
   "source": [
    "payment.append(19084.45)"
   ]
  },
  {
   "cell_type": "code",
   "execution_count": 11,
   "id": "87d3364b",
   "metadata": {},
   "outputs": [
    {
     "name": "stdout",
     "output_type": "stream",
     "text": [
      "[758.9, 456.23, 812.3, 8578.9, 45373.98, 8000.67, 19084.45]\n"
     ]
    }
   ],
   "source": [
    "print(payment)"
   ]
  },
  {
   "cell_type": "code",
   "execution_count": 12,
   "id": "40584262",
   "metadata": {},
   "outputs": [],
   "source": [
    "payment.remove(812.3)"
   ]
  },
  {
   "cell_type": "code",
   "execution_count": 13,
   "id": "bd7b098e",
   "metadata": {},
   "outputs": [
    {
     "name": "stdout",
     "output_type": "stream",
     "text": [
      "[758.9, 456.23, 8578.9, 45373.98, 8000.67, 19084.45]\n"
     ]
    }
   ],
   "source": [
    "print(payment)"
   ]
  },
  {
   "cell_type": "code",
   "execution_count": null,
   "id": "337a27e2",
   "metadata": {},
   "outputs": [],
   "source": []
  },
  {
   "cell_type": "code",
   "execution_count": null,
   "id": "6600b767",
   "metadata": {},
   "outputs": [],
   "source": []
  },
  {
   "cell_type": "code",
   "execution_count": 20,
   "id": "6623c400",
   "metadata": {},
   "outputs": [],
   "source": [
    "age_allowed_for_loan = 18"
   ]
  },
  {
   "cell_type": "code",
   "execution_count": 21,
   "id": "d9b24e64",
   "metadata": {},
   "outputs": [],
   "source": [
    "Customer_age = 18"
   ]
  },
  {
   "cell_type": "code",
   "execution_count": 33,
   "id": "6c7fcfa3",
   "metadata": {},
   "outputs": [
    {
     "name": "stdout",
     "output_type": "stream",
     "text": [
      "how old are you30\n",
      "Congratulations your loan has been approved\n"
     ]
    }
   ],
   "source": [
    "age_allowed_for_loan = int(input(\"how old are you\"))\n",
    "\n",
    "\n",
    "\n",
    "if age_allowed_for_loan < 18:\n",
    "    print(\"you are not allowed to apply for this loan\")\n",
    "    \n",
    "else:\n",
    "    print(\"Congratulations your loan has been approved\")"
   ]
  },
  {
   "cell_type": "code",
   "execution_count": null,
   "id": "83fb6d56",
   "metadata": {},
   "outputs": [],
   "source": []
  },
  {
   "cell_type": "code",
   "execution_count": null,
   "id": "0627a56d",
   "metadata": {},
   "outputs": [],
   "source": []
  },
  {
   "cell_type": "code",
   "execution_count": null,
   "id": "e9f1bdff",
   "metadata": {},
   "outputs": [],
   "source": []
  },
  {
   "cell_type": "code",
   "execution_count": 3,
   "id": "09ee75d8",
   "metadata": {},
   "outputs": [],
   "source": [
    "ehis_family  = {56, 78, 30, 23, 11, 35}"
   ]
  },
  {
   "cell_type": "code",
   "execution_count": 5,
   "id": "d8027fd4",
   "metadata": {},
   "outputs": [
    {
     "name": "stdout",
     "output_type": "stream",
     "text": [
      "{35, 30, 23, 56, 11, 78}\n"
     ]
    }
   ],
   "source": [
    "print(ehis_family)"
   ]
  },
  {
   "cell_type": "code",
   "execution_count": 6,
   "id": "7864f89c",
   "metadata": {},
   "outputs": [
    {
     "name": "stdout",
     "output_type": "stream",
     "text": [
      "<class 'set'>\n"
     ]
    }
   ],
   "source": [
    "print(type(ehis_family))"
   ]
  },
  {
   "cell_type": "code",
   "execution_count": 8,
   "id": "96c889c0",
   "metadata": {},
   "outputs": [
    {
     "name": "stdout",
     "output_type": "stream",
     "text": [
      "6\n"
     ]
    }
   ],
   "source": [
    "print(len(ehis_family))"
   ]
  },
  {
   "cell_type": "code",
   "execution_count": 9,
   "id": "6d0f75c5",
   "metadata": {},
   "outputs": [],
   "source": [
    "convert_ehis_family_to_tuple = tuple(ehis_family)"
   ]
  },
  {
   "cell_type": "code",
   "execution_count": 10,
   "id": "e79a238e",
   "metadata": {},
   "outputs": [
    {
     "name": "stdout",
     "output_type": "stream",
     "text": [
      "(35, 30, 23, 56, 11, 78)\n"
     ]
    }
   ],
   "source": [
    "print(convert_ehis_family_to_tuple)"
   ]
  },
  {
   "cell_type": "code",
   "execution_count": 12,
   "id": "dc83cb0d",
   "metadata": {},
   "outputs": [
    {
     "name": "stdout",
     "output_type": "stream",
     "text": [
      "<class 'tuple'>\n"
     ]
    }
   ],
   "source": [
    "print(type(convert_ehis_family_to_tuple))"
   ]
  },
  {
   "cell_type": "code",
   "execution_count": null,
   "id": "09da192c",
   "metadata": {},
   "outputs": [],
   "source": []
  },
  {
   "cell_type": "code",
   "execution_count": null,
   "id": "b53628bf",
   "metadata": {},
   "outputs": [],
   "source": []
  },
  {
   "cell_type": "code",
   "execution_count": 1,
   "id": "6679f55b",
   "metadata": {},
   "outputs": [],
   "source": [
    "customer_payment = 789.78"
   ]
  },
  {
   "cell_type": "code",
   "execution_count": 2,
   "id": "d17c8c16",
   "metadata": {},
   "outputs": [
    {
     "name": "stdout",
     "output_type": "stream",
     "text": [
      "789.78\n"
     ]
    }
   ],
   "source": [
    "print(customer_payment)"
   ]
  },
  {
   "cell_type": "code",
   "execution_count": 3,
   "id": "56a278bb",
   "metadata": {},
   "outputs": [
    {
     "name": "stdout",
     "output_type": "stream",
     "text": [
      "<class 'float'>\n"
     ]
    }
   ],
   "source": [
    "print(type(customer_payment))"
   ]
  },
  {
   "cell_type": "code",
   "execution_count": null,
   "id": "832b670c",
   "metadata": {},
   "outputs": [],
   "source": []
  },
  {
   "cell_type": "code",
   "execution_count": null,
   "id": "fc43df84",
   "metadata": {},
   "outputs": [],
   "source": []
  },
  {
   "cell_type": "code",
   "execution_count": null,
   "id": "1b859de1",
   "metadata": {},
   "outputs": [],
   "source": []
  },
  {
   "cell_type": "code",
   "execution_count": 21,
   "id": "3e58b025",
   "metadata": {},
   "outputs": [],
   "source": [
    "student_age_numbers = {22, 19, 23, 27, 29, 24, 24, 33, 40}"
   ]
  },
  {
   "cell_type": "code",
   "execution_count": 22,
   "id": "2d083d75",
   "metadata": {},
   "outputs": [
    {
     "name": "stdout",
     "output_type": "stream",
     "text": [
      "{33, 40, 19, 22, 23, 24, 27, 29}\n"
     ]
    }
   ],
   "source": [
    "print(student_age_numbers)"
   ]
  },
  {
   "cell_type": "code",
   "execution_count": 23,
   "id": "e9d0da32",
   "metadata": {},
   "outputs": [
    {
     "name": "stdout",
     "output_type": "stream",
     "text": [
      "<class 'set'>\n"
     ]
    }
   ],
   "source": [
    "print(type(student_age_numbers))"
   ]
  },
  {
   "cell_type": "code",
   "execution_count": 24,
   "id": "9d42f2a0",
   "metadata": {},
   "outputs": [
    {
     "name": "stdout",
     "output_type": "stream",
     "text": [
      "8\n"
     ]
    }
   ],
   "source": [
    "print(len(student_age_numbers))"
   ]
  },
  {
   "cell_type": "code",
   "execution_count": 25,
   "id": "228a59fc",
   "metadata": {},
   "outputs": [],
   "source": [
    "student_age_numbers.remove(40)"
   ]
  },
  {
   "cell_type": "code",
   "execution_count": 26,
   "id": "a4ed2592",
   "metadata": {},
   "outputs": [
    {
     "name": "stdout",
     "output_type": "stream",
     "text": [
      "{33, 19, 22, 23, 24, 27, 29}\n"
     ]
    }
   ],
   "source": [
    "print(student_age_numbers)"
   ]
  },
  {
   "cell_type": "code",
   "execution_count": null,
   "id": "467bfad3",
   "metadata": {},
   "outputs": [],
   "source": []
  },
  {
   "cell_type": "code",
   "execution_count": 28,
   "id": "79ecd044",
   "metadata": {},
   "outputs": [],
   "source": [
    "convert_student_age_numbers_to_list = list(student_age_numbers)"
   ]
  },
  {
   "cell_type": "code",
   "execution_count": 29,
   "id": "511db11c",
   "metadata": {},
   "outputs": [
    {
     "name": "stdout",
     "output_type": "stream",
     "text": [
      "[33, 19, 22, 23, 24, 27, 29]\n"
     ]
    }
   ],
   "source": [
    "print(convert_student_age_numbers_to_list)"
   ]
  },
  {
   "cell_type": "code",
   "execution_count": 30,
   "id": "0ae1fc69",
   "metadata": {},
   "outputs": [
    {
     "name": "stdout",
     "output_type": "stream",
     "text": [
      "<class 'list'>\n"
     ]
    }
   ],
   "source": [
    "print(type(convert_student_age_numbers_to_list))"
   ]
  },
  {
   "cell_type": "code",
   "execution_count": 47,
   "id": "bb7033fd",
   "metadata": {},
   "outputs": [],
   "source": [
    "convert_student_age_numbers_to_list.append(35)"
   ]
  },
  {
   "cell_type": "code",
   "execution_count": 48,
   "id": "494e9afe",
   "metadata": {},
   "outputs": [],
   "source": [
    "convert_student_age_numbers_to_list.append(17)"
   ]
  },
  {
   "cell_type": "code",
   "execution_count": 49,
   "id": "54d875ec",
   "metadata": {},
   "outputs": [],
   "source": [
    "convert_student_age_numbers_to_list.append(14)"
   ]
  },
  {
   "cell_type": "code",
   "execution_count": 50,
   "id": "54e59628",
   "metadata": {},
   "outputs": [],
   "source": [
    "convert_student_age_numbers_to_list_to_tuple = tuple(convert_student_age_numbers_to_list)"
   ]
  },
  {
   "cell_type": "code",
   "execution_count": 51,
   "id": "3c022bc0",
   "metadata": {},
   "outputs": [
    {
     "name": "stdout",
     "output_type": "stream",
     "text": [
      "(33, 19, 22, 23, 24, 27, 29, 35, 17, 14, 35, 17, 14)\n"
     ]
    }
   ],
   "source": [
    "print(convert_student_age_numbers_to_list_to_tuple)"
   ]
  },
  {
   "cell_type": "code",
   "execution_count": 52,
   "id": "8900e3d2",
   "metadata": {},
   "outputs": [
    {
     "name": "stdout",
     "output_type": "stream",
     "text": [
      "<class 'tuple'>\n"
     ]
    }
   ],
   "source": [
    "print(type(convert_student_age_numbers_to_list_to_tuple))"
   ]
  },
  {
   "cell_type": "code",
   "execution_count": null,
   "id": "d12e5022",
   "metadata": {},
   "outputs": [],
   "source": []
  }
 ],
 "metadata": {
  "kernelspec": {
   "display_name": "Python 3 (ipykernel)",
   "language": "python",
   "name": "python3"
  },
  "language_info": {
   "codemirror_mode": {
    "name": "ipython",
    "version": 3
   },
   "file_extension": ".py",
   "mimetype": "text/x-python",
   "name": "python",
   "nbconvert_exporter": "python",
   "pygments_lexer": "ipython3",
   "version": "3.10.4"
  }
 },
 "nbformat": 4,
 "nbformat_minor": 5
}
