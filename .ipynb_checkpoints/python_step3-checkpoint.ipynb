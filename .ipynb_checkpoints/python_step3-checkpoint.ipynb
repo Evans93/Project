{
 "cells": [
  {
   "cell_type": "markdown",
   "id": "10a49968",
   "metadata": {},
   "source": [
    "Logical operators in python"
   ]
  },
  {
   "cell_type": "code",
   "execution_count": null,
   "id": "7ccf1a13",
   "metadata": {},
   "outputs": [],
   "source": []
  },
  {
   "cell_type": "code",
   "execution_count": 1,
   "id": "6b7e962e",
   "metadata": {},
   "outputs": [
    {
     "name": "stdout",
     "output_type": "stream",
     "text": [
      "True\n"
     ]
    }
   ],
   "source": [
    "print((20 > 30) or (15 < 30))"
   ]
  },
  {
   "cell_type": "code",
   "execution_count": 2,
   "id": "1797eb6c",
   "metadata": {},
   "outputs": [
    {
     "name": "stdout",
     "output_type": "stream",
     "text": [
      "False\n"
     ]
    }
   ],
   "source": [
    "print((20 > 30) and (15 < 30))"
   ]
  },
  {
   "cell_type": "code",
   "execution_count": null,
   "id": "28a28ded",
   "metadata": {},
   "outputs": [],
   "source": []
  },
  {
   "cell_type": "code",
   "execution_count": 3,
   "id": "d603926a",
   "metadata": {},
   "outputs": [],
   "source": [
    "names = [\"evans\", \"john\"]"
   ]
  },
  {
   "cell_type": "code",
   "execution_count": 6,
   "id": "b7406ed0",
   "metadata": {},
   "outputs": [
    {
     "name": "stdout",
     "output_type": "stream",
     "text": [
      "False\n"
     ]
    }
   ],
   "source": [
    "print((\"evans\" in names) and (\"johnn\" in names))"
   ]
  },
  {
   "cell_type": "code",
   "execution_count": null,
   "id": "4eaedf6b",
   "metadata": {},
   "outputs": [],
   "source": []
  },
  {
   "cell_type": "code",
   "execution_count": 8,
   "id": "64e55783",
   "metadata": {},
   "outputs": [
    {
     "name": "stdout",
     "output_type": "stream",
     "text": [
      "True\n"
     ]
    }
   ],
   "source": [
    "print((\"evans\" in names) or (\"johnn\" in names))"
   ]
  },
  {
   "cell_type": "code",
   "execution_count": null,
   "id": "213c970a",
   "metadata": {},
   "outputs": [],
   "source": []
  },
  {
   "cell_type": "markdown",
   "id": "7e884e75",
   "metadata": {},
   "source": [
    "if and else statement"
   ]
  },
  {
   "cell_type": "code",
   "execution_count": 14,
   "id": "4e6d095f",
   "metadata": {},
   "outputs": [
    {
     "name": "stdout",
     "output_type": "stream",
     "text": [
      "how old are you:           22\n",
      "you are qulified to register\n"
     ]
    }
   ],
   "source": [
    "age = int(input(\"how old are you:           \"))\n",
    "Threshold = 18\n",
    "\n",
    "if age > Threshold:\n",
    "    print(\"you are qulified to register\")\n",
    "else:\n",
    "    print(\"you are not qualified\")"
   ]
  },
  {
   "cell_type": "code",
   "execution_count": null,
   "id": "08420279",
   "metadata": {},
   "outputs": [],
   "source": []
  },
  {
   "cell_type": "code",
   "execution_count": 16,
   "id": "570bbc06",
   "metadata": {},
   "outputs": [
    {
     "name": "stdout",
     "output_type": "stream",
     "text": [
      "how are you:       17\n",
      "you are not elligible to watch this movie\n"
     ]
    }
   ],
   "source": [
    "age_allowed_to_access_this_movie = int(input(\"how are you:       \"))\n",
    "\n",
    "if age_allowed_to_access_this_movie >= 18:\n",
    "    print(\"you are eligible to watch this movie\")\n",
    "else:\n",
    "    print(\"you are not elligible to watch this movie\")"
   ]
  },
  {
   "cell_type": "code",
   "execution_count": null,
   "id": "901ccbba",
   "metadata": {},
   "outputs": [],
   "source": []
  },
  {
   "cell_type": "code",
   "execution_count": 17,
   "id": "da723749",
   "metadata": {},
   "outputs": [],
   "source": [
    "number = 2000"
   ]
  },
  {
   "cell_type": "code",
   "execution_count": 20,
   "id": "60d97dfe",
   "metadata": {},
   "outputs": [
    {
     "name": "stdout",
     "output_type": "stream",
     "text": [
      "its not correct\n"
     ]
    }
   ],
   "source": [
    "if number >= 5000:\n",
    "    print(\"yes its correct\")\n",
    "else:\n",
    "    print(\"its not correct\")"
   ]
  },
  {
   "cell_type": "code",
   "execution_count": null,
   "id": "71a17eda",
   "metadata": {},
   "outputs": [],
   "source": []
  },
  {
   "cell_type": "code",
   "execution_count": null,
   "id": "1c3d440e",
   "metadata": {},
   "outputs": [],
   "source": []
  },
  {
   "cell_type": "code",
   "execution_count": null,
   "id": "c4b7f04c",
   "metadata": {},
   "outputs": [],
   "source": []
  },
  {
   "cell_type": "code",
   "execution_count": null,
   "id": "58ccdd68",
   "metadata": {},
   "outputs": [],
   "source": []
  },
  {
   "cell_type": "code",
   "execution_count": null,
   "id": "c1f6bb73",
   "metadata": {},
   "outputs": [],
   "source": []
  },
  {
   "cell_type": "code",
   "execution_count": null,
   "id": "15d61c50",
   "metadata": {},
   "outputs": [],
   "source": []
  },
  {
   "cell_type": "code",
   "execution_count": null,
   "id": "c9d5aab1",
   "metadata": {},
   "outputs": [],
   "source": []
  },
  {
   "cell_type": "code",
   "execution_count": null,
   "id": "2693da3b",
   "metadata": {},
   "outputs": [],
   "source": []
  },
  {
   "cell_type": "code",
   "execution_count": null,
   "id": "57daaf71",
   "metadata": {},
   "outputs": [],
   "source": []
  },
  {
   "cell_type": "code",
   "execution_count": 50,
   "id": "22576a32",
   "metadata": {},
   "outputs": [
    {
     "name": "stdout",
     "output_type": "stream",
     "text": [
      "how old are you :      on\n",
      "Please type an integer!!!\n"
     ]
    }
   ],
   "source": [
    "age_allowed_to_access_movie = input(\"how old are you :      \")\n",
    "\n",
    "if type(age_allowed_to_access_movie) != int:\n",
    "    \n",
    "    print(\"Please type an integer!!!\")\n",
    "    age_allowed_to_access_movie"
   ]
  },
  {
   "cell_type": "code",
   "execution_count": null,
   "id": "daf2c0cb",
   "metadata": {},
   "outputs": [],
   "source": [
    "age_allowed_to_access_movie = input(\"how old are you :      \")"
   ]
  },
  {
   "cell_type": "code",
   "execution_count": null,
   "id": "33aa8f77",
   "metadata": {},
   "outputs": [],
   "source": []
  },
  {
   "cell_type": "code",
   "execution_count": 53,
   "id": "43783202",
   "metadata": {},
   "outputs": [
    {
     "name": "stdout",
     "output_type": "stream",
     "text": [
      "yes its less\n",
      "yes its less\n",
      "yes its less\n"
     ]
    }
   ],
   "source": [
    "x = 1\n",
    "\n",
    "while x < 4:\n",
    "    print(\"yes its less\")\n",
    "    x = x + 1"
   ]
  },
  {
   "cell_type": "code",
   "execution_count": 73,
   "id": "f402bf7f",
   "metadata": {},
   "outputs": [
    {
     "name": "stdout",
     "output_type": "stream",
     "text": [
      "how old are you:   ghjklkhvfghj\n",
      "Please put a digit number\n",
      "how old are you:   gfhjkljgv\n",
      "Please put a digit number\n",
      "how old are you:   fcghgjk\n",
      "Please put a digit number\n",
      "how old are you:   5\n",
      "Please put a digit number\n",
      "New age after converted is 5\n"
     ]
    }
   ],
   "source": [
    "import logging\n",
    "\n",
    "age = \"None\"\n",
    "\n",
    "while not age.isdigit():\n",
    "    age = input(\"how old are you:   \")\n",
    "    logging.\n",
    "else:\n",
    "    age = int(age)\n",
    "    print(f\"New age after converted is {age}\")\n",
    "    \n",
    "    \n",
    "\n",
    "    "
   ]
  },
  {
   "cell_type": "code",
   "execution_count": 77,
   "id": "5e9ae652",
   "metadata": {},
   "outputs": [],
   "source": [
    "x = \"56789\""
   ]
  },
  {
   "cell_type": "code",
   "execution_count": 62,
   "id": "5115d3be",
   "metadata": {},
   "outputs": [],
   "source": []
  },
  {
   "cell_type": "code",
   "execution_count": 78,
   "id": "9ef87ef2",
   "metadata": {},
   "outputs": [
    {
     "name": "stdout",
     "output_type": "stream",
     "text": [
      "True\n"
     ]
    }
   ],
   "source": [
    "print(x.isdigit())"
   ]
  },
  {
   "cell_type": "code",
   "execution_count": null,
   "id": "888984f9",
   "metadata": {},
   "outputs": [],
   "source": []
  },
  {
   "cell_type": "code",
   "execution_count": 34,
   "id": "4dc8aadb",
   "metadata": {},
   "outputs": [
    {
     "name": "stdout",
     "output_type": "stream",
     "text": [
      "<class 'int'>\n"
     ]
    }
   ],
   "source": [
    "print(type(age_allowed_to_access_movie))"
   ]
  },
  {
   "cell_type": "code",
   "execution_count": null,
   "id": "a12728fd",
   "metadata": {},
   "outputs": [],
   "source": []
  },
  {
   "cell_type": "code",
   "execution_count": 47,
   "id": "f6d1daeb",
   "metadata": {},
   "outputs": [],
   "source": [
    "a = 1\n",
    "b = 'dre'\n",
    "c = 12.5"
   ]
  },
  {
   "cell_type": "code",
   "execution_count": 49,
   "id": "1b6a89d1",
   "metadata": {},
   "outputs": [
    {
     "name": "stdout",
     "output_type": "stream",
     "text": [
      "<class 'str'>\n"
     ]
    }
   ],
   "source": [
    "print(type(b))"
   ]
  },
  {
   "cell_type": "code",
   "execution_count": null,
   "id": "cf11a66c",
   "metadata": {},
   "outputs": [],
   "source": []
  },
  {
   "cell_type": "code",
   "execution_count": null,
   "id": "cd3b93f0",
   "metadata": {},
   "outputs": [],
   "source": []
  },
  {
   "cell_type": "code",
   "execution_count": 85,
   "id": "de89301a",
   "metadata": {},
   "outputs": [
    {
     "name": "stdout",
     "output_type": "stream",
     "text": [
      "how old are you:        45\n",
      "you are permisioned\n"
     ]
    }
   ],
   "source": [
    "age_allowed_to_access_Website = int(input(\"how old are you:        \"))\n",
    "\n",
    "if age_allowed_to_access_Website < 18:\n",
    "    print(\"you are not permited\")\n",
    "else:\n",
    "    print(\"you are permisioned\")"
   ]
  },
  {
   "cell_type": "code",
   "execution_count": null,
   "id": "2e1eb2f9",
   "metadata": {},
   "outputs": [],
   "source": []
  },
  {
   "cell_type": "code",
   "execution_count": null,
   "id": "9a141bc0",
   "metadata": {},
   "outputs": [],
   "source": []
  },
  {
   "cell_type": "code",
   "execution_count": null,
   "id": "7549f191",
   "metadata": {},
   "outputs": [],
   "source": []
  },
  {
   "cell_type": "code",
   "execution_count": null,
   "id": "6bf590ef",
   "metadata": {},
   "outputs": [],
   "source": []
  },
  {
   "cell_type": "code",
   "execution_count": null,
   "id": "df9db5cc",
   "metadata": {},
   "outputs": [],
   "source": []
  },
  {
   "cell_type": "code",
   "execution_count": null,
   "id": "75d3a7e3",
   "metadata": {},
   "outputs": [],
   "source": []
  },
  {
   "cell_type": "code",
   "execution_count": null,
   "id": "a1e6fc12",
   "metadata": {},
   "outputs": [],
   "source": []
  },
  {
   "cell_type": "code",
   "execution_count": null,
   "id": "d92c9c99",
   "metadata": {},
   "outputs": [],
   "source": []
  },
  {
   "cell_type": "code",
   "execution_count": null,
   "id": "2208dce7",
   "metadata": {},
   "outputs": [],
   "source": []
  },
  {
   "cell_type": "code",
   "execution_count": null,
   "id": "f4630f7e",
   "metadata": {},
   "outputs": [],
   "source": []
  },
  {
   "cell_type": "code",
   "execution_count": null,
   "id": "477f6a8b",
   "metadata": {},
   "outputs": [],
   "source": []
  },
  {
   "cell_type": "code",
   "execution_count": null,
   "id": "7050e4c8",
   "metadata": {},
   "outputs": [],
   "source": []
  },
  {
   "cell_type": "code",
   "execution_count": null,
   "id": "bf8474d8",
   "metadata": {},
   "outputs": [],
   "source": []
  },
  {
   "cell_type": "code",
   "execution_count": null,
   "id": "8f3b96ac",
   "metadata": {},
   "outputs": [],
   "source": []
  },
  {
   "cell_type": "code",
   "execution_count": 1,
   "id": "41111aa4",
   "metadata": {},
   "outputs": [],
   "source": [
    "evans_house = {40, 65, 87, 33, 12, 90, 45}"
   ]
  },
  {
   "cell_type": "code",
   "execution_count": 3,
   "id": "cd665d82",
   "metadata": {},
   "outputs": [
    {
     "name": "stdout",
     "output_type": "stream",
     "text": [
      "{65, 33, 87, 40, 90, 12, 45}\n"
     ]
    }
   ],
   "source": [
    "print(evans_house)"
   ]
  },
  {
   "cell_type": "code",
   "execution_count": 5,
   "id": "8b015264",
   "metadata": {},
   "outputs": [
    {
     "name": "stdout",
     "output_type": "stream",
     "text": [
      "<class 'set'>\n"
     ]
    }
   ],
   "source": [
    "print(type(evans_house))"
   ]
  },
  {
   "cell_type": "code",
   "execution_count": 7,
   "id": "405bde86",
   "metadata": {},
   "outputs": [],
   "source": [
    "convert_evans_house_to_list = list(evans_house)"
   ]
  },
  {
   "cell_type": "code",
   "execution_count": 10,
   "id": "abd24fb2",
   "metadata": {},
   "outputs": [
    {
     "name": "stdout",
     "output_type": "stream",
     "text": [
      "[65, 33, 87, 40, 90, 12, 45]\n"
     ]
    }
   ],
   "source": [
    "print(convert_evans_house_to_list)"
   ]
  },
  {
   "cell_type": "code",
   "execution_count": 12,
   "id": "867bdb7a",
   "metadata": {},
   "outputs": [
    {
     "name": "stdout",
     "output_type": "stream",
     "text": [
      "<class 'list'>\n"
     ]
    }
   ],
   "source": [
    "print(type(convert_evans_house_to_list))"
   ]
  },
  {
   "cell_type": "code",
   "execution_count": 13,
   "id": "92339b4c",
   "metadata": {},
   "outputs": [],
   "source": [
    "convert_evans_house_to_list.append(120.43)"
   ]
  },
  {
   "cell_type": "code",
   "execution_count": 14,
   "id": "f9379dab",
   "metadata": {},
   "outputs": [],
   "source": [
    "convert_evans_house_to_list.append(457.21)"
   ]
  },
  {
   "cell_type": "code",
   "execution_count": 15,
   "id": "abd76f60",
   "metadata": {},
   "outputs": [],
   "source": [
    "convert_evans_house_to_list.append(578.13)"
   ]
  },
  {
   "cell_type": "code",
   "execution_count": 16,
   "id": "c9f29ed7",
   "metadata": {},
   "outputs": [
    {
     "name": "stdout",
     "output_type": "stream",
     "text": [
      "[65, 33, 87, 40, 90, 12, 45, 120.43, 457.21, 578.13]\n"
     ]
    }
   ],
   "source": [
    "print(convert_evans_house_to_list)"
   ]
  },
  {
   "cell_type": "code",
   "execution_count": 19,
   "id": "a52cb18f",
   "metadata": {},
   "outputs": [
    {
     "name": "stdout",
     "output_type": "stream",
     "text": [
      "87\n"
     ]
    }
   ],
   "source": [
    "print(convert_evans_house_to_list[2])"
   ]
  },
  {
   "cell_type": "code",
   "execution_count": 20,
   "id": "13b946ef",
   "metadata": {},
   "outputs": [
    {
     "name": "stdout",
     "output_type": "stream",
     "text": [
      "578.13\n"
     ]
    }
   ],
   "source": [
    "print(convert_evans_house_to_list[-1])"
   ]
  },
  {
   "cell_type": "code",
   "execution_count": 24,
   "id": "71762ead",
   "metadata": {},
   "outputs": [
    {
     "name": "stdout",
     "output_type": "stream",
     "text": [
      "10\n"
     ]
    }
   ],
   "source": [
    "print(len(convert_evans_house_to_list))"
   ]
  },
  {
   "cell_type": "code",
   "execution_count": 29,
   "id": "7d09f0cf",
   "metadata": {},
   "outputs": [],
   "source": [
    "convert_evans_house_to_list.sort()"
   ]
  },
  {
   "cell_type": "code",
   "execution_count": 32,
   "id": "4a3abe1c",
   "metadata": {},
   "outputs": [
    {
     "name": "stdout",
     "output_type": "stream",
     "text": [
      "[12, 33, 40, 45, 65, 87, 90, 120.43, 457.21, 578.13]\n"
     ]
    }
   ],
   "source": [
    "print(convert_evans_house_to_list)"
   ]
  },
  {
   "cell_type": "code",
   "execution_count": null,
   "id": "4ba5d684",
   "metadata": {},
   "outputs": [],
   "source": []
  },
  {
   "cell_type": "code",
   "execution_count": 33,
   "id": "5191262e",
   "metadata": {},
   "outputs": [],
   "source": [
    "convert_evans_house_to_list[0] = 987.45"
   ]
  },
  {
   "cell_type": "code",
   "execution_count": 34,
   "id": "beeadd79",
   "metadata": {},
   "outputs": [
    {
     "name": "stdout",
     "output_type": "stream",
     "text": [
      "[987.45, 33, 40, 45, 65, 87, 90, 120.43, 457.21, 578.13]\n"
     ]
    }
   ],
   "source": [
    "print(convert_evans_house_to_list)"
   ]
  },
  {
   "cell_type": "code",
   "execution_count": 35,
   "id": "339eb6ca",
   "metadata": {},
   "outputs": [],
   "source": [
    "convert_evans_house_to_list[1] = 794.90"
   ]
  },
  {
   "cell_type": "code",
   "execution_count": 36,
   "id": "816d1c75",
   "metadata": {},
   "outputs": [],
   "source": [
    "convert_evans_house_to_list[2] = [593.00]"
   ]
  },
  {
   "cell_type": "code",
   "execution_count": 37,
   "id": "a794a360",
   "metadata": {},
   "outputs": [
    {
     "name": "stdout",
     "output_type": "stream",
     "text": [
      "[987.45, 794.9, [593.0], 45, 65, 87, 90, 120.43, 457.21, 578.13]\n"
     ]
    }
   ],
   "source": [
    "print(convert_evans_house_to_list)"
   ]
  },
  {
   "cell_type": "code",
   "execution_count": 38,
   "id": "130dd8a3",
   "metadata": {},
   "outputs": [
    {
     "name": "stdout",
     "output_type": "stream",
     "text": [
      "False\n"
     ]
    }
   ],
   "source": [
    "print(987.45 not in convert_evans_house_to_list)"
   ]
  },
  {
   "cell_type": "code",
   "execution_count": null,
   "id": "aa5ed753",
   "metadata": {},
   "outputs": [],
   "source": []
  },
  {
   "cell_type": "code",
   "execution_count": null,
   "id": "53e689e3",
   "metadata": {},
   "outputs": [],
   "source": []
  },
  {
   "cell_type": "code",
   "execution_count": null,
   "id": "9db0901d",
   "metadata": {},
   "outputs": [],
   "source": []
  },
  {
   "cell_type": "code",
   "execution_count": 43,
   "id": "5d010bc3",
   "metadata": {},
   "outputs": [],
   "source": [
    "age = 18"
   ]
  },
  {
   "cell_type": "code",
   "execution_count": 48,
   "id": "47b6ef39",
   "metadata": {},
   "outputs": [
    {
     "name": "stdout",
     "output_type": "stream",
     "text": [
      "how old are yo:      14\n",
      "sorry you are not Permited to access this website\n"
     ]
    }
   ],
   "source": [
    "age = int(input(\"how old are yo:      \"))\n",
    "\n",
    "if age < 18:\n",
    "    print(\"sorry you are not Permited to access this website\")\n",
    "    \n",
    "else:\n",
    "    print(\"you are permited\")"
   ]
  },
  {
   "cell_type": "code",
   "execution_count": null,
   "id": "5d5f9360",
   "metadata": {},
   "outputs": [],
   "source": []
  },
  {
   "cell_type": "code",
   "execution_count": null,
   "id": "38369ac7",
   "metadata": {},
   "outputs": [],
   "source": []
  },
  {
   "cell_type": "code",
   "execution_count": 49,
   "id": "97ded2b2",
   "metadata": {},
   "outputs": [
    {
     "name": "stdout",
     "output_type": "stream",
     "text": [
      "<class 'int'>\n"
     ]
    }
   ],
   "source": [
    "print(type(age))"
   ]
  },
  {
   "cell_type": "code",
   "execution_count": null,
   "id": "ccf4e276",
   "metadata": {},
   "outputs": [],
   "source": []
  },
  {
   "cell_type": "code",
   "execution_count": null,
   "id": "f6e76f32",
   "metadata": {},
   "outputs": [],
   "source": []
  },
  {
   "cell_type": "code",
   "execution_count": 71,
   "id": "eafc3b6b",
   "metadata": {},
   "outputs": [
    {
     "name": "stdout",
     "output_type": "stream",
     "text": [
      "900\n",
      "please guess the magic number:      128\n",
      "you lost\n"
     ]
    }
   ],
   "source": [
    "Winning_number = 100\n",
    "user_number = 900\n",
    "\n",
    "\n",
    "import random\n",
    "\n",
    "\n",
    "Winning_number = random.randint(1, 200)\n",
    "\n",
    "print(user_number)\n",
    "\n",
    "user_number = int(input(\"please guess the magic number:      \"))\n",
    "\n",
    "if Winning_number < user_number:\n",
    "    print(\"you have won\")\n",
    "    \n",
    "else:\n",
    "    print(\"you lost\")"
   ]
  },
  {
   "cell_type": "code",
   "execution_count": null,
   "id": "c9bb0f38",
   "metadata": {},
   "outputs": [],
   "source": []
  },
  {
   "cell_type": "code",
   "execution_count": null,
   "id": "4b7cd465",
   "metadata": {},
   "outputs": [],
   "source": []
  }
 ],
 "metadata": {
  "kernelspec": {
   "display_name": "Python 3 (ipykernel)",
   "language": "python",
   "name": "python3"
  },
  "language_info": {
   "codemirror_mode": {
    "name": "ipython",
    "version": 3
   },
   "file_extension": ".py",
   "mimetype": "text/x-python",
   "name": "python",
   "nbconvert_exporter": "python",
   "pygments_lexer": "ipython3",
   "version": "3.10.4"
  }
 },
 "nbformat": 4,
 "nbformat_minor": 5
}
