{
 "cells": [
  {
   "cell_type": "markdown",
   "id": "022a47c6",
   "metadata": {},
   "source": [
    "SET"
   ]
  },
  {
   "cell_type": "code",
   "execution_count": 1,
   "id": "4286b462",
   "metadata": {},
   "outputs": [],
   "source": [
    "age = {45, 32, 32, 27, 38, 19, 20}"
   ]
  },
  {
   "cell_type": "code",
   "execution_count": 2,
   "id": "feaa4517",
   "metadata": {},
   "outputs": [
    {
     "name": "stdout",
     "output_type": "stream",
     "text": [
      "{32, 19, 20, 38, 27, 45}\n"
     ]
    }
   ],
   "source": [
    "print(age)"
   ]
  },
  {
   "cell_type": "code",
   "execution_count": 3,
   "id": "bcd2ed44",
   "metadata": {},
   "outputs": [],
   "source": [
    "names = {\"evans\", \"tope\", \"evans\", \"abbey\", \"kola\", \"dotun\"}"
   ]
  },
  {
   "cell_type": "code",
   "execution_count": 4,
   "id": "155a7968",
   "metadata": {},
   "outputs": [
    {
     "name": "stdout",
     "output_type": "stream",
     "text": [
      "{'evans', 'tope', 'abbey', 'dotun', 'kola'}\n"
     ]
    }
   ],
   "source": [
    "print(names)"
   ]
  },
  {
   "cell_type": "code",
   "execution_count": null,
   "id": "6d492bb3",
   "metadata": {},
   "outputs": [],
   "source": []
  },
  {
   "cell_type": "code",
   "execution_count": 5,
   "id": "cfa4b863",
   "metadata": {},
   "outputs": [],
   "source": [
    "country_names ={\"Germany\", \"Germany\", \"USA\", \"Japan\", \"China\", \"Russia\", \"Ukraine\", \"Ukraine\"}"
   ]
  },
  {
   "cell_type": "code",
   "execution_count": 6,
   "id": "d1d9e959",
   "metadata": {},
   "outputs": [
    {
     "name": "stdout",
     "output_type": "stream",
     "text": [
      "{'Germany', 'Ukraine', 'Japan', 'USA', 'China', 'Russia'}\n"
     ]
    }
   ],
   "source": [
    "print(country_names)"
   ]
  },
  {
   "cell_type": "code",
   "execution_count": 8,
   "id": "1edfde43",
   "metadata": {},
   "outputs": [
    {
     "name": "stdout",
     "output_type": "stream",
     "text": [
      "<class 'set'>\n"
     ]
    }
   ],
   "source": [
    "print(type(country_names))"
   ]
  },
  {
   "cell_type": "code",
   "execution_count": null,
   "id": "541710a5",
   "metadata": {},
   "outputs": [],
   "source": []
  },
  {
   "cell_type": "code",
   "execution_count": 53,
   "id": "11f40921",
   "metadata": {},
   "outputs": [],
   "source": [
    "Overdraft = {50.32, 68.0, 45.21, 68.0, 24.54, 50.32, 74.2}"
   ]
  },
  {
   "cell_type": "code",
   "execution_count": 55,
   "id": "5d5b3c7e",
   "metadata": {},
   "outputs": [
    {
     "name": "stdout",
     "output_type": "stream",
     "text": [
      "<class 'set'>\n"
     ]
    }
   ],
   "source": [
    "print(type(Overdraft))"
   ]
  },
  {
   "cell_type": "code",
   "execution_count": 56,
   "id": "3c89e073",
   "metadata": {},
   "outputs": [
    {
     "name": "stdout",
     "output_type": "stream",
     "text": [
      "{50.32, 68.0, 24.54, 74.2, 45.21}\n"
     ]
    }
   ],
   "source": [
    "print(Overdraft)"
   ]
  },
  {
   "cell_type": "raw",
   "id": "b05e2bce",
   "metadata": {},
   "source": [
    "print(evans_house.keys)"
   ]
  },
  {
   "cell_type": "code",
   "execution_count": null,
   "id": "421f5479",
   "metadata": {},
   "outputs": [],
   "source": []
  },
  {
   "cell_type": "code",
   "execution_count": 51,
   "id": "5a17efba",
   "metadata": {},
   "outputs": [],
   "source": [
    "new_Overdraft = list(Overdraft)"
   ]
  },
  {
   "cell_type": "code",
   "execution_count": 52,
   "id": "3c66d2d9",
   "metadata": {},
   "outputs": [
    {
     "name": "stdout",
     "output_type": "stream",
     "text": [
      "<class 'list'>\n"
     ]
    }
   ],
   "source": [
    "print(type(new_Overdraft))"
   ]
  },
  {
   "cell_type": "code",
   "execution_count": 53,
   "id": "346027b1",
   "metadata": {},
   "outputs": [
    {
     "name": "stdout",
     "output_type": "stream",
     "text": [
      "[50.32, 68.0, 24.54, 74.2, 45.21]\n"
     ]
    }
   ],
   "source": [
    "print(new_Overdraft)"
   ]
  },
  {
   "cell_type": "code",
   "execution_count": 54,
   "id": "0c9ba37a",
   "metadata": {},
   "outputs": [
    {
     "data": {
      "text/plain": [
       "5"
      ]
     },
     "execution_count": 54,
     "metadata": {},
     "output_type": "execute_result"
    }
   ],
   "source": [
    "len(new_Overdraft)"
   ]
  },
  {
   "cell_type": "code",
   "execution_count": 55,
   "id": "70c1193b",
   "metadata": {},
   "outputs": [],
   "source": [
    "new_Overdraft.append(100.65)"
   ]
  },
  {
   "cell_type": "code",
   "execution_count": 56,
   "id": "af6005d7",
   "metadata": {},
   "outputs": [],
   "source": [
    "new_Overdraft.append(90.4)"
   ]
  },
  {
   "cell_type": "code",
   "execution_count": 57,
   "id": "b46d7f11",
   "metadata": {},
   "outputs": [],
   "source": [
    "new_Overdraft.append(23.1)"
   ]
  },
  {
   "cell_type": "code",
   "execution_count": 58,
   "id": "01caf50f",
   "metadata": {},
   "outputs": [
    {
     "name": "stdout",
     "output_type": "stream",
     "text": [
      "[50.32, 68.0, 24.54, 74.2, 45.21, 100.65, 90.4, 23.1]\n"
     ]
    }
   ],
   "source": [
    "print(new_Overdraft)"
   ]
  },
  {
   "cell_type": "code",
   "execution_count": 59,
   "id": "d8e4b33f",
   "metadata": {},
   "outputs": [],
   "source": [
    "new_Overdraft.remove(68.0)"
   ]
  },
  {
   "cell_type": "code",
   "execution_count": 60,
   "id": "71f8d8ef",
   "metadata": {},
   "outputs": [
    {
     "name": "stdout",
     "output_type": "stream",
     "text": [
      "[50.32, 24.54, 74.2, 45.21, 100.65, 90.4, 23.1]\n"
     ]
    }
   ],
   "source": [
    "print(new_Overdraft)"
   ]
  },
  {
   "cell_type": "code",
   "execution_count": null,
   "id": "33db1b2c",
   "metadata": {},
   "outputs": [],
   "source": []
  },
  {
   "cell_type": "code",
   "execution_count": 61,
   "id": "1264e068",
   "metadata": {},
   "outputs": [
    {
     "name": "stdout",
     "output_type": "stream",
     "text": [
      "50.32\n"
     ]
    }
   ],
   "source": [
    "print(new_Overdraft[0])"
   ]
  },
  {
   "cell_type": "code",
   "execution_count": 62,
   "id": "973c0765",
   "metadata": {},
   "outputs": [
    {
     "name": "stdout",
     "output_type": "stream",
     "text": [
      "23.1\n"
     ]
    }
   ],
   "source": [
    "print(new_Overdraft[-1])"
   ]
  },
  {
   "cell_type": "code",
   "execution_count": 63,
   "id": "ca97cf2a",
   "metadata": {},
   "outputs": [
    {
     "data": {
      "text/plain": [
       "7"
      ]
     },
     "execution_count": 63,
     "metadata": {},
     "output_type": "execute_result"
    }
   ],
   "source": [
    "len(new_Overdraft)"
   ]
  },
  {
   "cell_type": "code",
   "execution_count": 64,
   "id": "088d0a55",
   "metadata": {},
   "outputs": [
    {
     "name": "stdout",
     "output_type": "stream",
     "text": [
      "[45.21, 100.65, 90.4, 23.1]\n"
     ]
    }
   ],
   "source": [
    "print(new_Overdraft[3:])"
   ]
  },
  {
   "cell_type": "code",
   "execution_count": 65,
   "id": "dd091b79",
   "metadata": {},
   "outputs": [
    {
     "name": "stdout",
     "output_type": "stream",
     "text": [
      "[50.32, 24.54, 74.2, 45.21]\n"
     ]
    }
   ],
   "source": [
    "print(new_Overdraft[:4])"
   ]
  },
  {
   "cell_type": "code",
   "execution_count": 66,
   "id": "3be57ea0",
   "metadata": {},
   "outputs": [],
   "source": [
    "new_Overdraft.sort()"
   ]
  },
  {
   "cell_type": "code",
   "execution_count": 67,
   "id": "3c0cc8cb",
   "metadata": {},
   "outputs": [
    {
     "name": "stdout",
     "output_type": "stream",
     "text": [
      "[23.1, 24.54, 45.21, 50.32, 74.2, 90.4, 100.65]\n"
     ]
    }
   ],
   "source": [
    "print(new_Overdraft)"
   ]
  },
  {
   "cell_type": "code",
   "execution_count": 68,
   "id": "f1a3c883",
   "metadata": {},
   "outputs": [],
   "source": [
    "convert_list_to_tuple = tuple(new_Overdraft)"
   ]
  },
  {
   "cell_type": "code",
   "execution_count": 69,
   "id": "4497d4c5",
   "metadata": {},
   "outputs": [
    {
     "name": "stdout",
     "output_type": "stream",
     "text": [
      "(23.1, 24.54, 45.21, 50.32, 74.2, 90.4, 100.65)\n"
     ]
    }
   ],
   "source": [
    "print(convert_list_to_tuple)"
   ]
  },
  {
   "cell_type": "code",
   "execution_count": 70,
   "id": "691417d1",
   "metadata": {},
   "outputs": [
    {
     "name": "stdout",
     "output_type": "stream",
     "text": [
      "<class 'tuple'>\n"
     ]
    }
   ],
   "source": [
    "print(type(convert_list_to_tuple))"
   ]
  },
  {
   "cell_type": "code",
   "execution_count": null,
   "id": "c14424ae",
   "metadata": {},
   "outputs": [],
   "source": []
  },
  {
   "cell_type": "code",
   "execution_count": null,
   "id": "5f83aeba",
   "metadata": {},
   "outputs": [],
   "source": []
  },
  {
   "cell_type": "code",
   "execution_count": 71,
   "id": "be9c0901",
   "metadata": {},
   "outputs": [],
   "source": [
    "evans_house = {\"imole\": 20, \"tunde\": 23, \"tope\": 34, \"funmi\": 37, \"tope\": 34, \"abbey\": 45}"
   ]
  },
  {
   "cell_type": "code",
   "execution_count": 72,
   "id": "73211d0f",
   "metadata": {},
   "outputs": [
    {
     "name": "stdout",
     "output_type": "stream",
     "text": [
      "<class 'dict'>\n"
     ]
    }
   ],
   "source": [
    "print(type(evans_house))"
   ]
  },
  {
   "cell_type": "code",
   "execution_count": 73,
   "id": "8503779e",
   "metadata": {},
   "outputs": [
    {
     "data": {
      "text/plain": [
       "5"
      ]
     },
     "execution_count": 73,
     "metadata": {},
     "output_type": "execute_result"
    }
   ],
   "source": [
    "len(evans_house)"
   ]
  },
  {
   "cell_type": "code",
   "execution_count": 74,
   "id": "e59592af",
   "metadata": {},
   "outputs": [
    {
     "name": "stdout",
     "output_type": "stream",
     "text": [
      "{'imole': 20, 'tunde': 23, 'tope': 34, 'funmi': 37, 'abbey': 45}\n"
     ]
    }
   ],
   "source": [
    "print(evans_house)"
   ]
  },
  {
   "cell_type": "code",
   "execution_count": 77,
   "id": "97f17802",
   "metadata": {},
   "outputs": [
    {
     "name": "stdout",
     "output_type": "stream",
     "text": [
      "23\n"
     ]
    }
   ],
   "source": [
    "print(evans_house[\"tunde\"])"
   ]
  },
  {
   "cell_type": "code",
   "execution_count": 104,
   "id": "e2bcefea",
   "metadata": {},
   "outputs": [
    {
     "name": "stdout",
     "output_type": "stream",
     "text": [
      "dict_values([20, 23, 34, 37, 45])\n"
     ]
    }
   ],
   "source": [
    "print(evans_house.values())"
   ]
  },
  {
   "cell_type": "code",
   "execution_count": 105,
   "id": "a5650415",
   "metadata": {},
   "outputs": [
    {
     "name": "stdout",
     "output_type": "stream",
     "text": [
      "dict_keys(['imole', 'tunde', 'tope', 'funmi', 'abbey'])\n"
     ]
    }
   ],
   "source": [
    "print(evans_house.keys())"
   ]
  },
  {
   "cell_type": "code",
   "execution_count": 106,
   "id": "dfab8b9a",
   "metadata": {},
   "outputs": [
    {
     "name": "stdout",
     "output_type": "stream",
     "text": [
      "{'imole': 20, 'tunde': 23, 'tope': 34, 'funmi': 37, 'abbey': 45}\n"
     ]
    }
   ],
   "source": [
    "print(evans_house)"
   ]
  },
  {
   "cell_type": "code",
   "execution_count": null,
   "id": "fe4c5ad5",
   "metadata": {},
   "outputs": [],
   "source": []
  },
  {
   "cell_type": "markdown",
   "id": "a54bf70b",
   "metadata": {},
   "source": [
    "Re-assignment of elements in a list"
   ]
  },
  {
   "cell_type": "code",
   "execution_count": 110,
   "id": "758eba06",
   "metadata": {},
   "outputs": [],
   "source": [
    "numbers = [90, 34, 68, 4, 81, 55, 22, 44]"
   ]
  },
  {
   "cell_type": "code",
   "execution_count": 111,
   "id": "02d5629c",
   "metadata": {},
   "outputs": [
    {
     "data": {
      "text/plain": [
       "8"
      ]
     },
     "execution_count": 111,
     "metadata": {},
     "output_type": "execute_result"
    }
   ],
   "source": [
    "len(numbers)"
   ]
  },
  {
   "cell_type": "code",
   "execution_count": 112,
   "id": "baf810e2",
   "metadata": {},
   "outputs": [],
   "source": [
    "numbers.append(100)"
   ]
  },
  {
   "cell_type": "code",
   "execution_count": 113,
   "id": "ec8b9670",
   "metadata": {},
   "outputs": [],
   "source": [
    "numbers.append(200)"
   ]
  },
  {
   "cell_type": "code",
   "execution_count": 114,
   "id": "526acfa4",
   "metadata": {},
   "outputs": [
    {
     "name": "stdout",
     "output_type": "stream",
     "text": [
      "[90, 34, 68, 4, 81, 55, 22, 44, 100, 200]\n"
     ]
    }
   ],
   "source": [
    "print(numbers)"
   ]
  },
  {
   "cell_type": "code",
   "execution_count": 115,
   "id": "c7b9862f",
   "metadata": {},
   "outputs": [],
   "source": [
    "numbers.remove(34)"
   ]
  },
  {
   "cell_type": "code",
   "execution_count": 116,
   "id": "6e377ae1",
   "metadata": {},
   "outputs": [
    {
     "name": "stdout",
     "output_type": "stream",
     "text": [
      "[90, 68, 4, 81, 55, 22, 44, 100, 200]\n"
     ]
    }
   ],
   "source": [
    "print(numbers)"
   ]
  },
  {
   "cell_type": "code",
   "execution_count": 117,
   "id": "24cc786f",
   "metadata": {},
   "outputs": [
    {
     "name": "stdout",
     "output_type": "stream",
     "text": [
      "90\n"
     ]
    }
   ],
   "source": [
    "print(numbers[0])"
   ]
  },
  {
   "cell_type": "code",
   "execution_count": 118,
   "id": "f6f84d63",
   "metadata": {},
   "outputs": [],
   "source": [
    "numbers[0] = 350"
   ]
  },
  {
   "cell_type": "code",
   "execution_count": 119,
   "id": "e144458c",
   "metadata": {},
   "outputs": [
    {
     "name": "stdout",
     "output_type": "stream",
     "text": [
      "[350, 68, 4, 81, 55, 22, 44, 100, 200]\n"
     ]
    }
   ],
   "source": [
    "print(numbers)"
   ]
  },
  {
   "cell_type": "code",
   "execution_count": 120,
   "id": "96368c48",
   "metadata": {},
   "outputs": [],
   "source": [
    "numbers[4] = 900"
   ]
  },
  {
   "cell_type": "code",
   "execution_count": 122,
   "id": "e593f8ed",
   "metadata": {},
   "outputs": [
    {
     "name": "stdout",
     "output_type": "stream",
     "text": [
      "[350, 68, 4, 81, 900, 22, 44, 100, 200]\n"
     ]
    }
   ],
   "source": [
    "print(numbers)"
   ]
  },
  {
   "cell_type": "code",
   "execution_count": null,
   "id": "e4e9f1b2",
   "metadata": {},
   "outputs": [],
   "source": []
  },
  {
   "cell_type": "markdown",
   "id": "d188f31a",
   "metadata": {},
   "source": [
    "Python range function"
   ]
  },
  {
   "cell_type": "code",
   "execution_count": 10,
   "id": "34719f91",
   "metadata": {},
   "outputs": [],
   "source": [
    "age = range(5, 10)"
   ]
  },
  {
   "cell_type": "code",
   "execution_count": 11,
   "id": "cef6145d",
   "metadata": {},
   "outputs": [
    {
     "name": "stdout",
     "output_type": "stream",
     "text": [
      "range(5, 10)\n"
     ]
    }
   ],
   "source": [
    "print(age)"
   ]
  },
  {
   "cell_type": "code",
   "execution_count": 12,
   "id": "93f9424e",
   "metadata": {},
   "outputs": [
    {
     "name": "stdout",
     "output_type": "stream",
     "text": [
      "[5, 6, 7, 8, 9]\n"
     ]
    }
   ],
   "source": [
    "print(list(age))"
   ]
  },
  {
   "cell_type": "code",
   "execution_count": 13,
   "id": "0758c2d4",
   "metadata": {},
   "outputs": [
    {
     "name": "stdout",
     "output_type": "stream",
     "text": [
      "False\n"
     ]
    }
   ],
   "source": [
    "print(30 in age)"
   ]
  },
  {
   "cell_type": "code",
   "execution_count": 14,
   "id": "a17e992f",
   "metadata": {},
   "outputs": [
    {
     "name": "stdout",
     "output_type": "stream",
     "text": [
      "False\n"
     ]
    }
   ],
   "source": [
    "print(10 in age)"
   ]
  },
  {
   "cell_type": "code",
   "execution_count": 15,
   "id": "f5e13ad5",
   "metadata": {},
   "outputs": [
    {
     "name": "stdout",
     "output_type": "stream",
     "text": [
      "True\n"
     ]
    }
   ],
   "source": [
    "print(9 in age)"
   ]
  },
  {
   "cell_type": "code",
   "execution_count": null,
   "id": "18808248",
   "metadata": {},
   "outputs": [],
   "source": []
  },
  {
   "cell_type": "code",
   "execution_count": null,
   "id": "f6a1d081",
   "metadata": {},
   "outputs": [],
   "source": []
  },
  {
   "cell_type": "markdown",
   "id": "e12a4c05",
   "metadata": {},
   "source": [
    "IN and NOT IN Operator\n",
    "\n",
    "\n",
    "\n",
    "IN "
   ]
  },
  {
   "cell_type": "code",
   "execution_count": 16,
   "id": "40b642cd",
   "metadata": {},
   "outputs": [],
   "source": [
    "lst = [4, 8, 0, 20, \"evans\", 60 , 11]"
   ]
  },
  {
   "cell_type": "code",
   "execution_count": 17,
   "id": "26e565ba",
   "metadata": {},
   "outputs": [
    {
     "name": "stdout",
     "output_type": "stream",
     "text": [
      "<class 'list'>\n"
     ]
    }
   ],
   "source": [
    "print(type(lst))"
   ]
  },
  {
   "cell_type": "code",
   "execution_count": 18,
   "id": "5a44da1e",
   "metadata": {},
   "outputs": [
    {
     "name": "stdout",
     "output_type": "stream",
     "text": [
      "False\n"
     ]
    }
   ],
   "source": [
    "print(10 in lst)"
   ]
  },
  {
   "cell_type": "code",
   "execution_count": 19,
   "id": "0b11e4e6",
   "metadata": {},
   "outputs": [
    {
     "name": "stdout",
     "output_type": "stream",
     "text": [
      "True\n"
     ]
    }
   ],
   "source": [
    "print(\"evans\" in lst)"
   ]
  },
  {
   "cell_type": "code",
   "execution_count": 20,
   "id": "62cbb078",
   "metadata": {},
   "outputs": [
    {
     "name": "stdout",
     "output_type": "stream",
     "text": [
      "True\n"
     ]
    }
   ],
   "source": [
    "print(20 in lst)"
   ]
  },
  {
   "cell_type": "code",
   "execution_count": 21,
   "id": "c7199a0a",
   "metadata": {},
   "outputs": [
    {
     "name": "stdout",
     "output_type": "stream",
     "text": [
      "False\n"
     ]
    }
   ],
   "source": [
    "print(12 in lst)"
   ]
  },
  {
   "cell_type": "code",
   "execution_count": null,
   "id": "458202e5",
   "metadata": {},
   "outputs": [],
   "source": []
  },
  {
   "cell_type": "code",
   "execution_count": 22,
   "id": "600b24ab",
   "metadata": {},
   "outputs": [],
   "source": [
    "text = \"we are looking for a data engineer\""
   ]
  },
  {
   "cell_type": "code",
   "execution_count": 23,
   "id": "22c91553",
   "metadata": {},
   "outputs": [
    {
     "name": "stdout",
     "output_type": "stream",
     "text": [
      "True\n"
     ]
    }
   ],
   "source": [
    "print(\"looking\" in text)"
   ]
  },
  {
   "cell_type": "code",
   "execution_count": 26,
   "id": "ffa74136",
   "metadata": {},
   "outputs": [
    {
     "name": "stdout",
     "output_type": "stream",
     "text": [
      "False\n"
     ]
    }
   ],
   "source": [
    "print(\"good\" in text)"
   ]
  },
  {
   "cell_type": "code",
   "execution_count": null,
   "id": "0557053d",
   "metadata": {},
   "outputs": [],
   "source": []
  },
  {
   "cell_type": "markdown",
   "id": "1de265e6",
   "metadata": {},
   "source": [
    "NOT IN"
   ]
  },
  {
   "cell_type": "code",
   "execution_count": 28,
   "id": "43cbc0d5",
   "metadata": {},
   "outputs": [],
   "source": [
    "middle_name = \"john\""
   ]
  },
  {
   "cell_type": "code",
   "execution_count": 33,
   "id": "d12ac710",
   "metadata": {},
   "outputs": [
    {
     "name": "stdout",
     "output_type": "stream",
     "text": [
      "False\n"
     ]
    }
   ],
   "source": [
    "print(\"j\" not in middle_name)"
   ]
  },
  {
   "cell_type": "code",
   "execution_count": 35,
   "id": "ee23ee10",
   "metadata": {},
   "outputs": [
    {
     "name": "stdout",
     "output_type": "stream",
     "text": [
      "False\n"
     ]
    }
   ],
   "source": [
    "print(\"o\" not in middle_name)"
   ]
  },
  {
   "cell_type": "code",
   "execution_count": 36,
   "id": "756d2ec2",
   "metadata": {},
   "outputs": [
    {
     "name": "stdout",
     "output_type": "stream",
     "text": [
      "True\n"
     ]
    }
   ],
   "source": [
    "print(\"l\"not in middle_name)"
   ]
  },
  {
   "cell_type": "code",
   "execution_count": null,
   "id": "9181f42a",
   "metadata": {},
   "outputs": [],
   "source": []
  },
  {
   "cell_type": "markdown",
   "id": "80f28c9b",
   "metadata": {},
   "source": [
    "TODO Replace function, remove whitespace(strip), split, string methods(isupper,endswith, startswith)"
   ]
  },
  {
   "cell_type": "code",
   "execution_count": 37,
   "id": "32adc2ea",
   "metadata": {},
   "outputs": [],
   "source": [
    "k = (45, 5, 8, 9, 3, 1)"
   ]
  },
  {
   "cell_type": "code",
   "execution_count": 38,
   "id": "12ee0c36",
   "metadata": {},
   "outputs": [
    {
     "name": "stdout",
     "output_type": "stream",
     "text": [
      "<class 'tuple'>\n"
     ]
    }
   ],
   "source": [
    "print(type(k))"
   ]
  },
  {
   "cell_type": "code",
   "execution_count": 39,
   "id": "2672d2af",
   "metadata": {},
   "outputs": [
    {
     "data": {
      "text/plain": [
       "[45, 5, 8, 9, 3, 1]"
      ]
     },
     "execution_count": 39,
     "metadata": {},
     "output_type": "execute_result"
    }
   ],
   "source": [
    "list(k)"
   ]
  },
  {
   "cell_type": "code",
   "execution_count": 40,
   "id": "3bf31d6e",
   "metadata": {},
   "outputs": [
    {
     "data": {
      "text/plain": [
       "(45, 5, 8, 9, 3, 1)"
      ]
     },
     "execution_count": 40,
     "metadata": {},
     "output_type": "execute_result"
    }
   ],
   "source": [
    "tuple(k)"
   ]
  },
  {
   "cell_type": "code",
   "execution_count": null,
   "id": "f9b70eaf",
   "metadata": {},
   "outputs": [],
   "source": []
  },
  {
   "cell_type": "code",
   "execution_count": 41,
   "id": "6c4b359d",
   "metadata": {},
   "outputs": [],
   "source": [
    "y = [30, 22, 43, 9]"
   ]
  },
  {
   "cell_type": "code",
   "execution_count": 42,
   "id": "cb9099fc",
   "metadata": {},
   "outputs": [
    {
     "name": "stdout",
     "output_type": "stream",
     "text": [
      "<class 'list'>\n"
     ]
    }
   ],
   "source": [
    "print(type(y))"
   ]
  },
  {
   "cell_type": "code",
   "execution_count": 43,
   "id": "cda57869",
   "metadata": {},
   "outputs": [
    {
     "data": {
      "text/plain": [
       "(30, 22, 43, 9)"
      ]
     },
     "execution_count": 43,
     "metadata": {},
     "output_type": "execute_result"
    }
   ],
   "source": [
    "tuple(y)"
   ]
  },
  {
   "cell_type": "code",
   "execution_count": null,
   "id": "e112d947",
   "metadata": {},
   "outputs": [],
   "source": []
  },
  {
   "cell_type": "markdown",
   "id": "5e7c35cf",
   "metadata": {},
   "source": [
    "startswith and endswith function in python"
   ]
  },
  {
   "cell_type": "code",
   "execution_count": 44,
   "id": "0b6b63a9",
   "metadata": {},
   "outputs": [],
   "source": [
    "customer_first_name = \"tobi\""
   ]
  },
  {
   "cell_type": "code",
   "execution_count": 46,
   "id": "64f833e1",
   "metadata": {},
   "outputs": [
    {
     "name": "stdout",
     "output_type": "stream",
     "text": [
      "False\n"
     ]
    }
   ],
   "source": [
    "print(customer_first_name.startswith(\"o\"))"
   ]
  },
  {
   "cell_type": "code",
   "execution_count": 47,
   "id": "0f9dd7f2",
   "metadata": {},
   "outputs": [
    {
     "name": "stdout",
     "output_type": "stream",
     "text": [
      "False\n"
     ]
    }
   ],
   "source": [
    "print(customer_first_name.startswith (\"k\"))"
   ]
  },
  {
   "cell_type": "code",
   "execution_count": null,
   "id": "dd00c020",
   "metadata": {},
   "outputs": [],
   "source": []
  },
  {
   "cell_type": "code",
   "execution_count": null,
   "id": "da0e10c0",
   "metadata": {},
   "outputs": [],
   "source": []
  },
  {
   "cell_type": "code",
   "execution_count": null,
   "id": "512ce25a",
   "metadata": {},
   "outputs": [],
   "source": []
  },
  {
   "cell_type": "code",
   "execution_count": null,
   "id": "05aa3b1b",
   "metadata": {},
   "outputs": [],
   "source": []
  },
  {
   "cell_type": "code",
   "execution_count": 36,
   "id": "124ee9cb",
   "metadata": {},
   "outputs": [],
   "source": [
    "payment_made_by_customers = {40.9, 90.35, 99.39, 123.87, 800.89, 358.90}"
   ]
  },
  {
   "cell_type": "code",
   "execution_count": 37,
   "id": "19f97f1c",
   "metadata": {},
   "outputs": [
    {
     "name": "stdout",
     "output_type": "stream",
     "text": [
      "<class 'set'>\n"
     ]
    }
   ],
   "source": [
    "print(type(payment_made_by_customers))"
   ]
  },
  {
   "cell_type": "code",
   "execution_count": 38,
   "id": "3b713e2f",
   "metadata": {},
   "outputs": [
    {
     "name": "stdout",
     "output_type": "stream",
     "text": [
      "{800.89, 99.39, 358.9, 40.9, 90.35, 123.87}\n"
     ]
    }
   ],
   "source": [
    "print(payment_made_by_customers)"
   ]
  },
  {
   "cell_type": "code",
   "execution_count": null,
   "id": "47e8f25f",
   "metadata": {},
   "outputs": [],
   "source": []
  },
  {
   "cell_type": "code",
   "execution_count": 39,
   "id": "3e4b14d5",
   "metadata": {},
   "outputs": [],
   "source": [
    "convert_payment_made_by_customers = list(payment_made_by_customers)"
   ]
  },
  {
   "cell_type": "code",
   "execution_count": 40,
   "id": "1592e29c",
   "metadata": {},
   "outputs": [
    {
     "name": "stdout",
     "output_type": "stream",
     "text": [
      "[800.89, 99.39, 358.9, 40.9, 90.35, 123.87]\n"
     ]
    }
   ],
   "source": [
    "print(convert_payment_made_by_customers)"
   ]
  },
  {
   "cell_type": "code",
   "execution_count": 41,
   "id": "fbd83a3a",
   "metadata": {},
   "outputs": [
    {
     "name": "stdout",
     "output_type": "stream",
     "text": [
      "<class 'list'>\n"
     ]
    }
   ],
   "source": [
    "print(type(convert_payment_made_by_customers))"
   ]
  },
  {
   "cell_type": "code",
   "execution_count": 42,
   "id": "3736643c",
   "metadata": {},
   "outputs": [
    {
     "data": {
      "text/plain": [
       "6"
      ]
     },
     "execution_count": 42,
     "metadata": {},
     "output_type": "execute_result"
    }
   ],
   "source": [
    "len(convert_payment_made_by_customers)"
   ]
  },
  {
   "cell_type": "code",
   "execution_count": 43,
   "id": "f47b63c1",
   "metadata": {},
   "outputs": [
    {
     "name": "stdout",
     "output_type": "stream",
     "text": [
      "[800.89, 99.39, 358.9]\n"
     ]
    }
   ],
   "source": [
    "print(convert_payment_made_by_customers[:3])"
   ]
  },
  {
   "cell_type": "code",
   "execution_count": 44,
   "id": "e8c419f5",
   "metadata": {},
   "outputs": [
    {
     "name": "stdout",
     "output_type": "stream",
     "text": [
      "[800.89, 99.39, 358.9, 40.9]\n"
     ]
    }
   ],
   "source": [
    "print(convert_payment_made_by_customers[:4])"
   ]
  },
  {
   "cell_type": "code",
   "execution_count": 45,
   "id": "f9cfa541",
   "metadata": {},
   "outputs": [],
   "source": [
    "convert_payment_made_by_customers.sort()"
   ]
  },
  {
   "cell_type": "code",
   "execution_count": 46,
   "id": "7222f687",
   "metadata": {},
   "outputs": [
    {
     "name": "stdout",
     "output_type": "stream",
     "text": [
      "[40.9, 90.35, 99.39, 123.87, 358.9, 800.89]\n"
     ]
    }
   ],
   "source": [
    "print(convert_payment_made_by_customers)"
   ]
  },
  {
   "cell_type": "code",
   "execution_count": 47,
   "id": "a491fb52",
   "metadata": {},
   "outputs": [],
   "source": [
    "convert_payment_made_by_customers.append(790.56)"
   ]
  },
  {
   "cell_type": "code",
   "execution_count": 48,
   "id": "319450dc",
   "metadata": {},
   "outputs": [],
   "source": [
    "convert_payment_made_by_customers.append(813.33)"
   ]
  },
  {
   "cell_type": "code",
   "execution_count": 49,
   "id": "2d2d6ec4",
   "metadata": {},
   "outputs": [],
   "source": [
    "convert_payment_made_by_customers.append(902.11)"
   ]
  },
  {
   "cell_type": "code",
   "execution_count": 50,
   "id": "04fb4df5",
   "metadata": {},
   "outputs": [],
   "source": [
    "convert_payment_made_by_customers.append(101.45)"
   ]
  },
  {
   "cell_type": "code",
   "execution_count": 51,
   "id": "8cc1fbe4",
   "metadata": {},
   "outputs": [],
   "source": [
    "convert_payment_made_by_customers.append(236.90)"
   ]
  },
  {
   "cell_type": "code",
   "execution_count": 52,
   "id": "46804d4f",
   "metadata": {},
   "outputs": [
    {
     "name": "stdout",
     "output_type": "stream",
     "text": [
      "[40.9, 90.35, 99.39, 123.87, 358.9, 800.89, 790.56, 813.33, 902.11, 101.45, 236.9]\n"
     ]
    }
   ],
   "source": [
    "print(convert_payment_made_by_customers)"
   ]
  },
  {
   "cell_type": "code",
   "execution_count": 53,
   "id": "d8bd83ef",
   "metadata": {},
   "outputs": [],
   "source": [
    "convert_payment_made_by_customers.remove(40.9)"
   ]
  },
  {
   "cell_type": "code",
   "execution_count": 54,
   "id": "3b0ed571",
   "metadata": {},
   "outputs": [
    {
     "name": "stdout",
     "output_type": "stream",
     "text": [
      "[90.35, 99.39, 123.87, 358.9, 800.89, 790.56, 813.33, 902.11, 101.45, 236.9]\n"
     ]
    }
   ],
   "source": [
    "print(convert_payment_made_by_customers)"
   ]
  },
  {
   "cell_type": "code",
   "execution_count": 55,
   "id": "624391a8",
   "metadata": {},
   "outputs": [
    {
     "data": {
      "text/plain": [
       "10"
      ]
     },
     "execution_count": 55,
     "metadata": {},
     "output_type": "execute_result"
    }
   ],
   "source": [
    "len(convert_payment_made_by_customers)"
   ]
  },
  {
   "cell_type": "code",
   "execution_count": 56,
   "id": "c2247ae2",
   "metadata": {},
   "outputs": [],
   "source": [
    "convert_payment_made_by_customers[2] = 690.78"
   ]
  },
  {
   "cell_type": "code",
   "execution_count": 57,
   "id": "467f8f9f",
   "metadata": {},
   "outputs": [],
   "source": [
    "convert_payment_made_by_customers[-1] = 598.21"
   ]
  },
  {
   "cell_type": "code",
   "execution_count": 58,
   "id": "6ad8f4c3",
   "metadata": {},
   "outputs": [
    {
     "name": "stdout",
     "output_type": "stream",
     "text": [
      "[90.35, 99.39, 690.78, 358.9, 800.89, 790.56, 813.33, 902.11, 101.45, 598.21]\n"
     ]
    }
   ],
   "source": [
    "print(convert_payment_made_by_customers)"
   ]
  },
  {
   "cell_type": "code",
   "execution_count": 59,
   "id": "bf5af18e",
   "metadata": {},
   "outputs": [
    {
     "name": "stdout",
     "output_type": "stream",
     "text": [
      "True\n"
     ]
    }
   ],
   "source": [
    "print(99.39 in convert_payment_made_by_customers)"
   ]
  },
  {
   "cell_type": "code",
   "execution_count": 60,
   "id": "8b3334fd",
   "metadata": {},
   "outputs": [
    {
     "name": "stdout",
     "output_type": "stream",
     "text": [
      "False\n"
     ]
    }
   ],
   "source": [
    "print(1000 in convert_payment_made_by_customers)"
   ]
  },
  {
   "cell_type": "code",
   "execution_count": 64,
   "id": "4ec96758",
   "metadata": {},
   "outputs": [
    {
     "name": "stdout",
     "output_type": "stream",
     "text": [
      "False\n"
     ]
    }
   ],
   "source": [
    "print(90.35 not in convert_payment_made_by_customers)"
   ]
  },
  {
   "cell_type": "code",
   "execution_count": 65,
   "id": "814416d3",
   "metadata": {},
   "outputs": [
    {
     "name": "stdout",
     "output_type": "stream",
     "text": [
      "<class 'list'>\n"
     ]
    }
   ],
   "source": [
    "print(type(convert_payment_made_by_customers))"
   ]
  },
  {
   "cell_type": "code",
   "execution_count": null,
   "id": "cd4b3fce",
   "metadata": {},
   "outputs": [],
   "source": []
  },
  {
   "cell_type": "code",
   "execution_count": 67,
   "id": "7478d925",
   "metadata": {},
   "outputs": [],
   "source": [
    "convert_payment_made_by_customers = tuple(convert_payment_made_by_customers)"
   ]
  },
  {
   "cell_type": "code",
   "execution_count": 70,
   "id": "b6819e2b",
   "metadata": {},
   "outputs": [
    {
     "name": "stdout",
     "output_type": "stream",
     "text": [
      "<class 'tuple'>\n"
     ]
    }
   ],
   "source": [
    "print(type(convert_payment_made_by_customers))"
   ]
  },
  {
   "cell_type": "code",
   "execution_count": 71,
   "id": "4e9ebba5",
   "metadata": {},
   "outputs": [
    {
     "name": "stdout",
     "output_type": "stream",
     "text": [
      "(90.35, 99.39, 690.78, 358.9, 800.89, 790.56, 813.33, 902.11, 101.45, 598.21)\n"
     ]
    }
   ],
   "source": [
    "print(convert_payment_made_by_customers)"
   ]
  },
  {
   "cell_type": "code",
   "execution_count": 72,
   "id": "5376d392",
   "metadata": {},
   "outputs": [
    {
     "name": "stdout",
     "output_type": "stream",
     "text": [
      "<class 'tuple'>\n"
     ]
    }
   ],
   "source": [
    "print(type(convert_payment_made_by_customers))"
   ]
  },
  {
   "cell_type": "code",
   "execution_count": null,
   "id": "883aee0e",
   "metadata": {},
   "outputs": [],
   "source": []
  },
  {
   "cell_type": "code",
   "execution_count": null,
   "id": "ba9fba7f",
   "metadata": {},
   "outputs": [],
   "source": []
  },
  {
   "cell_type": "code",
   "execution_count": 73,
   "id": "9624dd1d",
   "metadata": {},
   "outputs": [],
   "source": [
    "empty_basket = []"
   ]
  },
  {
   "cell_type": "code",
   "execution_count": 74,
   "id": "6cecf2d6",
   "metadata": {},
   "outputs": [
    {
     "name": "stdout",
     "output_type": "stream",
     "text": [
      "[]\n"
     ]
    }
   ],
   "source": [
    "print(empty_basket)"
   ]
  },
  {
   "cell_type": "code",
   "execution_count": 75,
   "id": "4e65db37",
   "metadata": {},
   "outputs": [
    {
     "name": "stdout",
     "output_type": "stream",
     "text": [
      "<class 'list'>\n"
     ]
    }
   ],
   "source": [
    "print(type(empty_basket))"
   ]
  },
  {
   "cell_type": "code",
   "execution_count": 76,
   "id": "7d3da56c",
   "metadata": {},
   "outputs": [],
   "source": [
    "empty_basket.append(200.68)"
   ]
  },
  {
   "cell_type": "code",
   "execution_count": 77,
   "id": "87d69654",
   "metadata": {},
   "outputs": [],
   "source": [
    "empty_basket.append(500.90)"
   ]
  },
  {
   "cell_type": "code",
   "execution_count": 78,
   "id": "e4465324",
   "metadata": {},
   "outputs": [],
   "source": [
    "empty_basket.append(111.67)"
   ]
  },
  {
   "cell_type": "code",
   "execution_count": 79,
   "id": "11a71425",
   "metadata": {},
   "outputs": [],
   "source": [
    "empty_basket.append(239.95)"
   ]
  },
  {
   "cell_type": "code",
   "execution_count": 80,
   "id": "58f3ef80",
   "metadata": {},
   "outputs": [],
   "source": [
    "empty_basket.append(783.21)"
   ]
  },
  {
   "cell_type": "code",
   "execution_count": 81,
   "id": "a98eac7b",
   "metadata": {},
   "outputs": [],
   "source": [
    "empty_basket.append(625.78)"
   ]
  },
  {
   "cell_type": "code",
   "execution_count": 86,
   "id": "1e72564e",
   "metadata": {},
   "outputs": [
    {
     "name": "stdout",
     "output_type": "stream",
     "text": [
      "[200.68, 500.9, 111.67, 239.95, 783.21, 625.78]\n"
     ]
    }
   ],
   "source": [
    "print(empty_basket)"
   ]
  },
  {
   "cell_type": "code",
   "execution_count": null,
   "id": "d1079d5d",
   "metadata": {},
   "outputs": [],
   "source": []
  },
  {
   "cell_type": "code",
   "execution_count": null,
   "id": "99219d2b",
   "metadata": {},
   "outputs": [],
   "source": []
  }
 ],
 "metadata": {
  "kernelspec": {
   "display_name": "Python 3 (ipykernel)",
   "language": "python",
   "name": "python3"
  },
  "language_info": {
   "codemirror_mode": {
    "name": "ipython",
    "version": 3
   },
   "file_extension": ".py",
   "mimetype": "text/x-python",
   "name": "python",
   "nbconvert_exporter": "python",
   "pygments_lexer": "ipython3",
   "version": "3.10.4"
  }
 },
 "nbformat": 4,
 "nbformat_minor": 5
}
