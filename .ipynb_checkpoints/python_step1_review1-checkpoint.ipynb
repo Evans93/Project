{
 "cells": [
  {
   "cell_type": "code",
   "execution_count": 1,
   "id": "2440585e",
   "metadata": {},
   "outputs": [],
   "source": [
    "p = 70"
   ]
  },
  {
   "cell_type": "code",
   "execution_count": 2,
   "id": "68f51f7d",
   "metadata": {},
   "outputs": [
    {
     "name": "stdout",
     "output_type": "stream",
     "text": [
      "<class 'int'>\n"
     ]
    }
   ],
   "source": [
    "print(type(p))"
   ]
  },
  {
   "cell_type": "code",
   "execution_count": 3,
   "id": "7b06ef1c",
   "metadata": {},
   "outputs": [
    {
     "name": "stdout",
     "output_type": "stream",
     "text": [
      "70\n"
     ]
    }
   ],
   "source": [
    "print(p)"
   ]
  },
  {
   "cell_type": "code",
   "execution_count": null,
   "id": "1b99a458",
   "metadata": {},
   "outputs": [],
   "source": []
  },
  {
   "cell_type": "code",
   "execution_count": 8,
   "id": "410f886d",
   "metadata": {},
   "outputs": [],
   "source": [
    "w = 30\n",
    "y = 20"
   ]
  },
  {
   "cell_type": "code",
   "execution_count": 9,
   "id": "0a1d9604",
   "metadata": {},
   "outputs": [
    {
     "name": "stdout",
     "output_type": "stream",
     "text": [
      "50\n"
     ]
    }
   ],
   "source": [
    "print(w + y)"
   ]
  },
  {
   "cell_type": "code",
   "execution_count": 10,
   "id": "c9f2e043",
   "metadata": {},
   "outputs": [
    {
     "name": "stdout",
     "output_type": "stream",
     "text": [
      "10\n"
     ]
    }
   ],
   "source": [
    "print(w - y)"
   ]
  },
  {
   "cell_type": "code",
   "execution_count": 11,
   "id": "f7705047",
   "metadata": {},
   "outputs": [
    {
     "name": "stdout",
     "output_type": "stream",
     "text": [
      "<class 'int'>\n"
     ]
    }
   ],
   "source": [
    "print(type(w))"
   ]
  },
  {
   "cell_type": "code",
   "execution_count": null,
   "id": "7f729eaf",
   "metadata": {},
   "outputs": [],
   "source": []
  },
  {
   "cell_type": "code",
   "execution_count": 13,
   "id": "3125e6d7",
   "metadata": {},
   "outputs": [],
   "source": [
    "s = \"45\"\n",
    "v = 60"
   ]
  },
  {
   "cell_type": "code",
   "execution_count": 14,
   "id": "2bc5ee22",
   "metadata": {},
   "outputs": [
    {
     "name": "stdout",
     "output_type": "stream",
     "text": [
      "<class 'str'>\n"
     ]
    }
   ],
   "source": [
    "print(type(s))"
   ]
  },
  {
   "cell_type": "code",
   "execution_count": 24,
   "id": "361fc7a5",
   "metadata": {},
   "outputs": [],
   "source": [
    "convert_s = int(s)"
   ]
  },
  {
   "cell_type": "code",
   "execution_count": 25,
   "id": "6beb4a87",
   "metadata": {},
   "outputs": [
    {
     "name": "stdout",
     "output_type": "stream",
     "text": [
      "45\n"
     ]
    }
   ],
   "source": [
    "print(convert_s)"
   ]
  },
  {
   "cell_type": "code",
   "execution_count": 26,
   "id": "1076e66a",
   "metadata": {},
   "outputs": [
    {
     "name": "stdout",
     "output_type": "stream",
     "text": [
      "<class 'int'>\n"
     ]
    }
   ],
   "source": [
    "print(type(convert_s))"
   ]
  },
  {
   "cell_type": "code",
   "execution_count": 27,
   "id": "67ee2dc1",
   "metadata": {},
   "outputs": [
    {
     "name": "stdout",
     "output_type": "stream",
     "text": [
      "105\n"
     ]
    }
   ],
   "source": [
    "print(convert_s + v)"
   ]
  },
  {
   "cell_type": "code",
   "execution_count": null,
   "id": "74f18170",
   "metadata": {},
   "outputs": [],
   "source": []
  },
  {
   "cell_type": "code",
   "execution_count": 29,
   "id": "0516edf3",
   "metadata": {},
   "outputs": [],
   "source": [
    "first_name = \"ehis\""
   ]
  },
  {
   "cell_type": "code",
   "execution_count": 30,
   "id": "f995e935",
   "metadata": {},
   "outputs": [
    {
     "name": "stdout",
     "output_type": "stream",
     "text": [
      "<class 'str'>\n"
     ]
    }
   ],
   "source": [
    "print(type(first_name))"
   ]
  },
  {
   "cell_type": "code",
   "execution_count": 33,
   "id": "fc335518",
   "metadata": {},
   "outputs": [
    {
     "name": "stdout",
     "output_type": "stream",
     "text": [
      "EHIS\n"
     ]
    }
   ],
   "source": [
    "print(first_name.upper())"
   ]
  },
  {
   "cell_type": "code",
   "execution_count": 34,
   "id": "14f5bc79",
   "metadata": {},
   "outputs": [
    {
     "name": "stdout",
     "output_type": "stream",
     "text": [
      "ehis\n"
     ]
    }
   ],
   "source": [
    "print(first_name.lower())"
   ]
  },
  {
   "cell_type": "code",
   "execution_count": null,
   "id": "4b0a9a50",
   "metadata": {},
   "outputs": [],
   "source": []
  },
  {
   "cell_type": "code",
   "execution_count": 35,
   "id": "ad18bf24",
   "metadata": {},
   "outputs": [],
   "source": [
    "age = 35"
   ]
  },
  {
   "cell_type": "code",
   "execution_count": 36,
   "id": "69620cdd",
   "metadata": {},
   "outputs": [
    {
     "name": "stdout",
     "output_type": "stream",
     "text": [
      "<class 'int'>\n"
     ]
    }
   ],
   "source": [
    "print(type(age))"
   ]
  },
  {
   "cell_type": "code",
   "execution_count": null,
   "id": "5e6f781d",
   "metadata": {},
   "outputs": [],
   "source": []
  },
  {
   "cell_type": "code",
   "execution_count": 37,
   "id": "4b7d3119",
   "metadata": {},
   "outputs": [],
   "source": [
    "has_a_car = False"
   ]
  },
  {
   "cell_type": "code",
   "execution_count": 38,
   "id": "db058bc9",
   "metadata": {},
   "outputs": [
    {
     "name": "stdout",
     "output_type": "stream",
     "text": [
      "<class 'bool'>\n"
     ]
    }
   ],
   "source": [
    "print(type(has_a_car))"
   ]
  },
  {
   "cell_type": "code",
   "execution_count": 39,
   "id": "3130c3ae",
   "metadata": {},
   "outputs": [],
   "source": [
    "Height = 6.8"
   ]
  },
  {
   "cell_type": "code",
   "execution_count": 40,
   "id": "41e73f9f",
   "metadata": {},
   "outputs": [
    {
     "name": "stdout",
     "output_type": "stream",
     "text": [
      "6.8\n"
     ]
    }
   ],
   "source": [
    "print(Height)"
   ]
  },
  {
   "cell_type": "code",
   "execution_count": 41,
   "id": "b6961cf2",
   "metadata": {},
   "outputs": [
    {
     "name": "stdout",
     "output_type": "stream",
     "text": [
      "<class 'float'>\n"
     ]
    }
   ],
   "source": [
    "print(type(Height))"
   ]
  },
  {
   "cell_type": "code",
   "execution_count": null,
   "id": "abfeba5b",
   "metadata": {},
   "outputs": [],
   "source": []
  },
  {
   "cell_type": "code",
   "execution_count": 42,
   "id": "d20667e6",
   "metadata": {},
   "outputs": [],
   "source": [
    "j = 100"
   ]
  },
  {
   "cell_type": "code",
   "execution_count": 43,
   "id": "52705963",
   "metadata": {},
   "outputs": [],
   "source": [
    "k = 50"
   ]
  },
  {
   "cell_type": "code",
   "execution_count": 44,
   "id": "cfff3e04",
   "metadata": {},
   "outputs": [
    {
     "name": "stdout",
     "output_type": "stream",
     "text": [
      "150\n"
     ]
    }
   ],
   "source": [
    "print(j + k)"
   ]
  },
  {
   "cell_type": "code",
   "execution_count": 45,
   "id": "1ab9ffce",
   "metadata": {},
   "outputs": [
    {
     "name": "stdout",
     "output_type": "stream",
     "text": [
      "50\n"
     ]
    }
   ],
   "source": [
    "print(j - k)"
   ]
  },
  {
   "cell_type": "code",
   "execution_count": 46,
   "id": "2aa6b21a",
   "metadata": {},
   "outputs": [
    {
     "name": "stdout",
     "output_type": "stream",
     "text": [
      "5000\n"
     ]
    }
   ],
   "source": [
    "print(j * k)"
   ]
  },
  {
   "cell_type": "code",
   "execution_count": 47,
   "id": "56a9e484",
   "metadata": {},
   "outputs": [
    {
     "name": "stdout",
     "output_type": "stream",
     "text": [
      "10000000000000000000000000000000000000000000000000000000000000000000000000000000000000000000000000000\n"
     ]
    }
   ],
   "source": [
    "print(j ** k)"
   ]
  },
  {
   "cell_type": "code",
   "execution_count": 48,
   "id": "e8672431",
   "metadata": {},
   "outputs": [
    {
     "name": "stdout",
     "output_type": "stream",
     "text": [
      "2.0\n"
     ]
    }
   ],
   "source": [
    "print(j / k)"
   ]
  },
  {
   "cell_type": "code",
   "execution_count": 49,
   "id": "73226885",
   "metadata": {},
   "outputs": [
    {
     "name": "stdout",
     "output_type": "stream",
     "text": [
      "2\n"
     ]
    }
   ],
   "source": [
    "print(j // k)"
   ]
  },
  {
   "cell_type": "code",
   "execution_count": 50,
   "id": "7c4f5a98",
   "metadata": {},
   "outputs": [
    {
     "name": "stdout",
     "output_type": "stream",
     "text": [
      "0\n"
     ]
    }
   ],
   "source": [
    "print(j % k)"
   ]
  },
  {
   "cell_type": "code",
   "execution_count": null,
   "id": "979ea86c",
   "metadata": {},
   "outputs": [],
   "source": []
  },
  {
   "cell_type": "code",
   "execution_count": 52,
   "id": "149de855",
   "metadata": {},
   "outputs": [],
   "source": [
    "city = \"berlin\""
   ]
  },
  {
   "cell_type": "code",
   "execution_count": 53,
   "id": "0cba16a9",
   "metadata": {},
   "outputs": [
    {
     "name": "stdout",
     "output_type": "stream",
     "text": [
      "<class 'str'>\n"
     ]
    }
   ],
   "source": [
    "print(type(city))"
   ]
  },
  {
   "cell_type": "code",
   "execution_count": null,
   "id": "2f686e03",
   "metadata": {},
   "outputs": [],
   "source": []
  },
  {
   "cell_type": "code",
   "execution_count": 54,
   "id": "7eb9f855",
   "metadata": {},
   "outputs": [],
   "source": [
    "age = 46"
   ]
  },
  {
   "cell_type": "code",
   "execution_count": 55,
   "id": "6dbb22c7",
   "metadata": {},
   "outputs": [
    {
     "name": "stdout",
     "output_type": "stream",
     "text": [
      "<class 'int'>\n"
     ]
    }
   ],
   "source": [
    "print(type(age))"
   ]
  },
  {
   "cell_type": "code",
   "execution_count": null,
   "id": "3223517b",
   "metadata": {},
   "outputs": [],
   "source": []
  },
  {
   "cell_type": "code",
   "execution_count": 56,
   "id": "06d8946e",
   "metadata": {},
   "outputs": [],
   "source": [
    "price = 30.65"
   ]
  },
  {
   "cell_type": "code",
   "execution_count": 57,
   "id": "ccf75b18",
   "metadata": {},
   "outputs": [
    {
     "name": "stdout",
     "output_type": "stream",
     "text": [
      "<class 'float'>\n"
     ]
    }
   ],
   "source": [
    "print(type(price))"
   ]
  },
  {
   "cell_type": "code",
   "execution_count": null,
   "id": "94a45ea2",
   "metadata": {},
   "outputs": [],
   "source": []
  },
  {
   "cell_type": "code",
   "execution_count": 58,
   "id": "c29d4a14",
   "metadata": {},
   "outputs": [],
   "source": [
    "has_a_job = False"
   ]
  },
  {
   "cell_type": "code",
   "execution_count": 59,
   "id": "da76b8a2",
   "metadata": {},
   "outputs": [
    {
     "name": "stdout",
     "output_type": "stream",
     "text": [
      "<class 'bool'>\n"
     ]
    }
   ],
   "source": [
    "print(type(has_a_job))"
   ]
  },
  {
   "cell_type": "code",
   "execution_count": null,
   "id": "27630800",
   "metadata": {},
   "outputs": [],
   "source": []
  },
  {
   "cell_type": "code",
   "execution_count": 60,
   "id": "c5e69cf2",
   "metadata": {},
   "outputs": [],
   "source": [
    "x = 30.7"
   ]
  },
  {
   "cell_type": "code",
   "execution_count": 63,
   "id": "11c41460",
   "metadata": {},
   "outputs": [
    {
     "name": "stdout",
     "output_type": "stream",
     "text": [
      "31\n"
     ]
    }
   ],
   "source": [
    "print(round(x))"
   ]
  },
  {
   "cell_type": "code",
   "execution_count": null,
   "id": "00849e8e",
   "metadata": {},
   "outputs": [],
   "source": []
  },
  {
   "cell_type": "code",
   "execution_count": 76,
   "id": "960d864c",
   "metadata": {},
   "outputs": [],
   "source": [
    "birth_day = 25\n",
    "birth_month = 7\n",
    "birth_year = 9"
   ]
  },
  {
   "cell_type": "code",
   "execution_count": 77,
   "id": "7f50c66d",
   "metadata": {},
   "outputs": [],
   "source": [
    "result = round(birth_day / birth_month / birth_year)"
   ]
  },
  {
   "cell_type": "code",
   "execution_count": 78,
   "id": "ad76062d",
   "metadata": {},
   "outputs": [
    {
     "name": "stdout",
     "output_type": "stream",
     "text": [
      "0\n"
     ]
    }
   ],
   "source": [
    "print(result)"
   ]
  },
  {
   "cell_type": "code",
   "execution_count": null,
   "id": "8c1bf5fb",
   "metadata": {},
   "outputs": [],
   "source": []
  },
  {
   "cell_type": "code",
   "execution_count": 79,
   "id": "c305a513",
   "metadata": {},
   "outputs": [],
   "source": [
    "first_number = 30\n",
    "second_number = 9"
   ]
  },
  {
   "cell_type": "code",
   "execution_count": 91,
   "id": "8f2e66e4",
   "metadata": {},
   "outputs": [],
   "source": [
    "result = round(first_number / second_number)"
   ]
  },
  {
   "cell_type": "code",
   "execution_count": 92,
   "id": "90d2befa",
   "metadata": {},
   "outputs": [
    {
     "name": "stdout",
     "output_type": "stream",
     "text": [
      "3\n"
     ]
    }
   ],
   "source": [
    "print(result)"
   ]
  },
  {
   "cell_type": "code",
   "execution_count": null,
   "id": "006af6dc",
   "metadata": {},
   "outputs": [],
   "source": []
  },
  {
   "cell_type": "code",
   "execution_count": 93,
   "id": "7d145ce6",
   "metadata": {},
   "outputs": [],
   "source": [
    "x = \"65\""
   ]
  },
  {
   "cell_type": "code",
   "execution_count": 94,
   "id": "6c669597",
   "metadata": {},
   "outputs": [
    {
     "name": "stdout",
     "output_type": "stream",
     "text": [
      "<class 'str'>\n"
     ]
    }
   ],
   "source": [
    "print(type(x))"
   ]
  },
  {
   "cell_type": "code",
   "execution_count": null,
   "id": "a70a79dc",
   "metadata": {},
   "outputs": [],
   "source": []
  },
  {
   "cell_type": "code",
   "execution_count": 95,
   "id": "3e7651fa",
   "metadata": {},
   "outputs": [],
   "source": [
    "convert_x =int(x)"
   ]
  },
  {
   "cell_type": "code",
   "execution_count": 96,
   "id": "e7a85d90",
   "metadata": {},
   "outputs": [
    {
     "name": "stdout",
     "output_type": "stream",
     "text": [
      "65\n"
     ]
    }
   ],
   "source": [
    "print(convert_x)"
   ]
  },
  {
   "cell_type": "code",
   "execution_count": 97,
   "id": "52d8d097",
   "metadata": {},
   "outputs": [
    {
     "name": "stdout",
     "output_type": "stream",
     "text": [
      "<class 'int'>\n"
     ]
    }
   ],
   "source": [
    "print(type(convert_x))"
   ]
  },
  {
   "cell_type": "code",
   "execution_count": null,
   "id": "4d51e794",
   "metadata": {},
   "outputs": [],
   "source": []
  },
  {
   "cell_type": "code",
   "execution_count": 98,
   "id": "f9954b64",
   "metadata": {},
   "outputs": [],
   "source": [
    "age = \"1990\""
   ]
  },
  {
   "cell_type": "code",
   "execution_count": 99,
   "id": "30073d45",
   "metadata": {},
   "outputs": [
    {
     "name": "stdout",
     "output_type": "stream",
     "text": [
      "<class 'str'>\n"
     ]
    }
   ],
   "source": [
    "print(type(age))"
   ]
  },
  {
   "cell_type": "code",
   "execution_count": 101,
   "id": "6f97141b",
   "metadata": {},
   "outputs": [],
   "source": [
    "convert_age = int(age)"
   ]
  },
  {
   "cell_type": "code",
   "execution_count": 102,
   "id": "691d1f81",
   "metadata": {},
   "outputs": [
    {
     "name": "stdout",
     "output_type": "stream",
     "text": [
      "1990\n"
     ]
    }
   ],
   "source": [
    "print(convert_age)"
   ]
  },
  {
   "cell_type": "code",
   "execution_count": 104,
   "id": "3d3cdeb4",
   "metadata": {},
   "outputs": [
    {
     "name": "stdout",
     "output_type": "stream",
     "text": [
      "<class 'int'>\n"
     ]
    }
   ],
   "source": [
    "print(type(convert_age))"
   ]
  },
  {
   "cell_type": "code",
   "execution_count": null,
   "id": "105e5029",
   "metadata": {},
   "outputs": [],
   "source": []
  },
  {
   "cell_type": "code",
   "execution_count": 105,
   "id": "d3d0ca35",
   "metadata": {},
   "outputs": [],
   "source": [
    "A = 40"
   ]
  },
  {
   "cell_type": "code",
   "execution_count": 107,
   "id": "7379886b",
   "metadata": {},
   "outputs": [
    {
     "name": "stdout",
     "output_type": "stream",
     "text": [
      "<class 'int'>\n"
     ]
    }
   ],
   "source": [
    "print(type(A))"
   ]
  },
  {
   "cell_type": "code",
   "execution_count": 108,
   "id": "037f10e2",
   "metadata": {},
   "outputs": [],
   "source": [
    "convert_A = float(A)"
   ]
  },
  {
   "cell_type": "code",
   "execution_count": 109,
   "id": "e66c86ee",
   "metadata": {},
   "outputs": [
    {
     "name": "stdout",
     "output_type": "stream",
     "text": [
      "40.0\n"
     ]
    }
   ],
   "source": [
    "print(convert_A)"
   ]
  },
  {
   "cell_type": "code",
   "execution_count": 110,
   "id": "4303c485",
   "metadata": {},
   "outputs": [
    {
     "name": "stdout",
     "output_type": "stream",
     "text": [
      "<class 'float'>\n"
     ]
    }
   ],
   "source": [
    "print(type(convert_A))"
   ]
  },
  {
   "cell_type": "code",
   "execution_count": null,
   "id": "8d28a96d",
   "metadata": {},
   "outputs": [],
   "source": []
  },
  {
   "cell_type": "code",
   "execution_count": 111,
   "id": "ab5eee15",
   "metadata": {},
   "outputs": [],
   "source": [
    "n = 9.7"
   ]
  },
  {
   "cell_type": "code",
   "execution_count": 112,
   "id": "7846bdd6",
   "metadata": {},
   "outputs": [
    {
     "name": "stdout",
     "output_type": "stream",
     "text": [
      "<class 'float'>\n"
     ]
    }
   ],
   "source": [
    "print(type(n))"
   ]
  },
  {
   "cell_type": "code",
   "execution_count": 113,
   "id": "af44c658",
   "metadata": {},
   "outputs": [],
   "source": [
    "convert_n = int(n)"
   ]
  },
  {
   "cell_type": "code",
   "execution_count": 114,
   "id": "879dfde3",
   "metadata": {},
   "outputs": [
    {
     "name": "stdout",
     "output_type": "stream",
     "text": [
      "9\n"
     ]
    }
   ],
   "source": [
    "print(convert_n)"
   ]
  },
  {
   "cell_type": "code",
   "execution_count": 115,
   "id": "e6a87a7c",
   "metadata": {},
   "outputs": [
    {
     "name": "stdout",
     "output_type": "stream",
     "text": [
      "<class 'int'>\n"
     ]
    }
   ],
   "source": [
    "print(type(convert_n))"
   ]
  },
  {
   "cell_type": "code",
   "execution_count": null,
   "id": "13459ff8",
   "metadata": {},
   "outputs": [],
   "source": []
  },
  {
   "cell_type": "code",
   "execution_count": 116,
   "id": "b1a0c7fa",
   "metadata": {},
   "outputs": [],
   "source": [
    "name = \"ehis\""
   ]
  },
  {
   "cell_type": "code",
   "execution_count": 118,
   "id": "cc344539",
   "metadata": {},
   "outputs": [
    {
     "name": "stdout",
     "output_type": "stream",
     "text": [
      "ehis\n"
     ]
    }
   ],
   "source": [
    "print(name.lower())"
   ]
  },
  {
   "cell_type": "code",
   "execution_count": 119,
   "id": "4f2181b1",
   "metadata": {},
   "outputs": [
    {
     "name": "stdout",
     "output_type": "stream",
     "text": [
      "EHIS\n"
     ]
    }
   ],
   "source": [
    "print(name.upper())"
   ]
  },
  {
   "cell_type": "code",
   "execution_count": null,
   "id": "91366999",
   "metadata": {},
   "outputs": [],
   "source": []
  },
  {
   "cell_type": "code",
   "execution_count": 122,
   "id": "99b16aaf",
   "metadata": {},
   "outputs": [],
   "source": [
    "my_age = 33"
   ]
  },
  {
   "cell_type": "code",
   "execution_count": 124,
   "id": "8dd247a8",
   "metadata": {},
   "outputs": [
    {
     "name": "stdout",
     "output_type": "stream",
     "text": [
      "I’m 33 years old\n"
     ]
    }
   ],
   "source": [
    "print(f\"I’m {my_age} years old\")"
   ]
  },
  {
   "cell_type": "code",
   "execution_count": null,
   "id": "1391c500",
   "metadata": {},
   "outputs": [],
   "source": []
  },
  {
   "cell_type": "code",
   "execution_count": 131,
   "id": "316103a3",
   "metadata": {},
   "outputs": [],
   "source": [
    "first_name = \"ehis \"\n",
    "last_name = \" evans\""
   ]
  },
  {
   "cell_type": "code",
   "execution_count": 132,
   "id": "c0bb8154",
   "metadata": {},
   "outputs": [],
   "source": [
    "concat = first_name + last_name"
   ]
  },
  {
   "cell_type": "code",
   "execution_count": 133,
   "id": "695b2ee9",
   "metadata": {},
   "outputs": [
    {
     "name": "stdout",
     "output_type": "stream",
     "text": [
      "ehis  evans\n"
     ]
    }
   ],
   "source": [
    "print(concat)"
   ]
  },
  {
   "cell_type": "code",
   "execution_count": null,
   "id": "8792af99",
   "metadata": {},
   "outputs": [],
   "source": []
  },
  {
   "cell_type": "code",
   "execution_count": 134,
   "id": "b8542fc5",
   "metadata": {},
   "outputs": [],
   "source": [
    "import random"
   ]
  },
  {
   "cell_type": "code",
   "execution_count": 136,
   "id": "0aca62ac",
   "metadata": {},
   "outputs": [],
   "source": [
    "random_number = random.randint(1, 200)"
   ]
  },
  {
   "cell_type": "code",
   "execution_count": 137,
   "id": "3cade435",
   "metadata": {},
   "outputs": [
    {
     "name": "stdout",
     "output_type": "stream",
     "text": [
      "145\n"
     ]
    }
   ],
   "source": [
    "print(random_number)"
   ]
  },
  {
   "cell_type": "code",
   "execution_count": null,
   "id": "93dfb7f3",
   "metadata": {},
   "outputs": [],
   "source": []
  },
  {
   "cell_type": "code",
   "execution_count": 142,
   "id": "87bf3865",
   "metadata": {},
   "outputs": [],
   "source": [
    "random_number = random.randint(20, 1000)"
   ]
  },
  {
   "cell_type": "code",
   "execution_count": 143,
   "id": "4708afc4",
   "metadata": {},
   "outputs": [
    {
     "name": "stdout",
     "output_type": "stream",
     "text": [
      "145\n"
     ]
    }
   ],
   "source": [
    "print(random_number)"
   ]
  },
  {
   "cell_type": "code",
   "execution_count": null,
   "id": "4f5ced5a",
   "metadata": {},
   "outputs": [],
   "source": []
  },
  {
   "cell_type": "code",
   "execution_count": 146,
   "id": "ccb2139b",
   "metadata": {},
   "outputs": [
    {
     "name": "stdout",
     "output_type": "stream",
     "text": [
      "What’s your first name:       Ehis\n",
      "What’s your last name:          Evans\n",
      "Where’s your place of birth:            Ekpoma\n",
      "how old are you:        20\n",
      "where do you live currently:        berlin\n"
     ]
    }
   ],
   "source": [
    "first_name = input(\"What’s your first name:       \")\n",
    "last_name = input(\"What’s your last name:          \")\n",
    "place_of_birth = input(\"Where’s your place of birth:            \")\n",
    "age = input(\"how old are you:        \")\n",
    "city_of_residence = input(\"where do you live currently:        \")\n"
   ]
  },
  {
   "cell_type": "code",
   "execution_count": null,
   "id": "6b540217",
   "metadata": {},
   "outputs": [],
   "source": []
  }
 ],
 "metadata": {
  "kernelspec": {
   "display_name": "Python 3 (ipykernel)",
   "language": "python",
   "name": "python3"
  },
  "language_info": {
   "codemirror_mode": {
    "name": "ipython",
    "version": 3
   },
   "file_extension": ".py",
   "mimetype": "text/x-python",
   "name": "python",
   "nbconvert_exporter": "python",
   "pygments_lexer": "ipython3",
   "version": "3.10.4"
  }
 },
 "nbformat": 4,
 "nbformat_minor": 5
}
