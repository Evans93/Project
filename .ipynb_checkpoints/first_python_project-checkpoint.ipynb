{
 "cells": [
  {
   "cell_type": "code",
   "execution_count": 1,
   "id": "a314f60b",
   "metadata": {},
   "outputs": [],
   "source": [
    "s = 10 "
   ]
  },
  {
   "cell_type": "code",
   "execution_count": 2,
   "id": "e2e069ad",
   "metadata": {},
   "outputs": [
    {
     "name": "stdout",
     "output_type": "stream",
     "text": [
      "10\n"
     ]
    }
   ],
   "source": [
    "print(s)"
   ]
  },
  {
   "cell_type": "code",
   "execution_count": 3,
   "id": "ae8e95fb",
   "metadata": {},
   "outputs": [],
   "source": [
    "name = \"Evans\""
   ]
  },
  {
   "cell_type": "code",
   "execution_count": 4,
   "id": "47ac4dd4",
   "metadata": {},
   "outputs": [
    {
     "name": "stdout",
     "output_type": "stream",
     "text": [
      "Evans\n"
     ]
    }
   ],
   "source": [
    "print(name)"
   ]
  },
  {
   "cell_type": "code",
   "execution_count": 5,
   "id": "c93482a2",
   "metadata": {},
   "outputs": [
    {
     "name": "stdout",
     "output_type": "stream",
     "text": [
      "<class 'str'>\n"
     ]
    }
   ],
   "source": [
    "print(type(name))"
   ]
  },
  {
   "cell_type": "code",
   "execution_count": null,
   "id": "66ee0351",
   "metadata": {},
   "outputs": [],
   "source": []
  },
  {
   "cell_type": "code",
   "execution_count": 7,
   "id": "47445a96",
   "metadata": {},
   "outputs": [],
   "source": [
    "first_name = 'Ehis'"
   ]
  },
  {
   "cell_type": "code",
   "execution_count": 8,
   "id": "510e554e",
   "metadata": {},
   "outputs": [
    {
     "name": "stdout",
     "output_type": "stream",
     "text": [
      "Ehis\n"
     ]
    }
   ],
   "source": [
    "print(first_name)"
   ]
  },
  {
   "cell_type": "code",
   "execution_count": 10,
   "id": "227ac08f",
   "metadata": {},
   "outputs": [
    {
     "name": "stdout",
     "output_type": "stream",
     "text": [
      "<class 'str'>\n"
     ]
    }
   ],
   "source": [
    "print(type(first_name))"
   ]
  },
  {
   "cell_type": "code",
   "execution_count": null,
   "id": "08d00d52",
   "metadata": {},
   "outputs": [],
   "source": []
  },
  {
   "cell_type": "code",
   "execution_count": 11,
   "id": "734968f4",
   "metadata": {},
   "outputs": [],
   "source": [
    "has_car = True"
   ]
  },
  {
   "cell_type": "code",
   "execution_count": 12,
   "id": "30268f1a",
   "metadata": {},
   "outputs": [
    {
     "name": "stdout",
     "output_type": "stream",
     "text": [
      "True\n"
     ]
    }
   ],
   "source": [
    "print(has_car)"
   ]
  },
  {
   "cell_type": "code",
   "execution_count": 13,
   "id": "3481c78c",
   "metadata": {},
   "outputs": [
    {
     "name": "stdout",
     "output_type": "stream",
     "text": [
      "<class 'bool'>\n"
     ]
    }
   ],
   "source": [
    "print(type(has_car))"
   ]
  },
  {
   "cell_type": "code",
   "execution_count": null,
   "id": "a905bd16",
   "metadata": {},
   "outputs": [],
   "source": []
  },
  {
   "cell_type": "code",
   "execution_count": 14,
   "id": "ff49dc0b",
   "metadata": {},
   "outputs": [],
   "source": [
    "Height = 6.3"
   ]
  },
  {
   "cell_type": "code",
   "execution_count": 15,
   "id": "a78ff214",
   "metadata": {},
   "outputs": [
    {
     "name": "stdout",
     "output_type": "stream",
     "text": [
      "6.3\n"
     ]
    }
   ],
   "source": [
    "print(Height )"
   ]
  },
  {
   "cell_type": "code",
   "execution_count": 16,
   "id": "9ca40ee6",
   "metadata": {},
   "outputs": [
    {
     "name": "stdout",
     "output_type": "stream",
     "text": [
      "<class 'float'>\n"
     ]
    }
   ],
   "source": [
    "print(type(Height ))"
   ]
  },
  {
   "cell_type": "code",
   "execution_count": null,
   "id": "b0ecbfed",
   "metadata": {},
   "outputs": [],
   "source": []
  },
  {
   "cell_type": "code",
   "execution_count": 17,
   "id": "15c990a7",
   "metadata": {},
   "outputs": [],
   "source": [
    "x = 22"
   ]
  },
  {
   "cell_type": "code",
   "execution_count": 18,
   "id": "2d5525ff",
   "metadata": {},
   "outputs": [],
   "source": [
    "y = 30"
   ]
  },
  {
   "cell_type": "code",
   "execution_count": 19,
   "id": "9b33dd55",
   "metadata": {},
   "outputs": [
    {
     "name": "stdout",
     "output_type": "stream",
     "text": [
      "52\n"
     ]
    }
   ],
   "source": [
    "print(x + y)"
   ]
  },
  {
   "cell_type": "code",
   "execution_count": null,
   "id": "fd634274",
   "metadata": {},
   "outputs": [],
   "source": []
  },
  {
   "cell_type": "code",
   "execution_count": 20,
   "id": "dd7f86c5",
   "metadata": {},
   "outputs": [],
   "source": [
    "a = 10"
   ]
  },
  {
   "cell_type": "code",
   "execution_count": 21,
   "id": "609aa312",
   "metadata": {},
   "outputs": [],
   "source": [
    "c = 80"
   ]
  },
  {
   "cell_type": "code",
   "execution_count": 22,
   "id": "8a988d63",
   "metadata": {},
   "outputs": [
    {
     "name": "stdout",
     "output_type": "stream",
     "text": [
      "90\n"
     ]
    }
   ],
   "source": [
    "print(a + 80)"
   ]
  },
  {
   "cell_type": "code",
   "execution_count": null,
   "id": "e8bee757",
   "metadata": {},
   "outputs": [],
   "source": []
  },
  {
   "cell_type": "code",
   "execution_count": 23,
   "id": "051872b7",
   "metadata": {},
   "outputs": [],
   "source": [
    "w = 25"
   ]
  },
  {
   "cell_type": "code",
   "execution_count": 26,
   "id": "31eed900",
   "metadata": {},
   "outputs": [],
   "source": [
    "k = 10"
   ]
  },
  {
   "cell_type": "code",
   "execution_count": 27,
   "id": "bba2eafa",
   "metadata": {},
   "outputs": [
    {
     "name": "stdout",
     "output_type": "stream",
     "text": [
      "15\n"
     ]
    }
   ],
   "source": [
    "print(w - k)"
   ]
  },
  {
   "cell_type": "code",
   "execution_count": null,
   "id": "f1b80f63",
   "metadata": {},
   "outputs": [],
   "source": []
  },
  {
   "cell_type": "code",
   "execution_count": 28,
   "id": "11652e69",
   "metadata": {},
   "outputs": [],
   "source": [
    "n = 5"
   ]
  },
  {
   "cell_type": "code",
   "execution_count": 29,
   "id": "cdd7b216",
   "metadata": {},
   "outputs": [],
   "source": [
    "p = 3"
   ]
  },
  {
   "cell_type": "code",
   "execution_count": 30,
   "id": "81c65217",
   "metadata": {},
   "outputs": [
    {
     "name": "stdout",
     "output_type": "stream",
     "text": [
      "15\n"
     ]
    }
   ],
   "source": [
    "print(n * p)"
   ]
  },
  {
   "cell_type": "code",
   "execution_count": null,
   "id": "64dec313",
   "metadata": {},
   "outputs": [],
   "source": []
  },
  {
   "cell_type": "code",
   "execution_count": 31,
   "id": "c8a22c69",
   "metadata": {},
   "outputs": [],
   "source": [
    "m = 10"
   ]
  },
  {
   "cell_type": "code",
   "execution_count": 32,
   "id": "ac2f90bb",
   "metadata": {},
   "outputs": [],
   "source": [
    "e = 5"
   ]
  },
  {
   "cell_type": "code",
   "execution_count": 33,
   "id": "98ff6fb9",
   "metadata": {},
   "outputs": [
    {
     "name": "stdout",
     "output_type": "stream",
     "text": [
      "100000\n"
     ]
    }
   ],
   "source": [
    "print(m ** e)"
   ]
  },
  {
   "cell_type": "code",
   "execution_count": null,
   "id": "19b30d8a",
   "metadata": {},
   "outputs": [],
   "source": []
  },
  {
   "cell_type": "code",
   "execution_count": 34,
   "id": "906d58e4",
   "metadata": {},
   "outputs": [],
   "source": [
    "d = 90"
   ]
  },
  {
   "cell_type": "code",
   "execution_count": 35,
   "id": "3bc66ff5",
   "metadata": {},
   "outputs": [],
   "source": [
    "u = 30"
   ]
  },
  {
   "cell_type": "code",
   "execution_count": 36,
   "id": "057e7587",
   "metadata": {},
   "outputs": [
    {
     "name": "stdout",
     "output_type": "stream",
     "text": [
      "3.0\n"
     ]
    }
   ],
   "source": [
    "print(d / u)"
   ]
  },
  {
   "cell_type": "code",
   "execution_count": null,
   "id": "40d900f1",
   "metadata": {},
   "outputs": [],
   "source": []
  },
  {
   "cell_type": "code",
   "execution_count": 37,
   "id": "5fabb766",
   "metadata": {},
   "outputs": [
    {
     "name": "stdout",
     "output_type": "stream",
     "text": [
      "3\n"
     ]
    }
   ],
   "source": [
    "print(d // u)"
   ]
  },
  {
   "cell_type": "code",
   "execution_count": null,
   "id": "763d6320",
   "metadata": {},
   "outputs": [],
   "source": []
  },
  {
   "cell_type": "code",
   "execution_count": 38,
   "id": "23b6e844",
   "metadata": {},
   "outputs": [],
   "source": [
    "f = 15"
   ]
  },
  {
   "cell_type": "code",
   "execution_count": 39,
   "id": "4264ba5d",
   "metadata": {},
   "outputs": [],
   "source": [
    "i = 5"
   ]
  },
  {
   "cell_type": "code",
   "execution_count": 40,
   "id": "6e142c6f",
   "metadata": {},
   "outputs": [
    {
     "name": "stdout",
     "output_type": "stream",
     "text": [
      "0\n"
     ]
    }
   ],
   "source": [
    "print(f % i)"
   ]
  },
  {
   "cell_type": "code",
   "execution_count": null,
   "id": "172168b1",
   "metadata": {},
   "outputs": [],
   "source": []
  },
  {
   "cell_type": "code",
   "execution_count": 41,
   "id": "dc84064c",
   "metadata": {},
   "outputs": [],
   "source": [
    "city = \"lagos\""
   ]
  },
  {
   "cell_type": "code",
   "execution_count": 42,
   "id": "7411dedb",
   "metadata": {},
   "outputs": [
    {
     "name": "stdout",
     "output_type": "stream",
     "text": [
      "<class 'str'>\n"
     ]
    }
   ],
   "source": [
    "print(type(city))"
   ]
  },
  {
   "cell_type": "code",
   "execution_count": null,
   "id": "340b1f8d",
   "metadata": {},
   "outputs": [],
   "source": []
  },
  {
   "cell_type": "code",
   "execution_count": 43,
   "id": "db7aea0b",
   "metadata": {},
   "outputs": [],
   "source": [
    "age = 30"
   ]
  },
  {
   "cell_type": "code",
   "execution_count": 44,
   "id": "a6fa7b08",
   "metadata": {},
   "outputs": [
    {
     "name": "stdout",
     "output_type": "stream",
     "text": [
      "<class 'int'>\n"
     ]
    }
   ],
   "source": [
    "print(type(age))"
   ]
  },
  {
   "cell_type": "code",
   "execution_count": null,
   "id": "6d7907cb",
   "metadata": {},
   "outputs": [],
   "source": []
  },
  {
   "cell_type": "code",
   "execution_count": 47,
   "id": "ef94589d",
   "metadata": {},
   "outputs": [],
   "source": [
    "price = 100.6"
   ]
  },
  {
   "cell_type": "code",
   "execution_count": 48,
   "id": "6092a9c6",
   "metadata": {},
   "outputs": [
    {
     "name": "stdout",
     "output_type": "stream",
     "text": [
      "<class 'float'>\n"
     ]
    }
   ],
   "source": [
    "print(type(price))"
   ]
  },
  {
   "cell_type": "code",
   "execution_count": null,
   "id": "1dfedd7b",
   "metadata": {},
   "outputs": [],
   "source": []
  },
  {
   "cell_type": "code",
   "execution_count": 49,
   "id": "780183b8",
   "metadata": {},
   "outputs": [],
   "source": [
    "has_a_job = False"
   ]
  },
  {
   "cell_type": "code",
   "execution_count": 50,
   "id": "54cfd838",
   "metadata": {},
   "outputs": [
    {
     "name": "stdout",
     "output_type": "stream",
     "text": [
      "<class 'bool'>\n"
     ]
    }
   ],
   "source": [
    "print(type(has_a_job))"
   ]
  },
  {
   "cell_type": "code",
   "execution_count": null,
   "id": "0923b98d",
   "metadata": {},
   "outputs": [],
   "source": []
  },
  {
   "cell_type": "code",
   "execution_count": 51,
   "id": "b84007f3",
   "metadata": {},
   "outputs": [],
   "source": [
    "Z = 30.6"
   ]
  },
  {
   "cell_type": "code",
   "execution_count": 53,
   "id": "2e954af4",
   "metadata": {},
   "outputs": [
    {
     "name": "stdout",
     "output_type": "stream",
     "text": [
      "31\n"
     ]
    }
   ],
   "source": [
    "print(round(Z))"
   ]
  },
  {
   "cell_type": "code",
   "execution_count": null,
   "id": "2ce9b94f",
   "metadata": {},
   "outputs": [],
   "source": []
  },
  {
   "cell_type": "code",
   "execution_count": 56,
   "id": "77aff8cd",
   "metadata": {},
   "outputs": [],
   "source": [
    "first_number = 10\n",
    "second_number = 5"
   ]
  },
  {
   "cell_type": "code",
   "execution_count": 63,
   "id": "a272f4c5",
   "metadata": {},
   "outputs": [],
   "source": [
    "Result = round(first_number / second_number)"
   ]
  },
  {
   "cell_type": "code",
   "execution_count": 65,
   "id": "5c8aff60",
   "metadata": {},
   "outputs": [
    {
     "name": "stdout",
     "output_type": "stream",
     "text": [
      "2\n"
     ]
    }
   ],
   "source": [
    "print(Result)"
   ]
  },
  {
   "cell_type": "code",
   "execution_count": null,
   "id": "1fe5364d",
   "metadata": {},
   "outputs": [],
   "source": []
  },
  {
   "cell_type": "code",
   "execution_count": 66,
   "id": "9196578d",
   "metadata": {},
   "outputs": [],
   "source": [
    "f = \"35\""
   ]
  },
  {
   "cell_type": "code",
   "execution_count": 67,
   "id": "ae179acf",
   "metadata": {},
   "outputs": [
    {
     "name": "stdout",
     "output_type": "stream",
     "text": [
      "35\n"
     ]
    }
   ],
   "source": [
    "print(f)"
   ]
  },
  {
   "cell_type": "code",
   "execution_count": 68,
   "id": "8de9c6cf",
   "metadata": {},
   "outputs": [
    {
     "name": "stdout",
     "output_type": "stream",
     "text": [
      "<class 'str'>\n"
     ]
    }
   ],
   "source": [
    "print(type(f))"
   ]
  },
  {
   "cell_type": "code",
   "execution_count": 69,
   "id": "49cc1d96",
   "metadata": {},
   "outputs": [],
   "source": [
    "convert_f = int(f)"
   ]
  },
  {
   "cell_type": "code",
   "execution_count": 70,
   "id": "3b84518f",
   "metadata": {},
   "outputs": [
    {
     "name": "stdout",
     "output_type": "stream",
     "text": [
      "<class 'int'>\n"
     ]
    }
   ],
   "source": [
    "print(type(convert_f))"
   ]
  },
  {
   "cell_type": "code",
   "execution_count": null,
   "id": "74c41f23",
   "metadata": {},
   "outputs": [],
   "source": []
  },
  {
   "cell_type": "code",
   "execution_count": 71,
   "id": "888afeee",
   "metadata": {},
   "outputs": [
    {
     "name": "stdout",
     "output_type": "stream",
     "text": [
      "<class 'int'>\n"
     ]
    }
   ],
   "source": [
    "t = 6\n",
    "print(type(t))"
   ]
  },
  {
   "cell_type": "code",
   "execution_count": 72,
   "id": "783d5869",
   "metadata": {},
   "outputs": [],
   "source": [
    "convert_t = float(t)"
   ]
  },
  {
   "cell_type": "code",
   "execution_count": 73,
   "id": "c1da789e",
   "metadata": {},
   "outputs": [
    {
     "name": "stdout",
     "output_type": "stream",
     "text": [
      "<class 'float'>\n"
     ]
    }
   ],
   "source": [
    "print(type(convert_t))"
   ]
  },
  {
   "cell_type": "code",
   "execution_count": 74,
   "id": "12f0d4a7",
   "metadata": {},
   "outputs": [
    {
     "name": "stdout",
     "output_type": "stream",
     "text": [
      "6.0\n"
     ]
    }
   ],
   "source": [
    "print(convert_t)"
   ]
  },
  {
   "cell_type": "code",
   "execution_count": null,
   "id": "b8e1d2d5",
   "metadata": {},
   "outputs": [],
   "source": []
  },
  {
   "cell_type": "code",
   "execution_count": 75,
   "id": "f1735852",
   "metadata": {},
   "outputs": [],
   "source": [
    "k = \"3.5\""
   ]
  },
  {
   "cell_type": "code",
   "execution_count": 76,
   "id": "9d39a87d",
   "metadata": {},
   "outputs": [
    {
     "name": "stdout",
     "output_type": "stream",
     "text": [
      "<class 'str'>\n"
     ]
    }
   ],
   "source": [
    "print(type(k))"
   ]
  },
  {
   "cell_type": "code",
   "execution_count": 77,
   "id": "e00101fd",
   "metadata": {},
   "outputs": [],
   "source": [
    "convert_k = int(float(k))"
   ]
  },
  {
   "cell_type": "code",
   "execution_count": 78,
   "id": "3c7d6315",
   "metadata": {},
   "outputs": [
    {
     "name": "stdout",
     "output_type": "stream",
     "text": [
      "3\n"
     ]
    }
   ],
   "source": [
    "print(convert_k)"
   ]
  },
  {
   "cell_type": "code",
   "execution_count": null,
   "id": "be528793",
   "metadata": {},
   "outputs": [],
   "source": []
  },
  {
   "cell_type": "code",
   "execution_count": 81,
   "id": "ecc700bf",
   "metadata": {},
   "outputs": [],
   "source": [
    "first_name = \"Ehis \"\n",
    "last_name = \"Evans\""
   ]
  },
  {
   "cell_type": "code",
   "execution_count": 82,
   "id": "c29f7e50",
   "metadata": {},
   "outputs": [],
   "source": [
    "concat = first_name + last_name"
   ]
  },
  {
   "cell_type": "code",
   "execution_count": 83,
   "id": "bfb17db7",
   "metadata": {},
   "outputs": [
    {
     "name": "stdout",
     "output_type": "stream",
     "text": [
      "Ehis Evans\n"
     ]
    }
   ],
   "source": [
    "print(concat)"
   ]
  },
  {
   "cell_type": "code",
   "execution_count": null,
   "id": "ab379f60",
   "metadata": {},
   "outputs": [],
   "source": []
  },
  {
   "cell_type": "code",
   "execution_count": 84,
   "id": "e0c91b0d",
   "metadata": {},
   "outputs": [],
   "source": [
    "d = \"6\"\n",
    "l = \"9\""
   ]
  },
  {
   "cell_type": "code",
   "execution_count": 85,
   "id": "1154b703",
   "metadata": {},
   "outputs": [
    {
     "name": "stdout",
     "output_type": "stream",
     "text": [
      "69\n"
     ]
    }
   ],
   "source": [
    "print(d + l)"
   ]
  },
  {
   "cell_type": "code",
   "execution_count": 86,
   "id": "fdac1854",
   "metadata": {},
   "outputs": [],
   "source": [
    "concat = d + l"
   ]
  },
  {
   "cell_type": "code",
   "execution_count": 87,
   "id": "c1ee6b3b",
   "metadata": {},
   "outputs": [
    {
     "name": "stdout",
     "output_type": "stream",
     "text": [
      "69\n"
     ]
    }
   ],
   "source": [
    "print(concat)"
   ]
  },
  {
   "cell_type": "code",
   "execution_count": null,
   "id": "c4bac640",
   "metadata": {},
   "outputs": [],
   "source": []
  },
  {
   "cell_type": "code",
   "execution_count": 88,
   "id": "88ccba50",
   "metadata": {},
   "outputs": [],
   "source": [
    "my_age =31"
   ]
  },
  {
   "cell_type": "code",
   "execution_count": 89,
   "id": "31e2d4b4",
   "metadata": {},
   "outputs": [
    {
     "name": "stdout",
     "output_type": "stream",
     "text": [
      "31\n"
     ]
    }
   ],
   "source": [
    "print(my_age)"
   ]
  },
  {
   "cell_type": "code",
   "execution_count": 90,
   "id": "0518abca",
   "metadata": {},
   "outputs": [
    {
     "name": "stdout",
     "output_type": "stream",
     "text": [
      "my age is 31 years old\n"
     ]
    }
   ],
   "source": [
    "print(f\"my age is {my_age} years old\")"
   ]
  },
  {
   "cell_type": "code",
   "execution_count": null,
   "id": "9f91f161",
   "metadata": {},
   "outputs": [],
   "source": []
  },
  {
   "cell_type": "code",
   "execution_count": 91,
   "id": "d9d709a1",
   "metadata": {},
   "outputs": [
    {
     "name": "stdout",
     "output_type": "stream",
     "text": [
      "how are you doing\n"
     ]
    }
   ],
   "source": [
    "print(f\"how are you doing\")"
   ]
  },
  {
   "cell_type": "code",
   "execution_count": null,
   "id": "0c33af43",
   "metadata": {},
   "outputs": [],
   "source": []
  },
  {
   "cell_type": "code",
   "execution_count": 92,
   "id": "217aa0fa",
   "metadata": {},
   "outputs": [],
   "source": [
    "name = \"ehis\""
   ]
  },
  {
   "cell_type": "code",
   "execution_count": 94,
   "id": "ccf01155",
   "metadata": {},
   "outputs": [
    {
     "name": "stdout",
     "output_type": "stream",
     "text": [
      "ehis\n"
     ]
    }
   ],
   "source": [
    "print(name.lower())"
   ]
  },
  {
   "cell_type": "code",
   "execution_count": 95,
   "id": "fdf6a2aa",
   "metadata": {},
   "outputs": [
    {
     "name": "stdout",
     "output_type": "stream",
     "text": [
      "EHIS\n"
     ]
    }
   ],
   "source": [
    "print(name.upper())"
   ]
  },
  {
   "cell_type": "code",
   "execution_count": null,
   "id": "42a6f0e6",
   "metadata": {},
   "outputs": [],
   "source": []
  },
  {
   "cell_type": "code",
   "execution_count": 96,
   "id": "889866b5",
   "metadata": {},
   "outputs": [],
   "source": [
    "import random"
   ]
  },
  {
   "cell_type": "code",
   "execution_count": 107,
   "id": "893fc36e",
   "metadata": {},
   "outputs": [],
   "source": [
    "random_number = random.randint(1, 50)"
   ]
  },
  {
   "cell_type": "code",
   "execution_count": 108,
   "id": "2ec55b9b",
   "metadata": {},
   "outputs": [
    {
     "name": "stdout",
     "output_type": "stream",
     "text": [
      "48\n"
     ]
    }
   ],
   "source": [
    "print(random_number)"
   ]
  },
  {
   "cell_type": "code",
   "execution_count": null,
   "id": "c53cf1ce",
   "metadata": {},
   "outputs": [],
   "source": []
  },
  {
   "cell_type": "code",
   "execution_count": 110,
   "id": "f67ed98d",
   "metadata": {},
   "outputs": [
    {
     "name": "stdout",
     "output_type": "stream",
     "text": [
      "please in your first name:     ehis\n"
     ]
    }
   ],
   "source": [
    "first_name = input(\"please in your first name:     \")"
   ]
  },
  {
   "cell_type": "code",
   "execution_count": 111,
   "id": "48b52ff3",
   "metadata": {},
   "outputs": [
    {
     "name": "stdout",
     "output_type": "stream",
     "text": [
      "EHIS\n"
     ]
    }
   ],
   "source": [
    "print(name.upper())"
   ]
  },
  {
   "cell_type": "code",
   "execution_count": null,
   "id": "036c23a1",
   "metadata": {},
   "outputs": [],
   "source": []
  },
  {
   "cell_type": "code",
   "execution_count": 113,
   "id": "4b62aced",
   "metadata": {},
   "outputs": [
    {
     "name": "stdout",
     "output_type": "stream",
     "text": [
      "put in any number:     10\n"
     ]
    }
   ],
   "source": [
    "number = input(\"put in any number:     \")"
   ]
  },
  {
   "cell_type": "code",
   "execution_count": 114,
   "id": "107fda86",
   "metadata": {},
   "outputs": [
    {
     "name": "stdout",
     "output_type": "stream",
     "text": [
      "10\n"
     ]
    }
   ],
   "source": [
    "print(number)"
   ]
  },
  {
   "cell_type": "code",
   "execution_count": 115,
   "id": "1227b32a",
   "metadata": {},
   "outputs": [
    {
     "name": "stdout",
     "output_type": "stream",
     "text": [
      "<class 'str'>\n"
     ]
    }
   ],
   "source": [
    "print(type(number))"
   ]
  },
  {
   "cell_type": "code",
   "execution_count": null,
   "id": "1e41f0ba",
   "metadata": {},
   "outputs": [],
   "source": []
  },
  {
   "cell_type": "code",
   "execution_count": 118,
   "id": "2a8a2f70",
   "metadata": {},
   "outputs": [
    {
     "name": "stdout",
     "output_type": "stream",
     "text": [
      "put any number:   20\n"
     ]
    }
   ],
   "source": [
    "number = int(input(\"put any number:   \"))"
   ]
  },
  {
   "cell_type": "code",
   "execution_count": 119,
   "id": "f556f0b9",
   "metadata": {},
   "outputs": [
    {
     "name": "stdout",
     "output_type": "stream",
     "text": [
      "<class 'int'>\n"
     ]
    }
   ],
   "source": [
    "print(type(number))"
   ]
  },
  {
   "cell_type": "code",
   "execution_count": null,
   "id": "111f7787",
   "metadata": {},
   "outputs": [],
   "source": []
  }
 ],
 "metadata": {
  "kernelspec": {
   "display_name": "Python 3 (ipykernel)",
   "language": "python",
   "name": "python3"
  },
  "language_info": {
   "codemirror_mode": {
    "name": "ipython",
    "version": 3
   },
   "file_extension": ".py",
   "mimetype": "text/x-python",
   "name": "python",
   "nbconvert_exporter": "python",
   "pygments_lexer": "ipython3",
   "version": "3.10.4"
  }
 },
 "nbformat": 4,
 "nbformat_minor": 5
}
