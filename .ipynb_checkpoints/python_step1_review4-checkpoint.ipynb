{
 "cells": [
  {
   "cell_type": "code",
   "execution_count": 1,
   "id": "6680b858",
   "metadata": {},
   "outputs": [],
   "source": [
    "l = 47"
   ]
  },
  {
   "cell_type": "code",
   "execution_count": 3,
   "id": "a4249848",
   "metadata": {},
   "outputs": [
    {
     "name": "stdout",
     "output_type": "stream",
     "text": [
      "<class 'int'>\n"
     ]
    }
   ],
   "source": [
    "print(type(l))"
   ]
  },
  {
   "cell_type": "code",
   "execution_count": null,
   "id": "4856a1ec",
   "metadata": {},
   "outputs": [],
   "source": []
  },
  {
   "cell_type": "code",
   "execution_count": 4,
   "id": "bd17f025",
   "metadata": {},
   "outputs": [],
   "source": [
    "j = 80.9"
   ]
  },
  {
   "cell_type": "code",
   "execution_count": 5,
   "id": "23bf6dbb",
   "metadata": {},
   "outputs": [
    {
     "name": "stdout",
     "output_type": "stream",
     "text": [
      "<class 'float'>\n"
     ]
    }
   ],
   "source": [
    "print(type(j))"
   ]
  },
  {
   "cell_type": "code",
   "execution_count": null,
   "id": "7298b3e3",
   "metadata": {},
   "outputs": [],
   "source": []
  },
  {
   "cell_type": "code",
   "execution_count": 6,
   "id": "4cacb4f9",
   "metadata": {},
   "outputs": [],
   "source": [
    "has_a_house = True"
   ]
  },
  {
   "cell_type": "code",
   "execution_count": 7,
   "id": "f29f51af",
   "metadata": {},
   "outputs": [
    {
     "name": "stdout",
     "output_type": "stream",
     "text": [
      "<class 'bool'>\n"
     ]
    }
   ],
   "source": [
    "print(type(has_a_house))"
   ]
  },
  {
   "cell_type": "code",
   "execution_count": null,
   "id": "9d1df567",
   "metadata": {},
   "outputs": [],
   "source": []
  },
  {
   "cell_type": "code",
   "execution_count": 8,
   "id": "79f4655f",
   "metadata": {},
   "outputs": [],
   "source": [
    "first_name = \"ehis\""
   ]
  },
  {
   "cell_type": "code",
   "execution_count": 11,
   "id": "60448d68",
   "metadata": {},
   "outputs": [
    {
     "name": "stdout",
     "output_type": "stream",
     "text": [
      "<class 'str'>\n"
     ]
    }
   ],
   "source": [
    "print(type(first_name))"
   ]
  },
  {
   "cell_type": "code",
   "execution_count": null,
   "id": "32dc8d37",
   "metadata": {},
   "outputs": [],
   "source": []
  },
  {
   "cell_type": "code",
   "execution_count": 12,
   "id": "f729f9f3",
   "metadata": {},
   "outputs": [
    {
     "name": "stdout",
     "output_type": "stream",
     "text": [
      "47\n"
     ]
    }
   ],
   "source": [
    "print(l)"
   ]
  },
  {
   "cell_type": "code",
   "execution_count": null,
   "id": "31c7262d",
   "metadata": {},
   "outputs": [],
   "source": []
  },
  {
   "cell_type": "code",
   "execution_count": 13,
   "id": "b137f6e2",
   "metadata": {},
   "outputs": [],
   "source": [
    "dupe = 40"
   ]
  },
  {
   "cell_type": "code",
   "execution_count": 14,
   "id": "539914ce",
   "metadata": {},
   "outputs": [],
   "source": [
    "tope = 30"
   ]
  },
  {
   "cell_type": "code",
   "execution_count": 15,
   "id": "91933991",
   "metadata": {},
   "outputs": [
    {
     "name": "stdout",
     "output_type": "stream",
     "text": [
      "70\n"
     ]
    }
   ],
   "source": [
    "print(dupe + tope)"
   ]
  },
  {
   "cell_type": "code",
   "execution_count": null,
   "id": "17b78c54",
   "metadata": {},
   "outputs": [],
   "source": []
  },
  {
   "cell_type": "code",
   "execution_count": 16,
   "id": "85d1ba3b",
   "metadata": {},
   "outputs": [
    {
     "name": "stdout",
     "output_type": "stream",
     "text": [
      "10\n"
     ]
    }
   ],
   "source": [
    "print(dupe - tope)"
   ]
  },
  {
   "cell_type": "code",
   "execution_count": null,
   "id": "9a417dbe",
   "metadata": {},
   "outputs": [],
   "source": []
  },
  {
   "cell_type": "code",
   "execution_count": 17,
   "id": "b78718dc",
   "metadata": {},
   "outputs": [
    {
     "name": "stdout",
     "output_type": "stream",
     "text": [
      "1.3333333333333333\n"
     ]
    }
   ],
   "source": [
    "print(dupe / tope)"
   ]
  },
  {
   "cell_type": "code",
   "execution_count": null,
   "id": "299a16e6",
   "metadata": {},
   "outputs": [],
   "source": []
  },
  {
   "cell_type": "code",
   "execution_count": 18,
   "id": "1232064a",
   "metadata": {},
   "outputs": [
    {
     "name": "stdout",
     "output_type": "stream",
     "text": [
      "1\n"
     ]
    }
   ],
   "source": [
    "print(dupe // tope)"
   ]
  },
  {
   "cell_type": "code",
   "execution_count": null,
   "id": "ed2b0c50",
   "metadata": {},
   "outputs": [],
   "source": []
  },
  {
   "cell_type": "code",
   "execution_count": 19,
   "id": "5396bb95",
   "metadata": {},
   "outputs": [
    {
     "name": "stdout",
     "output_type": "stream",
     "text": [
      "1152921504606846976000000000000000000000000000000\n"
     ]
    }
   ],
   "source": [
    "print(dupe ** tope)"
   ]
  },
  {
   "cell_type": "code",
   "execution_count": null,
   "id": "d9f48ca5",
   "metadata": {},
   "outputs": [],
   "source": []
  },
  {
   "cell_type": "code",
   "execution_count": 20,
   "id": "5621572b",
   "metadata": {},
   "outputs": [
    {
     "name": "stdout",
     "output_type": "stream",
     "text": [
      "1200\n"
     ]
    }
   ],
   "source": [
    "print(dupe * tope)"
   ]
  },
  {
   "cell_type": "code",
   "execution_count": null,
   "id": "554fc223",
   "metadata": {},
   "outputs": [],
   "source": [
    " "
   ]
  },
  {
   "cell_type": "code",
   "execution_count": 21,
   "id": "07851637",
   "metadata": {},
   "outputs": [
    {
     "name": "stdout",
     "output_type": "stream",
     "text": [
      "10\n"
     ]
    }
   ],
   "source": [
    "print(dupe % tope)"
   ]
  },
  {
   "cell_type": "code",
   "execution_count": null,
   "id": "14029542",
   "metadata": {},
   "outputs": [],
   "source": []
  },
  {
   "cell_type": "code",
   "execution_count": 22,
   "id": "f207408f",
   "metadata": {},
   "outputs": [],
   "source": [
    "Surname = \"evans\""
   ]
  },
  {
   "cell_type": "code",
   "execution_count": 23,
   "id": "0dabe27d",
   "metadata": {},
   "outputs": [
    {
     "name": "stdout",
     "output_type": "stream",
     "text": [
      "<class 'str'>\n"
     ]
    }
   ],
   "source": [
    "print(type(Surname))"
   ]
  },
  {
   "cell_type": "code",
   "execution_count": null,
   "id": "34349400",
   "metadata": {},
   "outputs": [],
   "source": []
  },
  {
   "cell_type": "code",
   "execution_count": 24,
   "id": "05202118",
   "metadata": {},
   "outputs": [],
   "source": [
    "age = 45"
   ]
  },
  {
   "cell_type": "code",
   "execution_count": 25,
   "id": "43f53c05",
   "metadata": {},
   "outputs": [
    {
     "name": "stdout",
     "output_type": "stream",
     "text": [
      "<class 'int'>\n"
     ]
    }
   ],
   "source": [
    "print(type(age))"
   ]
  },
  {
   "cell_type": "code",
   "execution_count": null,
   "id": "ffc73d0c",
   "metadata": {},
   "outputs": [],
   "source": []
  },
  {
   "cell_type": "code",
   "execution_count": 26,
   "id": "be2d5e87",
   "metadata": {},
   "outputs": [],
   "source": [
    "Height = 8.6"
   ]
  },
  {
   "cell_type": "code",
   "execution_count": 28,
   "id": "b02365d5",
   "metadata": {},
   "outputs": [
    {
     "name": "stdout",
     "output_type": "stream",
     "text": [
      "<class 'float'>\n"
     ]
    }
   ],
   "source": [
    "print(type(Height))"
   ]
  },
  {
   "cell_type": "code",
   "execution_count": null,
   "id": "30e17ccf",
   "metadata": {},
   "outputs": [],
   "source": []
  },
  {
   "cell_type": "code",
   "execution_count": 29,
   "id": "fce553fc",
   "metadata": {},
   "outputs": [],
   "source": [
    "Married = False"
   ]
  },
  {
   "cell_type": "code",
   "execution_count": 30,
   "id": "36c783f4",
   "metadata": {},
   "outputs": [
    {
     "name": "stdout",
     "output_type": "stream",
     "text": [
      "<class 'bool'>\n"
     ]
    }
   ],
   "source": [
    "print(type(Married))"
   ]
  },
  {
   "cell_type": "code",
   "execution_count": null,
   "id": "9d388137",
   "metadata": {},
   "outputs": [],
   "source": []
  },
  {
   "cell_type": "code",
   "execution_count": 31,
   "id": "dc5fe655",
   "metadata": {},
   "outputs": [],
   "source": [
    "Weight = \"110\""
   ]
  },
  {
   "cell_type": "code",
   "execution_count": 32,
   "id": "f7572fd0",
   "metadata": {},
   "outputs": [
    {
     "name": "stdout",
     "output_type": "stream",
     "text": [
      "<class 'str'>\n"
     ]
    }
   ],
   "source": [
    "print(type(Weight))"
   ]
  },
  {
   "cell_type": "code",
   "execution_count": 33,
   "id": "0c906ad7",
   "metadata": {},
   "outputs": [],
   "source": [
    "convert_Weight = int(110)"
   ]
  },
  {
   "cell_type": "code",
   "execution_count": 34,
   "id": "f790a3ae",
   "metadata": {},
   "outputs": [
    {
     "name": "stdout",
     "output_type": "stream",
     "text": [
      "<class 'int'>\n"
     ]
    }
   ],
   "source": [
    "print(type(convert_Weight))"
   ]
  },
  {
   "cell_type": "code",
   "execution_count": null,
   "id": "5fa26460",
   "metadata": {},
   "outputs": [],
   "source": []
  },
  {
   "cell_type": "code",
   "execution_count": 35,
   "id": "73d0aa24",
   "metadata": {},
   "outputs": [],
   "source": [
    "ehis = \"30\""
   ]
  },
  {
   "cell_type": "code",
   "execution_count": 36,
   "id": "df7bf059",
   "metadata": {},
   "outputs": [],
   "source": [
    "tope = 20"
   ]
  },
  {
   "cell_type": "code",
   "execution_count": 38,
   "id": "bc10e312",
   "metadata": {},
   "outputs": [
    {
     "name": "stdout",
     "output_type": "stream",
     "text": [
      "<class 'str'>\n"
     ]
    }
   ],
   "source": [
    "print(type(ehis))"
   ]
  },
  {
   "cell_type": "code",
   "execution_count": 39,
   "id": "6c793076",
   "metadata": {},
   "outputs": [
    {
     "name": "stdout",
     "output_type": "stream",
     "text": [
      "<class 'int'>\n"
     ]
    }
   ],
   "source": [
    "print(type(tope))"
   ]
  },
  {
   "cell_type": "code",
   "execution_count": 40,
   "id": "29892ba7",
   "metadata": {},
   "outputs": [],
   "source": [
    "convert_ehis = int(30)"
   ]
  },
  {
   "cell_type": "code",
   "execution_count": 41,
   "id": "9f51eef4",
   "metadata": {},
   "outputs": [
    {
     "name": "stdout",
     "output_type": "stream",
     "text": [
      "<class 'int'>\n"
     ]
    }
   ],
   "source": [
    "print(type(convert_ehis))"
   ]
  },
  {
   "cell_type": "code",
   "execution_count": 42,
   "id": "c8b63437",
   "metadata": {},
   "outputs": [
    {
     "name": "stdout",
     "output_type": "stream",
     "text": [
      "50\n"
     ]
    }
   ],
   "source": [
    "print(convert_ehis + tope)"
   ]
  },
  {
   "cell_type": "code",
   "execution_count": null,
   "id": "838d9472",
   "metadata": {},
   "outputs": [],
   "source": []
  },
  {
   "cell_type": "code",
   "execution_count": 45,
   "id": "5ff19e54",
   "metadata": {},
   "outputs": [],
   "source": [
    "convert_tope = float(tope)"
   ]
  },
  {
   "cell_type": "code",
   "execution_count": 46,
   "id": "a3268e50",
   "metadata": {},
   "outputs": [
    {
     "name": "stdout",
     "output_type": "stream",
     "text": [
      "<class 'float'>\n"
     ]
    }
   ],
   "source": [
    "print(type(convert_tope))"
   ]
  },
  {
   "cell_type": "code",
   "execution_count": 47,
   "id": "7f5bf481",
   "metadata": {},
   "outputs": [
    {
     "name": "stdout",
     "output_type": "stream",
     "text": [
      "20.0\n"
     ]
    }
   ],
   "source": [
    "print(convert_tope)"
   ]
  },
  {
   "cell_type": "code",
   "execution_count": 51,
   "id": "62601c8e",
   "metadata": {},
   "outputs": [],
   "source": [
    "convert_tope2 = str(convert_tope)"
   ]
  },
  {
   "cell_type": "code",
   "execution_count": 53,
   "id": "02bcb772",
   "metadata": {},
   "outputs": [
    {
     "name": "stdout",
     "output_type": "stream",
     "text": [
      "<class 'str'>\n"
     ]
    }
   ],
   "source": [
    "print(type(convert_tope2))"
   ]
  },
  {
   "cell_type": "code",
   "execution_count": 54,
   "id": "77416917",
   "metadata": {},
   "outputs": [
    {
     "name": "stdout",
     "output_type": "stream",
     "text": [
      "20\n"
     ]
    }
   ],
   "source": [
    "print(convert_tope2)"
   ]
  },
  {
   "cell_type": "code",
   "execution_count": 55,
   "id": "36cd382f",
   "metadata": {},
   "outputs": [
    {
     "name": "stdout",
     "output_type": "stream",
     "text": [
      "<class 'str'>\n"
     ]
    }
   ],
   "source": [
    "print(type(convert_tope2))"
   ]
  },
  {
   "cell_type": "code",
   "execution_count": null,
   "id": "8699c744",
   "metadata": {},
   "outputs": [],
   "source": []
  },
  {
   "cell_type": "code",
   "execution_count": 60,
   "id": "6b83a0c0",
   "metadata": {},
   "outputs": [],
   "source": [
    "k = 40.9"
   ]
  },
  {
   "cell_type": "code",
   "execution_count": 61,
   "id": "57217507",
   "metadata": {},
   "outputs": [
    {
     "name": "stdout",
     "output_type": "stream",
     "text": [
      "41\n"
     ]
    }
   ],
   "source": [
    "print(round(k))"
   ]
  },
  {
   "cell_type": "code",
   "execution_count": null,
   "id": "a669a384",
   "metadata": {},
   "outputs": [],
   "source": []
  },
  {
   "cell_type": "code",
   "execution_count": 63,
   "id": "a8c3be81",
   "metadata": {},
   "outputs": [],
   "source": [
    "age = 35\n",
    "weight = 115"
   ]
  },
  {
   "cell_type": "code",
   "execution_count": 64,
   "id": "cd78d01b",
   "metadata": {},
   "outputs": [],
   "source": [
    "result = round(age / weight )"
   ]
  },
  {
   "cell_type": "code",
   "execution_count": 65,
   "id": "98dbb9f5",
   "metadata": {},
   "outputs": [
    {
     "name": "stdout",
     "output_type": "stream",
     "text": [
      "0\n"
     ]
    }
   ],
   "source": [
    "print(result)"
   ]
  },
  {
   "cell_type": "code",
   "execution_count": null,
   "id": "3ecb4c9b",
   "metadata": {},
   "outputs": [],
   "source": []
  },
  {
   "cell_type": "code",
   "execution_count": 67,
   "id": "fef87365",
   "metadata": {},
   "outputs": [],
   "source": [
    "middle_name = \"john \"\n",
    "last_name = \"evans\""
   ]
  },
  {
   "cell_type": "code",
   "execution_count": 68,
   "id": "b59716cc",
   "metadata": {},
   "outputs": [],
   "source": [
    "concat = middle_name + last_name"
   ]
  },
  {
   "cell_type": "code",
   "execution_count": 69,
   "id": "d76fa752",
   "metadata": {},
   "outputs": [
    {
     "name": "stdout",
     "output_type": "stream",
     "text": [
      "john evans\n"
     ]
    }
   ],
   "source": [
    "print(concat)"
   ]
  },
  {
   "cell_type": "code",
   "execution_count": null,
   "id": "019283fd",
   "metadata": {},
   "outputs": [],
   "source": []
  },
  {
   "cell_type": "code",
   "execution_count": 70,
   "id": "ddbf970e",
   "metadata": {},
   "outputs": [],
   "source": [
    "first_number = 70\n",
    "last_number = 50"
   ]
  },
  {
   "cell_type": "code",
   "execution_count": 71,
   "id": "941dc9ba",
   "metadata": {},
   "outputs": [],
   "source": [
    "concat = first_number + last_number"
   ]
  },
  {
   "cell_type": "code",
   "execution_count": 72,
   "id": "1d552b5d",
   "metadata": {},
   "outputs": [
    {
     "name": "stdout",
     "output_type": "stream",
     "text": [
      "120\n"
     ]
    }
   ],
   "source": [
    "print(concat)"
   ]
  },
  {
   "cell_type": "code",
   "execution_count": null,
   "id": "bca69d38",
   "metadata": {},
   "outputs": [],
   "source": []
  },
  {
   "cell_type": "code",
   "execution_count": 75,
   "id": "3ee2806a",
   "metadata": {},
   "outputs": [],
   "source": [
    "house_number = \"61\"\n",
    "street_number = 90"
   ]
  },
  {
   "cell_type": "code",
   "execution_count": 76,
   "id": "0d4e9eab",
   "metadata": {},
   "outputs": [
    {
     "name": "stdout",
     "output_type": "stream",
     "text": [
      "<class 'str'>\n"
     ]
    }
   ],
   "source": [
    "print(type(house_number))"
   ]
  },
  {
   "cell_type": "code",
   "execution_count": 77,
   "id": "24b761c5",
   "metadata": {},
   "outputs": [
    {
     "name": "stdout",
     "output_type": "stream",
     "text": [
      "<class 'int'>\n"
     ]
    }
   ],
   "source": [
    "print(type(street_number))"
   ]
  },
  {
   "cell_type": "code",
   "execution_count": 78,
   "id": "99525831",
   "metadata": {},
   "outputs": [],
   "source": [
    "convert_house_number = int(house_number)"
   ]
  },
  {
   "cell_type": "code",
   "execution_count": 80,
   "id": "e6399fc2",
   "metadata": {},
   "outputs": [
    {
     "name": "stdout",
     "output_type": "stream",
     "text": [
      "61\n"
     ]
    }
   ],
   "source": [
    "print(convert_house_number)"
   ]
  },
  {
   "cell_type": "code",
   "execution_count": 81,
   "id": "d2207318",
   "metadata": {},
   "outputs": [
    {
     "name": "stdout",
     "output_type": "stream",
     "text": [
      "<class 'int'>\n"
     ]
    }
   ],
   "source": [
    "print(type(convert_house_number))"
   ]
  },
  {
   "cell_type": "code",
   "execution_count": 85,
   "id": "33e96ab1",
   "metadata": {},
   "outputs": [],
   "source": [
    "concat = convert_house_number / street_number"
   ]
  },
  {
   "cell_type": "code",
   "execution_count": 86,
   "id": "ecbdf776",
   "metadata": {},
   "outputs": [
    {
     "name": "stdout",
     "output_type": "stream",
     "text": [
      "0.6777777777777778\n"
     ]
    }
   ],
   "source": [
    "print(concat)"
   ]
  },
  {
   "cell_type": "code",
   "execution_count": null,
   "id": "ea47ebd2",
   "metadata": {},
   "outputs": [],
   "source": []
  },
  {
   "cell_type": "code",
   "execution_count": 87,
   "id": "bb706350",
   "metadata": {},
   "outputs": [],
   "source": [
    "berlin = \"1920\""
   ]
  },
  {
   "cell_type": "code",
   "execution_count": 94,
   "id": "f48f9b44",
   "metadata": {},
   "outputs": [
    {
     "name": "stdout",
     "output_type": "stream",
     "text": [
      "<class 'str'>\n"
     ]
    }
   ],
   "source": [
    "print(type(berlin))"
   ]
  },
  {
   "cell_type": "code",
   "execution_count": 95,
   "id": "19f37b69",
   "metadata": {},
   "outputs": [],
   "source": [
    "convert_berlin = int(berlin)"
   ]
  },
  {
   "cell_type": "code",
   "execution_count": 104,
   "id": "f8dcd3f6",
   "metadata": {},
   "outputs": [
    {
     "name": "stdout",
     "output_type": "stream",
     "text": [
      "<class 'int'>\n"
     ]
    }
   ],
   "source": [
    "print(type(convert_berlin))"
   ]
  },
  {
   "cell_type": "code",
   "execution_count": 105,
   "id": "348ee5f0",
   "metadata": {},
   "outputs": [
    {
     "name": "stdout",
     "output_type": "stream",
     "text": [
      "1920\n"
     ]
    }
   ],
   "source": [
    "print(convert_berlin)"
   ]
  },
  {
   "cell_type": "code",
   "execution_count": null,
   "id": "c60b10e8",
   "metadata": {},
   "outputs": [],
   "source": []
  },
  {
   "cell_type": "code",
   "execution_count": 106,
   "id": "4921cf8a",
   "metadata": {},
   "outputs": [],
   "source": [
    "fees = 60.6"
   ]
  },
  {
   "cell_type": "code",
   "execution_count": 98,
   "id": "28ae00d3",
   "metadata": {},
   "outputs": [
    {
     "name": "stdout",
     "output_type": "stream",
     "text": [
      "<class 'float'>\n"
     ]
    }
   ],
   "source": [
    "print(type(fees))"
   ]
  },
  {
   "cell_type": "code",
   "execution_count": 101,
   "id": "f8ce9444",
   "metadata": {},
   "outputs": [],
   "source": [
    "convert_fees = int(fees)"
   ]
  },
  {
   "cell_type": "code",
   "execution_count": 102,
   "id": "9b8ba607",
   "metadata": {},
   "outputs": [
    {
     "name": "stdout",
     "output_type": "stream",
     "text": [
      "<class 'int'>\n"
     ]
    }
   ],
   "source": [
    "print(type(convert_fees))"
   ]
  },
  {
   "cell_type": "code",
   "execution_count": 103,
   "id": "ba507ebc",
   "metadata": {},
   "outputs": [
    {
     "name": "stdout",
     "output_type": "stream",
     "text": [
      "60\n"
     ]
    }
   ],
   "source": [
    "print(convert_fees)"
   ]
  },
  {
   "cell_type": "code",
   "execution_count": null,
   "id": "0468e9b3",
   "metadata": {},
   "outputs": [],
   "source": []
  },
  {
   "cell_type": "code",
   "execution_count": 109,
   "id": "8671eb4b",
   "metadata": {},
   "outputs": [],
   "source": [
    "time = \"5.9\""
   ]
  },
  {
   "cell_type": "code",
   "execution_count": 110,
   "id": "caf76a5d",
   "metadata": {},
   "outputs": [
    {
     "name": "stdout",
     "output_type": "stream",
     "text": [
      "<class 'str'>\n"
     ]
    }
   ],
   "source": [
    "print(type(time))"
   ]
  },
  {
   "cell_type": "code",
   "execution_count": 113,
   "id": "54a300c9",
   "metadata": {},
   "outputs": [],
   "source": [
    "convert_time = int(float(time))"
   ]
  },
  {
   "cell_type": "code",
   "execution_count": 114,
   "id": "914c0fac",
   "metadata": {},
   "outputs": [
    {
     "name": "stdout",
     "output_type": "stream",
     "text": [
      "<class 'int'>\n"
     ]
    }
   ],
   "source": [
    "print(type(convert_time))"
   ]
  },
  {
   "cell_type": "code",
   "execution_count": 115,
   "id": "d48cf697",
   "metadata": {},
   "outputs": [
    {
     "name": "stdout",
     "output_type": "stream",
     "text": [
      "5\n"
     ]
    }
   ],
   "source": [
    "print(convert_time)"
   ]
  },
  {
   "cell_type": "code",
   "execution_count": null,
   "id": "71edff87",
   "metadata": {},
   "outputs": [],
   "source": []
  },
  {
   "cell_type": "code",
   "execution_count": null,
   "id": "8366a53e",
   "metadata": {},
   "outputs": [],
   "source": []
  }
 ],
 "metadata": {
  "kernelspec": {
   "display_name": "Python 3 (ipykernel)",
   "language": "python",
   "name": "python3"
  },
  "language_info": {
   "codemirror_mode": {
    "name": "ipython",
    "version": 3
   },
   "file_extension": ".py",
   "mimetype": "text/x-python",
   "name": "python",
   "nbconvert_exporter": "python",
   "pygments_lexer": "ipython3",
   "version": "3.10.4"
  }
 },
 "nbformat": 4,
 "nbformat_minor": 5
}
