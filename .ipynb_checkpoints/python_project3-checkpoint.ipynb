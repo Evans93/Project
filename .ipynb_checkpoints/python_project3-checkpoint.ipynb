{
 "cells": [
  {
   "cell_type": "code",
   "execution_count": 1,
   "id": "c98499b0",
   "metadata": {},
   "outputs": [],
   "source": [
    "x = 40"
   ]
  },
  {
   "cell_type": "code",
   "execution_count": 2,
   "id": "14cce693",
   "metadata": {},
   "outputs": [
    {
     "name": "stdout",
     "output_type": "stream",
     "text": [
      "40\n"
     ]
    }
   ],
   "source": [
    "print(x)"
   ]
  },
  {
   "cell_type": "code",
   "execution_count": 3,
   "id": "0962315b",
   "metadata": {},
   "outputs": [
    {
     "name": "stdout",
     "output_type": "stream",
     "text": [
      "<class 'int'>\n"
     ]
    }
   ],
   "source": [
    "print(type(x))"
   ]
  },
  {
   "cell_type": "code",
   "execution_count": null,
   "id": "1f2d10cd",
   "metadata": {},
   "outputs": [],
   "source": []
  },
  {
   "cell_type": "code",
   "execution_count": 4,
   "id": "7744a2d5",
   "metadata": {},
   "outputs": [],
   "source": [
    "first_name = \"ehis\""
   ]
  },
  {
   "cell_type": "code",
   "execution_count": 5,
   "id": "e3f0097e",
   "metadata": {},
   "outputs": [
    {
     "name": "stdout",
     "output_type": "stream",
     "text": [
      "ehis\n"
     ]
    }
   ],
   "source": [
    "print(first_name)"
   ]
  },
  {
   "cell_type": "code",
   "execution_count": 6,
   "id": "44a3378a",
   "metadata": {},
   "outputs": [
    {
     "name": "stdout",
     "output_type": "stream",
     "text": [
      "<class 'str'>\n"
     ]
    }
   ],
   "source": [
    "print(type(first_name))"
   ]
  },
  {
   "cell_type": "code",
   "execution_count": null,
   "id": "3da0f03d",
   "metadata": {},
   "outputs": [],
   "source": []
  },
  {
   "cell_type": "code",
   "execution_count": 7,
   "id": "653d945a",
   "metadata": {},
   "outputs": [],
   "source": [
    "has_a_car = False"
   ]
  },
  {
   "cell_type": "code",
   "execution_count": 8,
   "id": "1d01ffa4",
   "metadata": {},
   "outputs": [
    {
     "name": "stdout",
     "output_type": "stream",
     "text": [
      "False\n"
     ]
    }
   ],
   "source": [
    "print(has_a_car)"
   ]
  },
  {
   "cell_type": "code",
   "execution_count": 9,
   "id": "49bc4b1a",
   "metadata": {},
   "outputs": [
    {
     "name": "stdout",
     "output_type": "stream",
     "text": [
      "<class 'bool'>\n"
     ]
    }
   ],
   "source": [
    "print(type(has_a_car))"
   ]
  },
  {
   "cell_type": "code",
   "execution_count": null,
   "id": "0f6a46fe",
   "metadata": {},
   "outputs": [],
   "source": []
  },
  {
   "cell_type": "code",
   "execution_count": 10,
   "id": "140a030a",
   "metadata": {},
   "outputs": [],
   "source": [
    "age = 45"
   ]
  },
  {
   "cell_type": "code",
   "execution_count": 11,
   "id": "a9f936b2",
   "metadata": {},
   "outputs": [
    {
     "name": "stdout",
     "output_type": "stream",
     "text": [
      "45\n"
     ]
    }
   ],
   "source": [
    "print(age)"
   ]
  },
  {
   "cell_type": "code",
   "execution_count": 12,
   "id": "2fc9389f",
   "metadata": {},
   "outputs": [
    {
     "name": "stdout",
     "output_type": "stream",
     "text": [
      "<class 'int'>\n"
     ]
    }
   ],
   "source": [
    "print(type(age))"
   ]
  },
  {
   "cell_type": "code",
   "execution_count": null,
   "id": "405c574f",
   "metadata": {},
   "outputs": [],
   "source": []
  },
  {
   "cell_type": "code",
   "execution_count": 13,
   "id": "99e1b510",
   "metadata": {},
   "outputs": [],
   "source": [
    "height = 6.7"
   ]
  },
  {
   "cell_type": "code",
   "execution_count": 16,
   "id": "5302c907",
   "metadata": {},
   "outputs": [
    {
     "name": "stdout",
     "output_type": "stream",
     "text": [
      "6.7\n"
     ]
    }
   ],
   "source": [
    "print(height)"
   ]
  },
  {
   "cell_type": "code",
   "execution_count": 17,
   "id": "8935931c",
   "metadata": {},
   "outputs": [
    {
     "name": "stdout",
     "output_type": "stream",
     "text": [
      "<class 'float'>\n"
     ]
    }
   ],
   "source": [
    "print(type(height ))"
   ]
  },
  {
   "cell_type": "code",
   "execution_count": null,
   "id": "7ff13540",
   "metadata": {},
   "outputs": [],
   "source": []
  },
  {
   "cell_type": "code",
   "execution_count": 18,
   "id": "97ebc928",
   "metadata": {},
   "outputs": [],
   "source": [
    "c = 50"
   ]
  },
  {
   "cell_type": "code",
   "execution_count": 19,
   "id": "55248e73",
   "metadata": {},
   "outputs": [],
   "source": [
    "o = 40"
   ]
  },
  {
   "cell_type": "code",
   "execution_count": 20,
   "id": "d45e8aee",
   "metadata": {},
   "outputs": [
    {
     "name": "stdout",
     "output_type": "stream",
     "text": [
      "90\n"
     ]
    }
   ],
   "source": [
    "print(c + o)"
   ]
  },
  {
   "cell_type": "code",
   "execution_count": 21,
   "id": "8b62994d",
   "metadata": {},
   "outputs": [
    {
     "name": "stdout",
     "output_type": "stream",
     "text": [
      "10\n"
     ]
    }
   ],
   "source": [
    "print(c - o)"
   ]
  },
  {
   "cell_type": "code",
   "execution_count": 22,
   "id": "e72075a5",
   "metadata": {},
   "outputs": [
    {
     "name": "stdout",
     "output_type": "stream",
     "text": [
      "2000\n"
     ]
    }
   ],
   "source": [
    "print(c * o)"
   ]
  },
  {
   "cell_type": "code",
   "execution_count": 23,
   "id": "fd326f35",
   "metadata": {},
   "outputs": [
    {
     "name": "stdout",
     "output_type": "stream",
     "text": [
      "90949470177292823791503906250000000000000000000000000000000000000000\n"
     ]
    }
   ],
   "source": [
    "print(c ** o)"
   ]
  },
  {
   "cell_type": "code",
   "execution_count": 24,
   "id": "746199fd",
   "metadata": {},
   "outputs": [
    {
     "name": "stdout",
     "output_type": "stream",
     "text": [
      "1.25\n"
     ]
    }
   ],
   "source": [
    "print(c / o)"
   ]
  },
  {
   "cell_type": "code",
   "execution_count": 25,
   "id": "7edfed9e",
   "metadata": {},
   "outputs": [
    {
     "name": "stdout",
     "output_type": "stream",
     "text": [
      "1\n"
     ]
    }
   ],
   "source": [
    "print(c // o)"
   ]
  },
  {
   "cell_type": "code",
   "execution_count": 26,
   "id": "0b56c279",
   "metadata": {},
   "outputs": [
    {
     "name": "stdout",
     "output_type": "stream",
     "text": [
      "10\n"
     ]
    }
   ],
   "source": [
    "print(c % o)"
   ]
  },
  {
   "cell_type": "code",
   "execution_count": null,
   "id": "45c5bd45",
   "metadata": {},
   "outputs": [],
   "source": []
  },
  {
   "cell_type": "code",
   "execution_count": 35,
   "id": "43432b90",
   "metadata": {},
   "outputs": [],
   "source": [
    "country = \"Germany\""
   ]
  },
  {
   "cell_type": "code",
   "execution_count": 36,
   "id": "43ea20e5",
   "metadata": {},
   "outputs": [
    {
     "name": "stdout",
     "output_type": "stream",
     "text": [
      "<class 'str'>\n"
     ]
    }
   ],
   "source": [
    "print(type(Country))"
   ]
  },
  {
   "cell_type": "code",
   "execution_count": null,
   "id": "172912b5",
   "metadata": {},
   "outputs": [],
   "source": []
  },
  {
   "cell_type": "code",
   "execution_count": 37,
   "id": "d76b8195",
   "metadata": {},
   "outputs": [],
   "source": [
    "age = 48"
   ]
  },
  {
   "cell_type": "code",
   "execution_count": 38,
   "id": "bd88af1f",
   "metadata": {},
   "outputs": [
    {
     "name": "stdout",
     "output_type": "stream",
     "text": [
      "<class 'int'>\n"
     ]
    }
   ],
   "source": [
    "print(type(age))"
   ]
  },
  {
   "cell_type": "code",
   "execution_count": null,
   "id": "bcd857c9",
   "metadata": {},
   "outputs": [],
   "source": []
  },
  {
   "cell_type": "code",
   "execution_count": 39,
   "id": "1926fe14",
   "metadata": {},
   "outputs": [],
   "source": [
    "price= 40.7"
   ]
  },
  {
   "cell_type": "code",
   "execution_count": 40,
   "id": "4637a2c4",
   "metadata": {},
   "outputs": [
    {
     "name": "stdout",
     "output_type": "stream",
     "text": [
      "<class 'float'>\n"
     ]
    }
   ],
   "source": [
    "print(type(price))"
   ]
  },
  {
   "cell_type": "code",
   "execution_count": null,
   "id": "53e5847e",
   "metadata": {},
   "outputs": [],
   "source": []
  },
  {
   "cell_type": "code",
   "execution_count": 41,
   "id": "a372fbd1",
   "metadata": {},
   "outputs": [],
   "source": [
    "has_a_car = False"
   ]
  },
  {
   "cell_type": "code",
   "execution_count": 42,
   "id": "d80c33e0",
   "metadata": {},
   "outputs": [
    {
     "name": "stdout",
     "output_type": "stream",
     "text": [
      "<class 'bool'>\n"
     ]
    }
   ],
   "source": [
    "print(type(False))"
   ]
  },
  {
   "cell_type": "code",
   "execution_count": null,
   "id": "93f825d1",
   "metadata": {},
   "outputs": [],
   "source": []
  },
  {
   "cell_type": "code",
   "execution_count": 43,
   "id": "c700d021",
   "metadata": {},
   "outputs": [],
   "source": [
    "x = 40.8"
   ]
  },
  {
   "cell_type": "code",
   "execution_count": 44,
   "id": "c2d679f9",
   "metadata": {},
   "outputs": [
    {
     "name": "stdout",
     "output_type": "stream",
     "text": [
      "41\n"
     ]
    }
   ],
   "source": [
    "print(round(x))"
   ]
  },
  {
   "cell_type": "code",
   "execution_count": null,
   "id": "ec2c3763",
   "metadata": {},
   "outputs": [],
   "source": []
  },
  {
   "cell_type": "code",
   "execution_count": 45,
   "id": "cf8b61f2",
   "metadata": {},
   "outputs": [],
   "source": [
    "number_1 = 30\n",
    "number_2 = 20"
   ]
  },
  {
   "cell_type": "code",
   "execution_count": 46,
   "id": "4cfd4c51",
   "metadata": {},
   "outputs": [],
   "source": [
    "Result = round(number_1 / number_2)"
   ]
  },
  {
   "cell_type": "code",
   "execution_count": 48,
   "id": "4ba7180c",
   "metadata": {},
   "outputs": [
    {
     "name": "stdout",
     "output_type": "stream",
     "text": [
      "2\n"
     ]
    }
   ],
   "source": [
    "print(Result)"
   ]
  },
  {
   "cell_type": "code",
   "execution_count": null,
   "id": "d29c2531",
   "metadata": {},
   "outputs": [],
   "source": []
  },
  {
   "cell_type": "code",
   "execution_count": 51,
   "id": "e741d8e6",
   "metadata": {},
   "outputs": [],
   "source": [
    "v = \"67\""
   ]
  },
  {
   "cell_type": "code",
   "execution_count": 52,
   "id": "e7a32578",
   "metadata": {},
   "outputs": [
    {
     "name": "stdout",
     "output_type": "stream",
     "text": [
      "67\n"
     ]
    }
   ],
   "source": [
    "print(v)"
   ]
  },
  {
   "cell_type": "code",
   "execution_count": 53,
   "id": "1531b0b5",
   "metadata": {},
   "outputs": [
    {
     "name": "stdout",
     "output_type": "stream",
     "text": [
      "<class 'str'>\n"
     ]
    }
   ],
   "source": [
    "print(type(v))"
   ]
  },
  {
   "cell_type": "code",
   "execution_count": 54,
   "id": "d7f03412",
   "metadata": {},
   "outputs": [],
   "source": [
    "convert_v = int(v)"
   ]
  },
  {
   "cell_type": "code",
   "execution_count": 55,
   "id": "88070e5f",
   "metadata": {},
   "outputs": [
    {
     "name": "stdout",
     "output_type": "stream",
     "text": [
      "67\n"
     ]
    }
   ],
   "source": [
    "print(convert_v)"
   ]
  },
  {
   "cell_type": "code",
   "execution_count": 57,
   "id": "46436e5e",
   "metadata": {},
   "outputs": [
    {
     "name": "stdout",
     "output_type": "stream",
     "text": [
      "<class 'int'>\n"
     ]
    }
   ],
   "source": [
    "print(type(convert_v))"
   ]
  },
  {
   "cell_type": "code",
   "execution_count": null,
   "id": "bd4a91b2",
   "metadata": {},
   "outputs": [],
   "source": []
  },
  {
   "cell_type": "code",
   "execution_count": 58,
   "id": "652a55d6",
   "metadata": {},
   "outputs": [],
   "source": [
    "f = 80"
   ]
  },
  {
   "cell_type": "code",
   "execution_count": 59,
   "id": "e5cab4d1",
   "metadata": {},
   "outputs": [
    {
     "name": "stdout",
     "output_type": "stream",
     "text": [
      "<class 'int'>\n"
     ]
    }
   ],
   "source": [
    "print(type(f))"
   ]
  },
  {
   "cell_type": "code",
   "execution_count": 60,
   "id": "ad9e362d",
   "metadata": {},
   "outputs": [],
   "source": [
    "convert_f = float(f)"
   ]
  },
  {
   "cell_type": "code",
   "execution_count": 61,
   "id": "bfbed793",
   "metadata": {},
   "outputs": [
    {
     "name": "stdout",
     "output_type": "stream",
     "text": [
      "80.0\n"
     ]
    }
   ],
   "source": [
    "print(convert_f)"
   ]
  },
  {
   "cell_type": "code",
   "execution_count": 62,
   "id": "fcd1cf66",
   "metadata": {},
   "outputs": [
    {
     "name": "stdout",
     "output_type": "stream",
     "text": [
      "<class 'float'>\n"
     ]
    }
   ],
   "source": [
    "print(type(convert_f))"
   ]
  },
  {
   "cell_type": "code",
   "execution_count": null,
   "id": "c6416cf1",
   "metadata": {},
   "outputs": [],
   "source": []
  },
  {
   "cell_type": "code",
   "execution_count": 63,
   "id": "ceaefe28",
   "metadata": {},
   "outputs": [],
   "source": [
    "u = 70.8"
   ]
  },
  {
   "cell_type": "code",
   "execution_count": 64,
   "id": "8c191277",
   "metadata": {},
   "outputs": [
    {
     "name": "stdout",
     "output_type": "stream",
     "text": [
      "<class 'float'>\n"
     ]
    }
   ],
   "source": [
    "print(type(u))"
   ]
  },
  {
   "cell_type": "code",
   "execution_count": 65,
   "id": "9ade4cf0",
   "metadata": {},
   "outputs": [],
   "source": [
    "convert_u = int(u)"
   ]
  },
  {
   "cell_type": "code",
   "execution_count": 66,
   "id": "05d54348",
   "metadata": {},
   "outputs": [
    {
     "name": "stdout",
     "output_type": "stream",
     "text": [
      "70\n"
     ]
    }
   ],
   "source": [
    "print(convert_u)"
   ]
  },
  {
   "cell_type": "code",
   "execution_count": 67,
   "id": "916a5278",
   "metadata": {},
   "outputs": [
    {
     "name": "stdout",
     "output_type": "stream",
     "text": [
      "<class 'int'>\n"
     ]
    }
   ],
   "source": [
    "print(type(convert_u))"
   ]
  },
  {
   "cell_type": "code",
   "execution_count": null,
   "id": "e4e19935",
   "metadata": {},
   "outputs": [],
   "source": []
  },
  {
   "cell_type": "code",
   "execution_count": 68,
   "id": "9fa5e528",
   "metadata": {},
   "outputs": [],
   "source": [
    "j = \"50.3\""
   ]
  },
  {
   "cell_type": "code",
   "execution_count": 69,
   "id": "3fea317e",
   "metadata": {},
   "outputs": [
    {
     "name": "stdout",
     "output_type": "stream",
     "text": [
      "<class 'str'>\n"
     ]
    }
   ],
   "source": [
    "print(type(j))"
   ]
  },
  {
   "cell_type": "code",
   "execution_count": 70,
   "id": "ae365685",
   "metadata": {},
   "outputs": [],
   "source": [
    "convert_j = int(float(j))"
   ]
  },
  {
   "cell_type": "code",
   "execution_count": 71,
   "id": "7196946c",
   "metadata": {},
   "outputs": [
    {
     "name": "stdout",
     "output_type": "stream",
     "text": [
      "<class 'int'>\n"
     ]
    }
   ],
   "source": [
    "print(type(convert_j))"
   ]
  },
  {
   "cell_type": "code",
   "execution_count": null,
   "id": "77d66d86",
   "metadata": {},
   "outputs": [],
   "source": []
  },
  {
   "cell_type": "code",
   "execution_count": 73,
   "id": "f7708262",
   "metadata": {},
   "outputs": [],
   "source": [
    "mothers_name = \"ronke \"\n",
    "fathers_name = \"evans\""
   ]
  },
  {
   "cell_type": "code",
   "execution_count": 74,
   "id": "df9f7aa4",
   "metadata": {},
   "outputs": [],
   "source": [
    "concat = mothers_name + fathers_name"
   ]
  },
  {
   "cell_type": "code",
   "execution_count": 75,
   "id": "aab3c41f",
   "metadata": {},
   "outputs": [
    {
     "name": "stdout",
     "output_type": "stream",
     "text": [
      "ronke evans\n"
     ]
    }
   ],
   "source": [
    "print(concat)"
   ]
  },
  {
   "cell_type": "code",
   "execution_count": null,
   "id": "6f8d47d5",
   "metadata": {},
   "outputs": [],
   "source": []
  },
  {
   "cell_type": "code",
   "execution_count": 79,
   "id": "0ae240f3",
   "metadata": {},
   "outputs": [],
   "source": [
    "my_age = 47"
   ]
  },
  {
   "cell_type": "code",
   "execution_count": 80,
   "id": "984bb82b",
   "metadata": {},
   "outputs": [
    {
     "name": "stdout",
     "output_type": "stream",
     "text": [
      "48\n"
     ]
    }
   ],
   "source": [
    "print(age)"
   ]
  },
  {
   "cell_type": "code",
   "execution_count": 82,
   "id": "6f8ed3be",
   "metadata": {},
   "outputs": [
    {
     "name": "stdout",
     "output_type": "stream",
     "text": [
      "my age is 47 years old\n"
     ]
    }
   ],
   "source": [
    "print(f\"my age is {my_age} years old\")"
   ]
  },
  {
   "cell_type": "code",
   "execution_count": null,
   "id": "ee9ef4eb",
   "metadata": {},
   "outputs": [],
   "source": []
  },
  {
   "cell_type": "code",
   "execution_count": 83,
   "id": "0c884256",
   "metadata": {},
   "outputs": [],
   "source": [
    "name =\"evans\""
   ]
  },
  {
   "cell_type": "code",
   "execution_count": 84,
   "id": "db1a509b",
   "metadata": {},
   "outputs": [
    {
     "name": "stdout",
     "output_type": "stream",
     "text": [
      "evans\n"
     ]
    }
   ],
   "source": [
    "print(name.lower())"
   ]
  },
  {
   "cell_type": "code",
   "execution_count": 85,
   "id": "1ecc262e",
   "metadata": {},
   "outputs": [
    {
     "name": "stdout",
     "output_type": "stream",
     "text": [
      "EVANS\n"
     ]
    }
   ],
   "source": [
    "print(name.upper())"
   ]
  },
  {
   "cell_type": "code",
   "execution_count": null,
   "id": "3eef2fc2",
   "metadata": {},
   "outputs": [],
   "source": []
  },
  {
   "cell_type": "code",
   "execution_count": 88,
   "id": "0e7084c7",
   "metadata": {},
   "outputs": [],
   "source": [
    "import random"
   ]
  },
  {
   "cell_type": "code",
   "execution_count": 91,
   "id": "f011963f",
   "metadata": {},
   "outputs": [],
   "source": [
    "random_number = random.randint(100, 2000)"
   ]
  },
  {
   "cell_type": "code",
   "execution_count": 92,
   "id": "156a3c4a",
   "metadata": {},
   "outputs": [
    {
     "name": "stdout",
     "output_type": "stream",
     "text": [
      "838\n"
     ]
    }
   ],
   "source": [
    "print(random_number)"
   ]
  },
  {
   "cell_type": "code",
   "execution_count": null,
   "id": "44f1a841",
   "metadata": {},
   "outputs": [],
   "source": []
  },
  {
   "cell_type": "code",
   "execution_count": 93,
   "id": "eda547fd",
   "metadata": {},
   "outputs": [
    {
     "name": "stdout",
     "output_type": "stream",
     "text": [
      "what do you do for a living:         student\n",
      "What’s your first name:           ehis\n",
      "middle name:            john\n",
      "What’s your last name:           evans\n",
      "are you married:        no\n"
     ]
    }
   ],
   "source": [
    "Occupation = input(\"what do you do for a living:         \")\n",
    "first_name = input(\"What’s your first name:           \")\n",
    "middle_name = input(\"middle name:            \")\n",
    "last_name = input(\"What’s your last name:           \")\n",
    "married_status = input(\"are you married:        \")"
   ]
  },
  {
   "cell_type": "code",
   "execution_count": null,
   "id": "7fe10c83",
   "metadata": {},
   "outputs": [],
   "source": []
  }
 ],
 "metadata": {
  "kernelspec": {
   "display_name": "Python 3 (ipykernel)",
   "language": "python",
   "name": "python3"
  },
  "language_info": {
   "codemirror_mode": {
    "name": "ipython",
    "version": 3
   },
   "file_extension": ".py",
   "mimetype": "text/x-python",
   "name": "python",
   "nbconvert_exporter": "python",
   "pygments_lexer": "ipython3",
   "version": "3.10.4"
  }
 },
 "nbformat": 4,
 "nbformat_minor": 5
}
