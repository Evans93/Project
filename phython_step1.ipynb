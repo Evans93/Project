{
 "cells": [
  {
   "cell_type": "code",
   "execution_count": 1,
   "id": "ae49cabf",
   "metadata": {},
   "outputs": [],
   "source": [
    "s = 10 "
   ]
  },
  {
   "cell_type": "code",
   "execution_count": 2,
   "id": "879ed7ef",
   "metadata": {},
   "outputs": [
    {
     "name": "stdout",
     "output_type": "stream",
     "text": [
      "10\n"
     ]
    }
   ],
   "source": [
    "print(s)"
   ]
  },
  {
   "cell_type": "code",
   "execution_count": 3,
   "id": "35fc9099",
   "metadata": {},
   "outputs": [],
   "source": [
    "name = \"Evans\""
   ]
  },
  {
   "cell_type": "code",
   "execution_count": 4,
   "id": "18b9d5bf",
   "metadata": {},
   "outputs": [
    {
     "name": "stdout",
     "output_type": "stream",
     "text": [
      "Evans\n"
     ]
    }
   ],
   "source": [
    "print(name)"
   ]
  },
  {
   "cell_type": "code",
   "execution_count": 5,
   "id": "0c0d877b",
   "metadata": {},
   "outputs": [
    {
     "name": "stdout",
     "output_type": "stream",
     "text": [
      "<class 'str'>\n"
     ]
    }
   ],
   "source": [
    "print(type(name))"
   ]
  },
  {
   "cell_type": "code",
   "execution_count": null,
   "id": "83268b94",
   "metadata": {},
   "outputs": [],
   "source": []
  },
  {
   "cell_type": "code",
   "execution_count": 7,
   "id": "bc2ac368",
   "metadata": {},
   "outputs": [],
   "source": [
    "first_name = 'Ehis'"
   ]
  },
  {
   "cell_type": "code",
   "execution_count": 8,
   "id": "616c34ca",
   "metadata": {},
   "outputs": [
    {
     "name": "stdout",
     "output_type": "stream",
     "text": [
      "Ehis\n"
     ]
    }
   ],
   "source": [
    "print(first_name)"
   ]
  },
  {
   "cell_type": "code",
   "execution_count": 10,
   "id": "dd78d26e",
   "metadata": {},
   "outputs": [
    {
     "name": "stdout",
     "output_type": "stream",
     "text": [
      "<class 'str'>\n"
     ]
    }
   ],
   "source": [
    "print(type(first_name))"
   ]
  },
  {
   "cell_type": "code",
   "execution_count": null,
   "id": "f3d537ba",
   "metadata": {},
   "outputs": [],
   "source": []
  },
  {
   "cell_type": "code",
   "execution_count": 11,
   "id": "ee42ea5c",
   "metadata": {},
   "outputs": [],
   "source": [
    "has_car = True"
   ]
  },
  {
   "cell_type": "code",
   "execution_count": 12,
   "id": "1a0281c9",
   "metadata": {},
   "outputs": [
    {
     "name": "stdout",
     "output_type": "stream",
     "text": [
      "True\n"
     ]
    }
   ],
   "source": [
    "print(has_car)"
   ]
  },
  {
   "cell_type": "code",
   "execution_count": 13,
   "id": "f5a205e6",
   "metadata": {},
   "outputs": [
    {
     "name": "stdout",
     "output_type": "stream",
     "text": [
      "<class 'bool'>\n"
     ]
    }
   ],
   "source": [
    "print(type(has_car))"
   ]
  },
  {
   "cell_type": "code",
   "execution_count": null,
   "id": "26186ddf",
   "metadata": {},
   "outputs": [],
   "source": []
  },
  {
   "cell_type": "code",
   "execution_count": 14,
   "id": "dc70a31f",
   "metadata": {},
   "outputs": [],
   "source": [
    "Height = 6.3"
   ]
  },
  {
   "cell_type": "code",
   "execution_count": 15,
   "id": "a61fc85b",
   "metadata": {},
   "outputs": [
    {
     "name": "stdout",
     "output_type": "stream",
     "text": [
      "6.3\n"
     ]
    }
   ],
   "source": [
    "print(Height )"
   ]
  },
  {
   "cell_type": "code",
   "execution_count": 16,
   "id": "8a9df81e",
   "metadata": {},
   "outputs": [
    {
     "name": "stdout",
     "output_type": "stream",
     "text": [
      "<class 'float'>\n"
     ]
    }
   ],
   "source": [
    "print(type(Height ))"
   ]
  },
  {
   "cell_type": "code",
   "execution_count": null,
   "id": "efa98715",
   "metadata": {},
   "outputs": [],
   "source": []
  },
  {
   "cell_type": "code",
   "execution_count": 17,
   "id": "0c4ae5b9",
   "metadata": {},
   "outputs": [],
   "source": [
    "x = 22"
   ]
  },
  {
   "cell_type": "code",
   "execution_count": 18,
   "id": "4fe9f525",
   "metadata": {},
   "outputs": [],
   "source": [
    "y = 30"
   ]
  },
  {
   "cell_type": "code",
   "execution_count": 19,
   "id": "360dfdab",
   "metadata": {},
   "outputs": [
    {
     "name": "stdout",
     "output_type": "stream",
     "text": [
      "52\n"
     ]
    }
   ],
   "source": [
    "print(x + y)"
   ]
  },
  {
   "cell_type": "code",
   "execution_count": null,
   "id": "c6ceb20c",
   "metadata": {},
   "outputs": [],
   "source": []
  },
  {
   "cell_type": "code",
   "execution_count": 20,
   "id": "9a487668",
   "metadata": {},
   "outputs": [],
   "source": [
    "a = 10"
   ]
  },
  {
   "cell_type": "code",
   "execution_count": 21,
   "id": "c09289cf",
   "metadata": {},
   "outputs": [],
   "source": [
    "c = 80"
   ]
  },
  {
   "cell_type": "code",
   "execution_count": 22,
   "id": "cfce80b5",
   "metadata": {},
   "outputs": [
    {
     "name": "stdout",
     "output_type": "stream",
     "text": [
      "90\n"
     ]
    }
   ],
   "source": [
    "print(a + 80)"
   ]
  },
  {
   "cell_type": "code",
   "execution_count": null,
   "id": "1d6ae837",
   "metadata": {},
   "outputs": [],
   "source": []
  },
  {
   "cell_type": "code",
   "execution_count": 23,
   "id": "6eba1795",
   "metadata": {},
   "outputs": [],
   "source": [
    "w = 25"
   ]
  },
  {
   "cell_type": "code",
   "execution_count": 26,
   "id": "f2298cef",
   "metadata": {},
   "outputs": [],
   "source": [
    "k = 10"
   ]
  },
  {
   "cell_type": "code",
   "execution_count": 27,
   "id": "95f0d223",
   "metadata": {},
   "outputs": [
    {
     "name": "stdout",
     "output_type": "stream",
     "text": [
      "15\n"
     ]
    }
   ],
   "source": [
    "print(w - k)"
   ]
  },
  {
   "cell_type": "code",
   "execution_count": null,
   "id": "0a485418",
   "metadata": {},
   "outputs": [],
   "source": []
  },
  {
   "cell_type": "code",
   "execution_count": 28,
   "id": "6b6a4460",
   "metadata": {},
   "outputs": [],
   "source": [
    "n = 5"
   ]
  },
  {
   "cell_type": "code",
   "execution_count": 29,
   "id": "7f2ab75d",
   "metadata": {},
   "outputs": [],
   "source": [
    "p = 3"
   ]
  },
  {
   "cell_type": "code",
   "execution_count": 30,
   "id": "4d55fbe2",
   "metadata": {},
   "outputs": [
    {
     "name": "stdout",
     "output_type": "stream",
     "text": [
      "15\n"
     ]
    }
   ],
   "source": [
    "print(n * p)"
   ]
  },
  {
   "cell_type": "code",
   "execution_count": null,
   "id": "bdafa55f",
   "metadata": {},
   "outputs": [],
   "source": []
  },
  {
   "cell_type": "code",
   "execution_count": 31,
   "id": "fdc1252a",
   "metadata": {},
   "outputs": [],
   "source": [
    "m = 10"
   ]
  },
  {
   "cell_type": "code",
   "execution_count": 32,
   "id": "00f3da7d",
   "metadata": {},
   "outputs": [],
   "source": [
    "e = 5"
   ]
  },
  {
   "cell_type": "code",
   "execution_count": 33,
   "id": "45a49b99",
   "metadata": {},
   "outputs": [
    {
     "name": "stdout",
     "output_type": "stream",
     "text": [
      "100000\n"
     ]
    }
   ],
   "source": [
    "print(m ** e)"
   ]
  },
  {
   "cell_type": "code",
   "execution_count": null,
   "id": "fad1b5c0",
   "metadata": {},
   "outputs": [],
   "source": []
  },
  {
   "cell_type": "code",
   "execution_count": 34,
   "id": "e500979f",
   "metadata": {},
   "outputs": [],
   "source": [
    "d = 90"
   ]
  },
  {
   "cell_type": "code",
   "execution_count": 35,
   "id": "51075128",
   "metadata": {},
   "outputs": [],
   "source": [
    "u = 30"
   ]
  },
  {
   "cell_type": "code",
   "execution_count": 36,
   "id": "7ba0a1a7",
   "metadata": {},
   "outputs": [
    {
     "name": "stdout",
     "output_type": "stream",
     "text": [
      "3.0\n"
     ]
    }
   ],
   "source": [
    "print(d / u)"
   ]
  },
  {
   "cell_type": "code",
   "execution_count": null,
   "id": "5b078502",
   "metadata": {},
   "outputs": [],
   "source": []
  },
  {
   "cell_type": "code",
   "execution_count": 37,
   "id": "f60dce19",
   "metadata": {},
   "outputs": [
    {
     "name": "stdout",
     "output_type": "stream",
     "text": [
      "3\n"
     ]
    }
   ],
   "source": [
    "print(d // u)"
   ]
  },
  {
   "cell_type": "code",
   "execution_count": null,
   "id": "aa380244",
   "metadata": {},
   "outputs": [],
   "source": []
  },
  {
   "cell_type": "code",
   "execution_count": 38,
   "id": "4eef6787",
   "metadata": {},
   "outputs": [],
   "source": [
    "f = 15"
   ]
  },
  {
   "cell_type": "code",
   "execution_count": 39,
   "id": "9f9551ef",
   "metadata": {},
   "outputs": [],
   "source": [
    "i = 5"
   ]
  },
  {
   "cell_type": "code",
   "execution_count": 40,
   "id": "9fd0a2be",
   "metadata": {},
   "outputs": [
    {
     "name": "stdout",
     "output_type": "stream",
     "text": [
      "0\n"
     ]
    }
   ],
   "source": [
    "print(f % i)"
   ]
  },
  {
   "cell_type": "code",
   "execution_count": null,
   "id": "101401b3",
   "metadata": {},
   "outputs": [],
   "source": []
  },
  {
   "cell_type": "code",
   "execution_count": 41,
   "id": "3213bc34",
   "metadata": {},
   "outputs": [],
   "source": [
    "city = \"lagos\""
   ]
  },
  {
   "cell_type": "code",
   "execution_count": 42,
   "id": "0f589840",
   "metadata": {},
   "outputs": [
    {
     "name": "stdout",
     "output_type": "stream",
     "text": [
      "<class 'str'>\n"
     ]
    }
   ],
   "source": [
    "print(type(city))"
   ]
  },
  {
   "cell_type": "code",
   "execution_count": null,
   "id": "e852194d",
   "metadata": {},
   "outputs": [],
   "source": []
  },
  {
   "cell_type": "code",
   "execution_count": 43,
   "id": "9c391756",
   "metadata": {},
   "outputs": [],
   "source": [
    "age = 30"
   ]
  },
  {
   "cell_type": "code",
   "execution_count": 44,
   "id": "f3258512",
   "metadata": {},
   "outputs": [
    {
     "name": "stdout",
     "output_type": "stream",
     "text": [
      "<class 'int'>\n"
     ]
    }
   ],
   "source": [
    "print(type(age))"
   ]
  },
  {
   "cell_type": "code",
   "execution_count": null,
   "id": "34db6b9b",
   "metadata": {},
   "outputs": [],
   "source": []
  },
  {
   "cell_type": "code",
   "execution_count": 47,
   "id": "cb3c0384",
   "metadata": {},
   "outputs": [],
   "source": [
    "price = 100.6"
   ]
  },
  {
   "cell_type": "code",
   "execution_count": 48,
   "id": "415d6c59",
   "metadata": {},
   "outputs": [
    {
     "name": "stdout",
     "output_type": "stream",
     "text": [
      "<class 'float'>\n"
     ]
    }
   ],
   "source": [
    "print(type(price))"
   ]
  },
  {
   "cell_type": "code",
   "execution_count": null,
   "id": "17948006",
   "metadata": {},
   "outputs": [],
   "source": []
  },
  {
   "cell_type": "code",
   "execution_count": 49,
   "id": "2280bd2b",
   "metadata": {},
   "outputs": [],
   "source": [
    "has_a_job = False"
   ]
  },
  {
   "cell_type": "code",
   "execution_count": 50,
   "id": "ebc868e7",
   "metadata": {},
   "outputs": [
    {
     "name": "stdout",
     "output_type": "stream",
     "text": [
      "<class 'bool'>\n"
     ]
    }
   ],
   "source": [
    "print(type(has_a_job))"
   ]
  },
  {
   "cell_type": "code",
   "execution_count": null,
   "id": "311b6070",
   "metadata": {},
   "outputs": [],
   "source": []
  },
  {
   "cell_type": "code",
   "execution_count": 51,
   "id": "3015f22f",
   "metadata": {},
   "outputs": [],
   "source": [
    "Z = 30.6"
   ]
  },
  {
   "cell_type": "code",
   "execution_count": 53,
   "id": "fb477b29",
   "metadata": {},
   "outputs": [
    {
     "name": "stdout",
     "output_type": "stream",
     "text": [
      "31\n"
     ]
    }
   ],
   "source": [
    "print(round(Z))"
   ]
  },
  {
   "cell_type": "code",
   "execution_count": null,
   "id": "5bdb3545",
   "metadata": {},
   "outputs": [],
   "source": []
  },
  {
   "cell_type": "code",
   "execution_count": 56,
   "id": "aa314b86",
   "metadata": {},
   "outputs": [],
   "source": [
    "first_number = 10\n",
    "second_number = 5"
   ]
  },
  {
   "cell_type": "code",
   "execution_count": 63,
   "id": "f3ef9c8e",
   "metadata": {},
   "outputs": [],
   "source": [
    "Result = round(first_number / second_number)"
   ]
  },
  {
   "cell_type": "code",
   "execution_count": 65,
   "id": "24ca86c8",
   "metadata": {},
   "outputs": [
    {
     "name": "stdout",
     "output_type": "stream",
     "text": [
      "2\n"
     ]
    }
   ],
   "source": [
    "print(Result)"
   ]
  },
  {
   "cell_type": "code",
   "execution_count": null,
   "id": "16da886c",
   "metadata": {},
   "outputs": [],
   "source": []
  },
  {
   "cell_type": "code",
   "execution_count": 66,
   "id": "abadf285",
   "metadata": {},
   "outputs": [],
   "source": [
    "f = \"35\""
   ]
  },
  {
   "cell_type": "code",
   "execution_count": 67,
   "id": "23494715",
   "metadata": {},
   "outputs": [
    {
     "name": "stdout",
     "output_type": "stream",
     "text": [
      "35\n"
     ]
    }
   ],
   "source": [
    "print(f)"
   ]
  },
  {
   "cell_type": "code",
   "execution_count": 68,
   "id": "3e8f9a42",
   "metadata": {},
   "outputs": [
    {
     "name": "stdout",
     "output_type": "stream",
     "text": [
      "<class 'str'>\n"
     ]
    }
   ],
   "source": [
    "print(type(f))"
   ]
  },
  {
   "cell_type": "code",
   "execution_count": 69,
   "id": "a6f32316",
   "metadata": {},
   "outputs": [],
   "source": [
    "convert_f = int(f)"
   ]
  },
  {
   "cell_type": "code",
   "execution_count": 70,
   "id": "aed1f338",
   "metadata": {},
   "outputs": [
    {
     "name": "stdout",
     "output_type": "stream",
     "text": [
      "<class 'int'>\n"
     ]
    }
   ],
   "source": [
    "print(type(convert_f))"
   ]
  },
  {
   "cell_type": "code",
   "execution_count": null,
   "id": "4ff4b210",
   "metadata": {},
   "outputs": [],
   "source": []
  },
  {
   "cell_type": "code",
   "execution_count": 71,
   "id": "ed8c18c8",
   "metadata": {},
   "outputs": [
    {
     "name": "stdout",
     "output_type": "stream",
     "text": [
      "<class 'int'>\n"
     ]
    }
   ],
   "source": [
    "t = 6\n",
    "print(type(t))"
   ]
  },
  {
   "cell_type": "code",
   "execution_count": 72,
   "id": "73ee71aa",
   "metadata": {},
   "outputs": [],
   "source": [
    "convert_t = float(t)"
   ]
  },
  {
   "cell_type": "code",
   "execution_count": 73,
   "id": "b715adc3",
   "metadata": {},
   "outputs": [
    {
     "name": "stdout",
     "output_type": "stream",
     "text": [
      "<class 'float'>\n"
     ]
    }
   ],
   "source": [
    "print(type(convert_t))"
   ]
  },
  {
   "cell_type": "code",
   "execution_count": 74,
   "id": "68feb8f9",
   "metadata": {},
   "outputs": [
    {
     "name": "stdout",
     "output_type": "stream",
     "text": [
      "6.0\n"
     ]
    }
   ],
   "source": [
    "print(convert_t)"
   ]
  },
  {
   "cell_type": "code",
   "execution_count": null,
   "id": "3a4b35f6",
   "metadata": {},
   "outputs": [],
   "source": []
  },
  {
   "cell_type": "code",
   "execution_count": 75,
   "id": "6c25eacb",
   "metadata": {},
   "outputs": [],
   "source": [
    "k = \"3.5\""
   ]
  },
  {
   "cell_type": "code",
   "execution_count": 76,
   "id": "1b5c3d0e",
   "metadata": {},
   "outputs": [
    {
     "name": "stdout",
     "output_type": "stream",
     "text": [
      "<class 'str'>\n"
     ]
    }
   ],
   "source": [
    "print(type(k))"
   ]
  },
  {
   "cell_type": "code",
   "execution_count": 77,
   "id": "838fab7b",
   "metadata": {},
   "outputs": [],
   "source": [
    "convert_k = int(float(k))"
   ]
  },
  {
   "cell_type": "code",
   "execution_count": 78,
   "id": "306b3007",
   "metadata": {},
   "outputs": [
    {
     "name": "stdout",
     "output_type": "stream",
     "text": [
      "3\n"
     ]
    }
   ],
   "source": [
    "print(convert_k)"
   ]
  },
  {
   "cell_type": "code",
   "execution_count": null,
   "id": "dea5f1dc",
   "metadata": {},
   "outputs": [],
   "source": []
  },
  {
   "cell_type": "code",
   "execution_count": 81,
   "id": "9e37b871",
   "metadata": {},
   "outputs": [],
   "source": [
    "first_name = \"Ehis \"\n",
    "last_name = \"Evans\""
   ]
  },
  {
   "cell_type": "code",
   "execution_count": 82,
   "id": "c1b90ca7",
   "metadata": {},
   "outputs": [],
   "source": [
    "concat = first_name + last_name"
   ]
  },
  {
   "cell_type": "code",
   "execution_count": 83,
   "id": "4f1d5462",
   "metadata": {},
   "outputs": [
    {
     "name": "stdout",
     "output_type": "stream",
     "text": [
      "Ehis Evans\n"
     ]
    }
   ],
   "source": [
    "print(concat)"
   ]
  },
  {
   "cell_type": "code",
   "execution_count": null,
   "id": "cec5066a",
   "metadata": {},
   "outputs": [],
   "source": []
  },
  {
   "cell_type": "code",
   "execution_count": 84,
   "id": "f51c68e8",
   "metadata": {},
   "outputs": [],
   "source": [
    "d = \"6\"\n",
    "l = \"9\""
   ]
  },
  {
   "cell_type": "code",
   "execution_count": 85,
   "id": "9093415f",
   "metadata": {},
   "outputs": [
    {
     "name": "stdout",
     "output_type": "stream",
     "text": [
      "69\n"
     ]
    }
   ],
   "source": [
    "print(d + l)"
   ]
  },
  {
   "cell_type": "code",
   "execution_count": 86,
   "id": "9a0af00e",
   "metadata": {},
   "outputs": [],
   "source": [
    "concat = d + l"
   ]
  },
  {
   "cell_type": "code",
   "execution_count": 87,
   "id": "6238fc96",
   "metadata": {},
   "outputs": [
    {
     "name": "stdout",
     "output_type": "stream",
     "text": [
      "69\n"
     ]
    }
   ],
   "source": [
    "print(concat)"
   ]
  },
  {
   "cell_type": "code",
   "execution_count": null,
   "id": "59bacf44",
   "metadata": {},
   "outputs": [],
   "source": []
  },
  {
   "cell_type": "code",
   "execution_count": 88,
   "id": "bd9a2179",
   "metadata": {},
   "outputs": [],
   "source": [
    "my_age =31"
   ]
  },
  {
   "cell_type": "code",
   "execution_count": 89,
   "id": "3e4ed489",
   "metadata": {},
   "outputs": [
    {
     "name": "stdout",
     "output_type": "stream",
     "text": [
      "31\n"
     ]
    }
   ],
   "source": [
    "print(my_age)"
   ]
  },
  {
   "cell_type": "code",
   "execution_count": 90,
   "id": "b27edc12",
   "metadata": {},
   "outputs": [
    {
     "name": "stdout",
     "output_type": "stream",
     "text": [
      "my age is 31 years old\n"
     ]
    }
   ],
   "source": [
    "print(f\"my age is {my_age} years old\")"
   ]
  },
  {
   "cell_type": "code",
   "execution_count": null,
   "id": "e4e23cdf",
   "metadata": {},
   "outputs": [],
   "source": []
  },
  {
   "cell_type": "code",
   "execution_count": 91,
   "id": "4ef93b00",
   "metadata": {},
   "outputs": [
    {
     "name": "stdout",
     "output_type": "stream",
     "text": [
      "how are you doing\n"
     ]
    }
   ],
   "source": [
    "print(f\"how are you doing\")"
   ]
  },
  {
   "cell_type": "code",
   "execution_count": null,
   "id": "4263a94b",
   "metadata": {},
   "outputs": [],
   "source": []
  },
  {
   "cell_type": "code",
   "execution_count": 92,
   "id": "5a8ff774",
   "metadata": {},
   "outputs": [],
   "source": [
    "name = \"ehis\""
   ]
  },
  {
   "cell_type": "code",
   "execution_count": 94,
   "id": "19bdd5ac",
   "metadata": {},
   "outputs": [
    {
     "name": "stdout",
     "output_type": "stream",
     "text": [
      "ehis\n"
     ]
    }
   ],
   "source": [
    "print(name.lower())"
   ]
  },
  {
   "cell_type": "code",
   "execution_count": 95,
   "id": "8fdc9ade",
   "metadata": {},
   "outputs": [
    {
     "name": "stdout",
     "output_type": "stream",
     "text": [
      "EHIS\n"
     ]
    }
   ],
   "source": [
    "print(name.upper())"
   ]
  },
  {
   "cell_type": "code",
   "execution_count": null,
   "id": "16fb85f3",
   "metadata": {},
   "outputs": [],
   "source": []
  },
  {
   "cell_type": "code",
   "execution_count": 96,
   "id": "a86d6939",
   "metadata": {},
   "outputs": [],
   "source": [
    "import random"
   ]
  },
  {
   "cell_type": "code",
   "execution_count": 107,
   "id": "3aabd2c2",
   "metadata": {},
   "outputs": [],
   "source": [
    "random_number = random.randint(1, 50)"
   ]
  },
  {
   "cell_type": "code",
   "execution_count": 108,
   "id": "a464e2d1",
   "metadata": {},
   "outputs": [
    {
     "name": "stdout",
     "output_type": "stream",
     "text": [
      "48\n"
     ]
    }
   ],
   "source": [
    "print(random_number)"
   ]
  },
  {
   "cell_type": "code",
   "execution_count": null,
   "id": "4109bb34",
   "metadata": {},
   "outputs": [],
   "source": []
  },
  {
   "cell_type": "code",
   "execution_count": 110,
   "id": "7cc16817",
   "metadata": {},
   "outputs": [
    {
     "name": "stdout",
     "output_type": "stream",
     "text": [
      "please in your first name:     ehis\n"
     ]
    }
   ],
   "source": [
    "first_name = input(\"please in your first name:     \")"
   ]
  },
  {
   "cell_type": "code",
   "execution_count": 111,
   "id": "cc273409",
   "metadata": {},
   "outputs": [
    {
     "name": "stdout",
     "output_type": "stream",
     "text": [
      "EHIS\n"
     ]
    }
   ],
   "source": [
    "print(name.upper())"
   ]
  },
  {
   "cell_type": "code",
   "execution_count": null,
   "id": "028e98ed",
   "metadata": {},
   "outputs": [],
   "source": []
  },
  {
   "cell_type": "code",
   "execution_count": 113,
   "id": "fa9eb1bd",
   "metadata": {},
   "outputs": [
    {
     "name": "stdout",
     "output_type": "stream",
     "text": [
      "put in any number:     10\n"
     ]
    }
   ],
   "source": [
    "number = input(\"put in any number:     \")"
   ]
  },
  {
   "cell_type": "code",
   "execution_count": 114,
   "id": "38ec1ec3",
   "metadata": {},
   "outputs": [
    {
     "name": "stdout",
     "output_type": "stream",
     "text": [
      "10\n"
     ]
    }
   ],
   "source": [
    "print(number)"
   ]
  },
  {
   "cell_type": "code",
   "execution_count": 115,
   "id": "90fcd1a8",
   "metadata": {},
   "outputs": [
    {
     "name": "stdout",
     "output_type": "stream",
     "text": [
      "<class 'str'>\n"
     ]
    }
   ],
   "source": [
    "print(type(number))"
   ]
  },
  {
   "cell_type": "code",
   "execution_count": null,
   "id": "31753e56",
   "metadata": {},
   "outputs": [],
   "source": []
  },
  {
   "cell_type": "code",
   "execution_count": 118,
   "id": "2e4e3100",
   "metadata": {},
   "outputs": [
    {
     "name": "stdout",
     "output_type": "stream",
     "text": [
      "put any number:   20\n"
     ]
    }
   ],
   "source": [
    "number = int(input(\"put any number:   \"))"
   ]
  },
  {
   "cell_type": "code",
   "execution_count": 119,
   "id": "3c844bf1",
   "metadata": {},
   "outputs": [
    {
     "name": "stdout",
     "output_type": "stream",
     "text": [
      "<class 'int'>\n"
     ]
    }
   ],
   "source": [
    "print(type(number))"
   ]
  },
  {
   "cell_type": "code",
   "execution_count": null,
   "id": "57c7e91e",
   "metadata": {},
   "outputs": [],
   "source": []
  },
  {
   "cell_type": "code",
   "execution_count": 1,
   "id": "798a6143",
   "metadata": {},
   "outputs": [
    {
     "name": "stdout",
     "output_type": "stream",
     "text": [
      "p50\n"
     ]
    }
   ],
   "source": [
    "number = int(input(\"p\"))"
   ]
  },
  {
   "cell_type": "code",
   "execution_count": null,
   "id": "1d1dde3d",
   "metadata": {},
   "outputs": [],
   "source": []
  }
 ],
 "metadata": {
  "kernelspec": {
   "display_name": "Python 3 (ipykernel)",
   "language": "python",
   "name": "python3"
  },
  "language_info": {
   "codemirror_mode": {
    "name": "ipython",
    "version": 3
   },
   "file_extension": ".py",
   "mimetype": "text/x-python",
   "name": "python",
   "nbconvert_exporter": "python",
   "pygments_lexer": "ipython3",
   "version": "3.10.4"
  }
 },
 "nbformat": 4,
 "nbformat_minor": 5
}
