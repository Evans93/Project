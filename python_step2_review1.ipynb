{
 "cells": [
  {
   "cell_type": "markdown",
   "id": "022a47c6",
   "metadata": {},
   "source": [
    "SET"
   ]
  },
  {
   "cell_type": "code",
   "execution_count": 1,
   "id": "4286b462",
   "metadata": {},
   "outputs": [],
   "source": [
    "age = {45, 32, 32, 27, 38, 19, 20}"
   ]
  },
  {
   "cell_type": "code",
   "execution_count": 2,
   "id": "feaa4517",
   "metadata": {},
   "outputs": [
    {
     "name": "stdout",
     "output_type": "stream",
     "text": [
      "{32, 19, 20, 38, 27, 45}\n"
     ]
    }
   ],
   "source": [
    "print(age)"
   ]
  },
  {
   "cell_type": "code",
   "execution_count": 3,
   "id": "bcd2ed44",
   "metadata": {},
   "outputs": [],
   "source": [
    "names = {\"evans\", \"tope\", \"evans\", \"abbey\", \"kola\", \"dotun\"}"
   ]
  },
  {
   "cell_type": "code",
   "execution_count": 4,
   "id": "155a7968",
   "metadata": {},
   "outputs": [
    {
     "name": "stdout",
     "output_type": "stream",
     "text": [
      "{'evans', 'tope', 'abbey', 'dotun', 'kola'}\n"
     ]
    }
   ],
   "source": [
    "print(names)"
   ]
  },
  {
   "cell_type": "code",
   "execution_count": null,
   "id": "6d492bb3",
   "metadata": {},
   "outputs": [],
   "source": []
  },
  {
   "cell_type": "code",
   "execution_count": 5,
   "id": "cfa4b863",
   "metadata": {},
   "outputs": [],
   "source": [
    "country_names ={\"Germany\", \"Germany\", \"USA\", \"Japan\", \"China\", \"Russia\", \"Ukraine\", \"Ukraine\"}"
   ]
  },
  {
   "cell_type": "code",
   "execution_count": 6,
   "id": "d1d9e959",
   "metadata": {},
   "outputs": [
    {
     "name": "stdout",
     "output_type": "stream",
     "text": [
      "{'Germany', 'Ukraine', 'Japan', 'USA', 'China', 'Russia'}\n"
     ]
    }
   ],
   "source": [
    "print(country_names)"
   ]
  },
  {
   "cell_type": "code",
   "execution_count": 8,
   "id": "1edfde43",
   "metadata": {},
   "outputs": [
    {
     "name": "stdout",
     "output_type": "stream",
     "text": [
      "<class 'set'>\n"
     ]
    }
   ],
   "source": [
    "print(type(country_names))"
   ]
  },
  {
   "cell_type": "code",
   "execution_count": null,
   "id": "541710a5",
   "metadata": {},
   "outputs": [],
   "source": []
  },
  {
   "cell_type": "code",
   "execution_count": 48,
   "id": "11f40921",
   "metadata": {},
   "outputs": [],
   "source": [
    "Overdraft = {50.32, 68.0, 45.21, 68.0, 24.54, 50.32, 74.2}"
   ]
  },
  {
   "cell_type": "code",
   "execution_count": 49,
   "id": "5d5b3c7e",
   "metadata": {},
   "outputs": [
    {
     "name": "stdout",
     "output_type": "stream",
     "text": [
      "<class 'set'>\n"
     ]
    }
   ],
   "source": [
    "print(type(Overdraft))"
   ]
  },
  {
   "cell_type": "code",
   "execution_count": 108,
   "id": "3c89e073",
   "metadata": {},
   "outputs": [
    {
     "name": "stdout",
     "output_type": "stream",
     "text": [
      "{50.32, 68.0, 24.54, 74.2, 45.21}\n"
     ]
    }
   ],
   "source": [
    "print(Overdraft)"
   ]
  },
  {
   "cell_type": "code",
   "execution_count": 109,
   "id": "fd332846",
   "metadata": {
    "scrolled": true
   },
   "outputs": [
    {
     "ename": "AttributeError",
     "evalue": "'set' object has no attribute 'append'",
     "output_type": "error",
     "traceback": [
      "\u001b[0;31m---------------------------------------------------------------------------\u001b[0m",
      "\u001b[0;31mAttributeError\u001b[0m                            Traceback (most recent call last)",
      "Input \u001b[0;32mIn [109]\u001b[0m, in \u001b[0;36m<cell line: 1>\u001b[0;34m()\u001b[0m\n\u001b[0;32m----> 1\u001b[0m \u001b[43mOverdraft\u001b[49m\u001b[38;5;241;43m.\u001b[39;49m\u001b[43mappend\u001b[49m(\u001b[38;5;241m102\u001b[39m)\n",
      "\u001b[0;31mAttributeError\u001b[0m: 'set' object has no attribute 'append'"
     ]
    }
   ],
   "source": [
    "Overdraft.append(102)"
   ]
  },
  {
   "cell_type": "code",
   "execution_count": null,
   "id": "d312c6fd",
   "metadata": {},
   "outputs": [],
   "source": []
  },
  {
   "cell_type": "raw",
   "id": "b05e2bce",
   "metadata": {},
   "source": [
    "print(evans_house.keys)"
   ]
  },
  {
   "cell_type": "code",
   "execution_count": null,
   "id": "421f5479",
   "metadata": {},
   "outputs": [],
   "source": []
  },
  {
   "cell_type": "code",
   "execution_count": 51,
   "id": "5a17efba",
   "metadata": {},
   "outputs": [],
   "source": [
    "new_Overdraft = list(Overdraft)"
   ]
  },
  {
   "cell_type": "code",
   "execution_count": 52,
   "id": "3c66d2d9",
   "metadata": {},
   "outputs": [
    {
     "name": "stdout",
     "output_type": "stream",
     "text": [
      "<class 'list'>\n"
     ]
    }
   ],
   "source": [
    "print(type(new_Overdraft))"
   ]
  },
  {
   "cell_type": "code",
   "execution_count": 53,
   "id": "346027b1",
   "metadata": {},
   "outputs": [
    {
     "name": "stdout",
     "output_type": "stream",
     "text": [
      "[50.32, 68.0, 24.54, 74.2, 45.21]\n"
     ]
    }
   ],
   "source": [
    "print(new_Overdraft)"
   ]
  },
  {
   "cell_type": "code",
   "execution_count": 54,
   "id": "0c9ba37a",
   "metadata": {},
   "outputs": [
    {
     "data": {
      "text/plain": [
       "5"
      ]
     },
     "execution_count": 54,
     "metadata": {},
     "output_type": "execute_result"
    }
   ],
   "source": [
    "len(new_Overdraft)"
   ]
  },
  {
   "cell_type": "code",
   "execution_count": 55,
   "id": "70c1193b",
   "metadata": {},
   "outputs": [],
   "source": [
    "new_Overdraft.append(100.65)"
   ]
  },
  {
   "cell_type": "code",
   "execution_count": 56,
   "id": "af6005d7",
   "metadata": {},
   "outputs": [],
   "source": [
    "new_Overdraft.append(90.4)"
   ]
  },
  {
   "cell_type": "code",
   "execution_count": 57,
   "id": "b46d7f11",
   "metadata": {},
   "outputs": [],
   "source": [
    "new_Overdraft.append(23.1)"
   ]
  },
  {
   "cell_type": "code",
   "execution_count": 58,
   "id": "01caf50f",
   "metadata": {},
   "outputs": [
    {
     "name": "stdout",
     "output_type": "stream",
     "text": [
      "[50.32, 68.0, 24.54, 74.2, 45.21, 100.65, 90.4, 23.1]\n"
     ]
    }
   ],
   "source": [
    "print(new_Overdraft)"
   ]
  },
  {
   "cell_type": "code",
   "execution_count": 59,
   "id": "d8e4b33f",
   "metadata": {},
   "outputs": [],
   "source": [
    "new_Overdraft.remove(68.0)"
   ]
  },
  {
   "cell_type": "code",
   "execution_count": 60,
   "id": "71f8d8ef",
   "metadata": {},
   "outputs": [
    {
     "name": "stdout",
     "output_type": "stream",
     "text": [
      "[50.32, 24.54, 74.2, 45.21, 100.65, 90.4, 23.1]\n"
     ]
    }
   ],
   "source": [
    "print(new_Overdraft)"
   ]
  },
  {
   "cell_type": "code",
   "execution_count": null,
   "id": "33db1b2c",
   "metadata": {},
   "outputs": [],
   "source": []
  },
  {
   "cell_type": "code",
   "execution_count": 61,
   "id": "1264e068",
   "metadata": {},
   "outputs": [
    {
     "name": "stdout",
     "output_type": "stream",
     "text": [
      "50.32\n"
     ]
    }
   ],
   "source": [
    "print(new_Overdraft[0])"
   ]
  },
  {
   "cell_type": "code",
   "execution_count": 62,
   "id": "973c0765",
   "metadata": {},
   "outputs": [
    {
     "name": "stdout",
     "output_type": "stream",
     "text": [
      "23.1\n"
     ]
    }
   ],
   "source": [
    "print(new_Overdraft[-1])"
   ]
  },
  {
   "cell_type": "code",
   "execution_count": 63,
   "id": "ca97cf2a",
   "metadata": {},
   "outputs": [
    {
     "data": {
      "text/plain": [
       "7"
      ]
     },
     "execution_count": 63,
     "metadata": {},
     "output_type": "execute_result"
    }
   ],
   "source": [
    "len(new_Overdraft)"
   ]
  },
  {
   "cell_type": "code",
   "execution_count": 64,
   "id": "088d0a55",
   "metadata": {},
   "outputs": [
    {
     "name": "stdout",
     "output_type": "stream",
     "text": [
      "[45.21, 100.65, 90.4, 23.1]\n"
     ]
    }
   ],
   "source": [
    "print(new_Overdraft[3:])"
   ]
  },
  {
   "cell_type": "code",
   "execution_count": 65,
   "id": "dd091b79",
   "metadata": {},
   "outputs": [
    {
     "name": "stdout",
     "output_type": "stream",
     "text": [
      "[50.32, 24.54, 74.2, 45.21]\n"
     ]
    }
   ],
   "source": [
    "print(new_Overdraft[:4])"
   ]
  },
  {
   "cell_type": "code",
   "execution_count": 66,
   "id": "3be57ea0",
   "metadata": {},
   "outputs": [],
   "source": [
    "new_Overdraft.sort()"
   ]
  },
  {
   "cell_type": "code",
   "execution_count": 67,
   "id": "3c0cc8cb",
   "metadata": {},
   "outputs": [
    {
     "name": "stdout",
     "output_type": "stream",
     "text": [
      "[23.1, 24.54, 45.21, 50.32, 74.2, 90.4, 100.65]\n"
     ]
    }
   ],
   "source": [
    "print(new_Overdraft)"
   ]
  },
  {
   "cell_type": "code",
   "execution_count": 68,
   "id": "f1a3c883",
   "metadata": {},
   "outputs": [],
   "source": [
    "convert_list_to_tuple = tuple(new_Overdraft)"
   ]
  },
  {
   "cell_type": "code",
   "execution_count": 69,
   "id": "4497d4c5",
   "metadata": {},
   "outputs": [
    {
     "name": "stdout",
     "output_type": "stream",
     "text": [
      "(23.1, 24.54, 45.21, 50.32, 74.2, 90.4, 100.65)\n"
     ]
    }
   ],
   "source": [
    "print(convert_list_to_tuple)"
   ]
  },
  {
   "cell_type": "code",
   "execution_count": 70,
   "id": "691417d1",
   "metadata": {},
   "outputs": [
    {
     "name": "stdout",
     "output_type": "stream",
     "text": [
      "<class 'tuple'>\n"
     ]
    }
   ],
   "source": [
    "print(type(convert_list_to_tuple))"
   ]
  },
  {
   "cell_type": "code",
   "execution_count": null,
   "id": "c14424ae",
   "metadata": {},
   "outputs": [],
   "source": []
  },
  {
   "cell_type": "code",
   "execution_count": null,
   "id": "5f83aeba",
   "metadata": {},
   "outputs": [],
   "source": []
  },
  {
   "cell_type": "code",
   "execution_count": 71,
   "id": "be9c0901",
   "metadata": {},
   "outputs": [],
   "source": [
    "evans_house = {\"imole\": 20, \"tunde\": 23, \"tope\": 34, \"funmi\": 37, \"tope\": 34, \"abbey\": 45}"
   ]
  },
  {
   "cell_type": "code",
   "execution_count": 72,
   "id": "73211d0f",
   "metadata": {},
   "outputs": [
    {
     "name": "stdout",
     "output_type": "stream",
     "text": [
      "<class 'dict'>\n"
     ]
    }
   ],
   "source": [
    "print(type(evans_house))"
   ]
  },
  {
   "cell_type": "code",
   "execution_count": 73,
   "id": "8503779e",
   "metadata": {},
   "outputs": [
    {
     "data": {
      "text/plain": [
       "5"
      ]
     },
     "execution_count": 73,
     "metadata": {},
     "output_type": "execute_result"
    }
   ],
   "source": [
    "len(evans_house)"
   ]
  },
  {
   "cell_type": "code",
   "execution_count": 74,
   "id": "e59592af",
   "metadata": {},
   "outputs": [
    {
     "name": "stdout",
     "output_type": "stream",
     "text": [
      "{'imole': 20, 'tunde': 23, 'tope': 34, 'funmi': 37, 'abbey': 45}\n"
     ]
    }
   ],
   "source": [
    "print(evans_house)"
   ]
  },
  {
   "cell_type": "code",
   "execution_count": 77,
   "id": "97f17802",
   "metadata": {},
   "outputs": [
    {
     "name": "stdout",
     "output_type": "stream",
     "text": [
      "23\n"
     ]
    }
   ],
   "source": [
    "print(evans_house[\"tunde\"])"
   ]
  },
  {
   "cell_type": "code",
   "execution_count": 104,
   "id": "e2bcefea",
   "metadata": {},
   "outputs": [
    {
     "name": "stdout",
     "output_type": "stream",
     "text": [
      "dict_values([20, 23, 34, 37, 45])\n"
     ]
    }
   ],
   "source": [
    "print(evans_house.values())"
   ]
  },
  {
   "cell_type": "code",
   "execution_count": 105,
   "id": "a5650415",
   "metadata": {},
   "outputs": [
    {
     "name": "stdout",
     "output_type": "stream",
     "text": [
      "dict_keys(['imole', 'tunde', 'tope', 'funmi', 'abbey'])\n"
     ]
    }
   ],
   "source": [
    "print(evans_house.keys())"
   ]
  },
  {
   "cell_type": "code",
   "execution_count": 106,
   "id": "dfab8b9a",
   "metadata": {},
   "outputs": [
    {
     "name": "stdout",
     "output_type": "stream",
     "text": [
      "{'imole': 20, 'tunde': 23, 'tope': 34, 'funmi': 37, 'abbey': 45}\n"
     ]
    }
   ],
   "source": [
    "print(evans_house)"
   ]
  },
  {
   "cell_type": "code",
   "execution_count": null,
   "id": "fe4c5ad5",
   "metadata": {},
   "outputs": [],
   "source": []
  },
  {
   "cell_type": "markdown",
   "id": "a54bf70b",
   "metadata": {},
   "source": [
    "Re-assignment of elements in a list"
   ]
  },
  {
   "cell_type": "code",
   "execution_count": 110,
   "id": "758eba06",
   "metadata": {},
   "outputs": [],
   "source": [
    "numbers = [90, 34, 68, 4, 81, 55, 22, 44]"
   ]
  },
  {
   "cell_type": "code",
   "execution_count": 111,
   "id": "02d5629c",
   "metadata": {},
   "outputs": [
    {
     "data": {
      "text/plain": [
       "8"
      ]
     },
     "execution_count": 111,
     "metadata": {},
     "output_type": "execute_result"
    }
   ],
   "source": [
    "len(numbers)"
   ]
  },
  {
   "cell_type": "code",
   "execution_count": 112,
   "id": "baf810e2",
   "metadata": {},
   "outputs": [],
   "source": [
    "numbers.append(100)"
   ]
  },
  {
   "cell_type": "code",
   "execution_count": 113,
   "id": "ec8b9670",
   "metadata": {},
   "outputs": [],
   "source": [
    "numbers.append(200)"
   ]
  },
  {
   "cell_type": "code",
   "execution_count": 114,
   "id": "526acfa4",
   "metadata": {},
   "outputs": [
    {
     "name": "stdout",
     "output_type": "stream",
     "text": [
      "[90, 34, 68, 4, 81, 55, 22, 44, 100, 200]\n"
     ]
    }
   ],
   "source": [
    "print(numbers)"
   ]
  },
  {
   "cell_type": "code",
   "execution_count": 115,
   "id": "c7b9862f",
   "metadata": {},
   "outputs": [],
   "source": [
    "numbers.remove(34)"
   ]
  },
  {
   "cell_type": "code",
   "execution_count": 116,
   "id": "6e377ae1",
   "metadata": {},
   "outputs": [
    {
     "name": "stdout",
     "output_type": "stream",
     "text": [
      "[90, 68, 4, 81, 55, 22, 44, 100, 200]\n"
     ]
    }
   ],
   "source": [
    "print(numbers)"
   ]
  },
  {
   "cell_type": "code",
   "execution_count": 117,
   "id": "24cc786f",
   "metadata": {},
   "outputs": [
    {
     "name": "stdout",
     "output_type": "stream",
     "text": [
      "90\n"
     ]
    }
   ],
   "source": [
    "print(numbers[0])"
   ]
  },
  {
   "cell_type": "code",
   "execution_count": 118,
   "id": "f6f84d63",
   "metadata": {},
   "outputs": [],
   "source": [
    "numbers[0] = 350"
   ]
  },
  {
   "cell_type": "code",
   "execution_count": 119,
   "id": "e144458c",
   "metadata": {},
   "outputs": [
    {
     "name": "stdout",
     "output_type": "stream",
     "text": [
      "[350, 68, 4, 81, 55, 22, 44, 100, 200]\n"
     ]
    }
   ],
   "source": [
    "print(numbers)"
   ]
  },
  {
   "cell_type": "code",
   "execution_count": 120,
   "id": "96368c48",
   "metadata": {},
   "outputs": [],
   "source": [
    "numbers[4] = 900"
   ]
  },
  {
   "cell_type": "code",
   "execution_count": 122,
   "id": "e593f8ed",
   "metadata": {},
   "outputs": [
    {
     "name": "stdout",
     "output_type": "stream",
     "text": [
      "[350, 68, 4, 81, 900, 22, 44, 100, 200]\n"
     ]
    }
   ],
   "source": [
    "print(numbers)"
   ]
  },
  {
   "cell_type": "code",
   "execution_count": null,
   "id": "e4e9f1b2",
   "metadata": {},
   "outputs": [],
   "source": []
  },
  {
   "cell_type": "markdown",
   "id": "d188f31a",
   "metadata": {},
   "source": [
    "Python range function"
   ]
  },
  {
   "cell_type": "code",
   "execution_count": 132,
   "id": "34719f91",
   "metadata": {},
   "outputs": [],
   "source": [
    "age = range(5, 10 + 1)"
   ]
  },
  {
   "cell_type": "code",
   "execution_count": 133,
   "id": "cef6145d",
   "metadata": {},
   "outputs": [
    {
     "name": "stdout",
     "output_type": "stream",
     "text": [
      "range(5, 11)\n"
     ]
    }
   ],
   "source": [
    "print(age)"
   ]
  },
  {
   "cell_type": "code",
   "execution_count": 134,
   "id": "93f9424e",
   "metadata": {},
   "outputs": [
    {
     "name": "stdout",
     "output_type": "stream",
     "text": [
      "[5, 6, 7, 8, 9, 10]\n"
     ]
    }
   ],
   "source": [
    "print(list(age))"
   ]
  },
  {
   "cell_type": "code",
   "execution_count": null,
   "id": "0758c2d4",
   "metadata": {},
   "outputs": [],
   "source": []
  },
  {
   "cell_type": "code",
   "execution_count": null,
   "id": "69652eaa",
   "metadata": {},
   "outputs": [],
   "source": []
  }
 ],
 "metadata": {
  "kernelspec": {
   "display_name": "Python 3 (ipykernel)",
   "language": "python",
   "name": "python3"
  },
  "language_info": {
   "codemirror_mode": {
    "name": "ipython",
    "version": 3
   },
   "file_extension": ".py",
   "mimetype": "text/x-python",
   "name": "python",
   "nbconvert_exporter": "python",
   "pygments_lexer": "ipython3",
   "version": "3.10.4"
  }
 },
 "nbformat": 4,
 "nbformat_minor": 5
}
