{
 "cells": [
  {
   "cell_type": "markdown",
   "id": "10a49968",
   "metadata": {},
   "source": [
    "Logical operators in python"
   ]
  },
  {
   "cell_type": "code",
   "execution_count": null,
   "id": "7ccf1a13",
   "metadata": {},
   "outputs": [],
   "source": []
  },
  {
   "cell_type": "code",
   "execution_count": 1,
   "id": "6b7e962e",
   "metadata": {},
   "outputs": [
    {
     "name": "stdout",
     "output_type": "stream",
     "text": [
      "True\n"
     ]
    }
   ],
   "source": [
    "print((20 > 30) or (15 < 30))"
   ]
  },
  {
   "cell_type": "code",
   "execution_count": 2,
   "id": "1797eb6c",
   "metadata": {},
   "outputs": [
    {
     "name": "stdout",
     "output_type": "stream",
     "text": [
      "False\n"
     ]
    }
   ],
   "source": [
    "print((20 > 30) and (15 < 30))"
   ]
  },
  {
   "cell_type": "code",
   "execution_count": null,
   "id": "28a28ded",
   "metadata": {},
   "outputs": [],
   "source": []
  },
  {
   "cell_type": "code",
   "execution_count": 3,
   "id": "d603926a",
   "metadata": {},
   "outputs": [],
   "source": [
    "names = [\"evans\", \"john\"]"
   ]
  },
  {
   "cell_type": "code",
   "execution_count": 6,
   "id": "b7406ed0",
   "metadata": {},
   "outputs": [
    {
     "name": "stdout",
     "output_type": "stream",
     "text": [
      "False\n"
     ]
    }
   ],
   "source": [
    "print((\"evans\" in names) and (\"johnn\" in names))"
   ]
  },
  {
   "cell_type": "code",
   "execution_count": null,
   "id": "4eaedf6b",
   "metadata": {},
   "outputs": [],
   "source": []
  },
  {
   "cell_type": "code",
   "execution_count": 8,
   "id": "64e55783",
   "metadata": {},
   "outputs": [
    {
     "name": "stdout",
     "output_type": "stream",
     "text": [
      "True\n"
     ]
    }
   ],
   "source": [
    "print((\"evans\" in names) or (\"johnn\" in names))"
   ]
  },
  {
   "cell_type": "code",
   "execution_count": null,
   "id": "213c970a",
   "metadata": {},
   "outputs": [],
   "source": []
  },
  {
   "cell_type": "markdown",
   "id": "7e884e75",
   "metadata": {},
   "source": [
    "if and else statement"
   ]
  },
  {
   "cell_type": "code",
   "execution_count": 14,
   "id": "4e6d095f",
   "metadata": {},
   "outputs": [
    {
     "name": "stdout",
     "output_type": "stream",
     "text": [
      "how old are you:           22\n",
      "you are qulified to register\n"
     ]
    }
   ],
   "source": [
    "age = int(input(\"how old are you:           \"))\n",
    "Threshold = 18\n",
    "\n",
    "if age > Threshold:\n",
    "    print(\"you are qulified to register\")\n",
    "else:\n",
    "    print(\"you are not qualified\")"
   ]
  },
  {
   "cell_type": "code",
   "execution_count": null,
   "id": "08420279",
   "metadata": {},
   "outputs": [],
   "source": []
  },
  {
   "cell_type": "code",
   "execution_count": 16,
   "id": "570bbc06",
   "metadata": {},
   "outputs": [
    {
     "name": "stdout",
     "output_type": "stream",
     "text": [
      "how are you:       17\n",
      "you are not elligible to watch this movie\n"
     ]
    }
   ],
   "source": [
    "age_allowed_to_access_this_movie = int(input(\"how are you:       \"))\n",
    "\n",
    "if age_allowed_to_access_this_movie >= 18:\n",
    "    print(\"you are eligible to watch this movie\")\n",
    "else:\n",
    "    print(\"you are not elligible to watch this movie\")"
   ]
  },
  {
   "cell_type": "code",
   "execution_count": null,
   "id": "901ccbba",
   "metadata": {},
   "outputs": [],
   "source": []
  },
  {
   "cell_type": "code",
   "execution_count": 17,
   "id": "da723749",
   "metadata": {},
   "outputs": [],
   "source": [
    "number = 2000"
   ]
  },
  {
   "cell_type": "code",
   "execution_count": 20,
   "id": "60d97dfe",
   "metadata": {},
   "outputs": [
    {
     "name": "stdout",
     "output_type": "stream",
     "text": [
      "its not correct\n"
     ]
    }
   ],
   "source": [
    "if number >= 5000:\n",
    "    print(\"yes its correct\")\n",
    "else:\n",
    "    print(\"its not correct\")"
   ]
  },
  {
   "cell_type": "code",
   "execution_count": null,
   "id": "71a17eda",
   "metadata": {},
   "outputs": [],
   "source": []
  },
  {
   "cell_type": "code",
   "execution_count": null,
   "id": "1c3d440e",
   "metadata": {},
   "outputs": [],
   "source": []
  },
  {
   "cell_type": "code",
   "execution_count": null,
   "id": "c4b7f04c",
   "metadata": {},
   "outputs": [],
   "source": []
  },
  {
   "cell_type": "code",
   "execution_count": null,
   "id": "58ccdd68",
   "metadata": {},
   "outputs": [],
   "source": []
  },
  {
   "cell_type": "code",
   "execution_count": null,
   "id": "c1f6bb73",
   "metadata": {},
   "outputs": [],
   "source": []
  },
  {
   "cell_type": "code",
   "execution_count": null,
   "id": "15d61c50",
   "metadata": {},
   "outputs": [],
   "source": []
  },
  {
   "cell_type": "code",
   "execution_count": null,
   "id": "c9d5aab1",
   "metadata": {},
   "outputs": [],
   "source": []
  },
  {
   "cell_type": "code",
   "execution_count": null,
   "id": "2693da3b",
   "metadata": {},
   "outputs": [],
   "source": []
  },
  {
   "cell_type": "code",
   "execution_count": null,
   "id": "57daaf71",
   "metadata": {},
   "outputs": [],
   "source": []
  },
  {
   "cell_type": "code",
   "execution_count": 50,
   "id": "22576a32",
   "metadata": {},
   "outputs": [
    {
     "name": "stdout",
     "output_type": "stream",
     "text": [
      "how old are you :      on\n",
      "Please type an integer!!!\n"
     ]
    }
   ],
   "source": [
    "age_allowed_to_access_movie = input(\"how old are you :      \")\n",
    "\n",
    "if type(age_allowed_to_access_movie) != int:\n",
    "    \n",
    "    print(\"Please type an integer!!!\")\n",
    "    age_allowed_to_access_movie"
   ]
  },
  {
   "cell_type": "code",
   "execution_count": null,
   "id": "daf2c0cb",
   "metadata": {},
   "outputs": [],
   "source": [
    "age_allowed_to_access_movie = input(\"how old are you :      \")"
   ]
  },
  {
   "cell_type": "code",
   "execution_count": null,
   "id": "33aa8f77",
   "metadata": {},
   "outputs": [],
   "source": []
  },
  {
   "cell_type": "code",
   "execution_count": 53,
   "id": "43783202",
   "metadata": {},
   "outputs": [
    {
     "name": "stdout",
     "output_type": "stream",
     "text": [
      "yes its less\n",
      "yes its less\n",
      "yes its less\n"
     ]
    }
   ],
   "source": [
    "x = 1\n",
    "\n",
    "while x < 4:\n",
    "    print(\"yes its less\")\n",
    "    x = x + 1"
   ]
  },
  {
   "cell_type": "code",
   "execution_count": 73,
   "id": "f402bf7f",
   "metadata": {},
   "outputs": [
    {
     "name": "stdout",
     "output_type": "stream",
     "text": [
      "how old are you:   ghjklkhvfghj\n",
      "Please put a digit number\n",
      "how old are you:   gfhjkljgv\n",
      "Please put a digit number\n",
      "how old are you:   fcghgjk\n",
      "Please put a digit number\n",
      "how old are you:   5\n",
      "Please put a digit number\n",
      "New age after converted is 5\n"
     ]
    }
   ],
   "source": [
    "import logging\n",
    "\n",
    "age = \"None\"\n",
    "\n",
    "while not age.isdigit():\n",
    "    age = input(\"how old are you:   \")\n",
    "    logging.\n",
    "else:\n",
    "    age = int(age)\n",
    "    print(f\"New age after converted is {age}\")\n",
    "    \n",
    "    \n",
    "\n",
    "    "
   ]
  },
  {
   "cell_type": "code",
   "execution_count": 77,
   "id": "5e9ae652",
   "metadata": {},
   "outputs": [],
   "source": [
    "x = \"56789\""
   ]
  },
  {
   "cell_type": "code",
   "execution_count": 62,
   "id": "5115d3be",
   "metadata": {},
   "outputs": [],
   "source": []
  },
  {
   "cell_type": "code",
   "execution_count": 78,
   "id": "9ef87ef2",
   "metadata": {},
   "outputs": [
    {
     "name": "stdout",
     "output_type": "stream",
     "text": [
      "True\n"
     ]
    }
   ],
   "source": [
    "print(x.isdigit())"
   ]
  },
  {
   "cell_type": "code",
   "execution_count": null,
   "id": "888984f9",
   "metadata": {},
   "outputs": [],
   "source": []
  },
  {
   "cell_type": "code",
   "execution_count": 34,
   "id": "4dc8aadb",
   "metadata": {},
   "outputs": [
    {
     "name": "stdout",
     "output_type": "stream",
     "text": [
      "<class 'int'>\n"
     ]
    }
   ],
   "source": [
    "print(type(age_allowed_to_access_movie))"
   ]
  },
  {
   "cell_type": "code",
   "execution_count": null,
   "id": "a12728fd",
   "metadata": {},
   "outputs": [],
   "source": []
  },
  {
   "cell_type": "code",
   "execution_count": 47,
   "id": "f6d1daeb",
   "metadata": {},
   "outputs": [],
   "source": [
    "a = 1\n",
    "b = 'dre'\n",
    "c = 12.5"
   ]
  },
  {
   "cell_type": "code",
   "execution_count": 49,
   "id": "1b6a89d1",
   "metadata": {},
   "outputs": [
    {
     "name": "stdout",
     "output_type": "stream",
     "text": [
      "<class 'str'>\n"
     ]
    }
   ],
   "source": [
    "print(type(b))"
   ]
  },
  {
   "cell_type": "code",
   "execution_count": null,
   "id": "cf11a66c",
   "metadata": {},
   "outputs": [],
   "source": []
  },
  {
   "cell_type": "code",
   "execution_count": null,
   "id": "cd3b93f0",
   "metadata": {},
   "outputs": [],
   "source": []
  },
  {
   "cell_type": "code",
   "execution_count": 85,
   "id": "de89301a",
   "metadata": {},
   "outputs": [
    {
     "name": "stdout",
     "output_type": "stream",
     "text": [
      "how old are you:        45\n",
      "you are permisioned\n"
     ]
    }
   ],
   "source": [
    "age_allowed_to_access_Website = int(input(\"how old are you:        \"))\n",
    "\n",
    "if age_allowed_to_access_Website < 18:\n",
    "    print(\"you are not permited\")\n",
    "else:\n",
    "    print(\"you are permisioned\")"
   ]
  },
  {
   "cell_type": "code",
   "execution_count": null,
   "id": "2e1eb2f9",
   "metadata": {},
   "outputs": [],
   "source": []
  },
  {
   "cell_type": "code",
   "execution_count": null,
   "id": "41111aa4",
   "metadata": {},
   "outputs": [],
   "source": []
  },
  {
   "cell_type": "code",
   "execution_count": null,
   "id": "cd665d82",
   "metadata": {},
   "outputs": [],
   "source": []
  },
  {
   "cell_type": "code",
   "execution_count": null,
   "id": "8b015264",
   "metadata": {},
   "outputs": [],
   "source": []
  },
  {
   "cell_type": "code",
   "execution_count": null,
   "id": "666e3fb6",
   "metadata": {},
   "outputs": [],
   "source": []
  },
  {
   "cell_type": "code",
   "execution_count": null,
   "id": "8bea03d4",
   "metadata": {},
   "outputs": [],
   "source": []
  },
  {
   "cell_type": "code",
   "execution_count": null,
   "id": "713c898e",
   "metadata": {},
   "outputs": [],
   "source": []
  },
  {
   "cell_type": "code",
   "execution_count": null,
   "id": "7735755d",
   "metadata": {},
   "outputs": [],
   "source": []
  },
  {
   "cell_type": "code",
   "execution_count": null,
   "id": "405bde86",
   "metadata": {},
   "outputs": [],
   "source": []
  },
  {
   "cell_type": "code",
   "execution_count": null,
   "id": "abd24fb2",
   "metadata": {},
   "outputs": [],
   "source": []
  },
  {
   "cell_type": "code",
   "execution_count": null,
   "id": "867bdb7a",
   "metadata": {},
   "outputs": [],
   "source": []
  }
 ],
 "metadata": {
  "kernelspec": {
   "display_name": "Python 3 (ipykernel)",
   "language": "python",
   "name": "python3"
  },
  "language_info": {
   "codemirror_mode": {
    "name": "ipython",
    "version": 3
   },
   "file_extension": ".py",
   "mimetype": "text/x-python",
   "name": "python",
   "nbconvert_exporter": "python",
   "pygments_lexer": "ipython3",
   "version": "3.10.4"
  }
 },
 "nbformat": 4,
 "nbformat_minor": 5
}
