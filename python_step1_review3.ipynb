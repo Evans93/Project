{
 "cells": [
  {
   "cell_type": "code",
   "execution_count": 2,
   "id": "4bfacbcd",
   "metadata": {},
   "outputs": [
    {
     "name": "stdout",
     "output_type": "stream",
     "text": [
      "what do you do for work:             student\n",
      "What’s your first name:           ehis\n",
      "What’s your middle name:            john\n",
      "What’s your last name:            evans\n",
      "how old are you:           56\n",
      "what country are you located:         Germany\n",
      "What’s your nationality:            Nigeria \n"
     ]
    }
   ],
   "source": [
    "Occupation = input(\"what do you do for work:             \")\n",
    "first_name = input(\"What’s your first name:           \")\n",
    "middle_name = input(\"What’s your middle name:            \")\n",
    "last_name =input(\"What’s your last name:            \")\n",
    "daate_of_birth = input(\"how old are you:           \")\n",
    "country_of_residence = input(\"what country are you located:         \")\n",
    "Nationality =input(\"What’s your nationality:            \")"
   ]
  },
  {
   "cell_type": "code",
   "execution_count": null,
   "id": "dec42637",
   "metadata": {},
   "outputs": [],
   "source": []
  },
  {
   "cell_type": "code",
   "execution_count": 3,
   "id": "ff4d7af9",
   "metadata": {},
   "outputs": [],
   "source": [
    "tope = 35"
   ]
  },
  {
   "cell_type": "code",
   "execution_count": 5,
   "id": "aab3c2cc",
   "metadata": {},
   "outputs": [
    {
     "name": "stdout",
     "output_type": "stream",
     "text": [
      "<class 'int'>\n"
     ]
    }
   ],
   "source": [
    "print(type(tope))"
   ]
  },
  {
   "cell_type": "code",
   "execution_count": 6,
   "id": "68f876b0",
   "metadata": {},
   "outputs": [
    {
     "name": "stdout",
     "output_type": "stream",
     "text": [
      "35\n"
     ]
    }
   ],
   "source": [
    "print(tope)"
   ]
  },
  {
   "cell_type": "code",
   "execution_count": null,
   "id": "509d4c95",
   "metadata": {},
   "outputs": [],
   "source": []
  },
  {
   "cell_type": "code",
   "execution_count": 7,
   "id": "3526cbb3",
   "metadata": {},
   "outputs": [],
   "source": [
    "occupation = \"student\""
   ]
  },
  {
   "cell_type": "code",
   "execution_count": 8,
   "id": "8e667c55",
   "metadata": {},
   "outputs": [
    {
     "name": "stdout",
     "output_type": "stream",
     "text": [
      "<class 'str'>\n"
     ]
    }
   ],
   "source": [
    "print(type(occupation))"
   ]
  },
  {
   "cell_type": "code",
   "execution_count": 9,
   "id": "f9ad0237",
   "metadata": {},
   "outputs": [
    {
     "name": "stdout",
     "output_type": "stream",
     "text": [
      "student\n"
     ]
    }
   ],
   "source": [
    "print(occupation)"
   ]
  },
  {
   "cell_type": "code",
   "execution_count": null,
   "id": "b743dc8b",
   "metadata": {},
   "outputs": [],
   "source": []
  },
  {
   "cell_type": "code",
   "execution_count": 11,
   "id": "c978d399",
   "metadata": {},
   "outputs": [],
   "source": [
    "has_a_house = True"
   ]
  },
  {
   "cell_type": "code",
   "execution_count": 12,
   "id": "1c5f5bba",
   "metadata": {},
   "outputs": [
    {
     "name": "stdout",
     "output_type": "stream",
     "text": [
      "<class 'bool'>\n"
     ]
    }
   ],
   "source": [
    "print(type(has_a_house))"
   ]
  },
  {
   "cell_type": "code",
   "execution_count": 13,
   "id": "e76e9166",
   "metadata": {},
   "outputs": [
    {
     "name": "stdout",
     "output_type": "stream",
     "text": [
      "True\n"
     ]
    }
   ],
   "source": [
    "print(has_a_house)"
   ]
  },
  {
   "cell_type": "code",
   "execution_count": null,
   "id": "9b7f1a9e",
   "metadata": {},
   "outputs": [],
   "source": []
  },
  {
   "cell_type": "code",
   "execution_count": 14,
   "id": "20bc28bf",
   "metadata": {},
   "outputs": [],
   "source": [
    "Weight = 90.8"
   ]
  },
  {
   "cell_type": "code",
   "execution_count": 15,
   "id": "cdcd5a06",
   "metadata": {},
   "outputs": [
    {
     "name": "stdout",
     "output_type": "stream",
     "text": [
      "<class 'float'>\n"
     ]
    }
   ],
   "source": [
    "print(type(Weight ))"
   ]
  },
  {
   "cell_type": "code",
   "execution_count": 17,
   "id": "e7d683f1",
   "metadata": {},
   "outputs": [
    {
     "name": "stdout",
     "output_type": "stream",
     "text": [
      "90.8\n"
     ]
    }
   ],
   "source": [
    "print(Weight)"
   ]
  },
  {
   "cell_type": "code",
   "execution_count": null,
   "id": "900a01a6",
   "metadata": {},
   "outputs": [],
   "source": []
  },
  {
   "cell_type": "code",
   "execution_count": 18,
   "id": "0dd569d9",
   "metadata": {},
   "outputs": [],
   "source": [
    "G = 50.9"
   ]
  },
  {
   "cell_type": "code",
   "execution_count": 19,
   "id": "5ac3d61a",
   "metadata": {},
   "outputs": [
    {
     "name": "stdout",
     "output_type": "stream",
     "text": [
      "51\n"
     ]
    }
   ],
   "source": [
    "print(round(G))"
   ]
  },
  {
   "cell_type": "code",
   "execution_count": null,
   "id": "9b168f6c",
   "metadata": {},
   "outputs": [],
   "source": []
  },
  {
   "cell_type": "code",
   "execution_count": 22,
   "id": "fa792aae",
   "metadata": {},
   "outputs": [],
   "source": [
    "first_number = 10\n",
    "second_number = 9"
   ]
  },
  {
   "cell_type": "code",
   "execution_count": 23,
   "id": "c964bdd2",
   "metadata": {},
   "outputs": [],
   "source": [
    "result = round(first_number / second_number)"
   ]
  },
  {
   "cell_type": "code",
   "execution_count": 25,
   "id": "ef8ab6cc",
   "metadata": {},
   "outputs": [
    {
     "name": "stdout",
     "output_type": "stream",
     "text": [
      "1\n"
     ]
    }
   ],
   "source": [
    "print(result)"
   ]
  },
  {
   "cell_type": "code",
   "execution_count": null,
   "id": "7249bda5",
   "metadata": {},
   "outputs": [],
   "source": []
  },
  {
   "cell_type": "code",
   "execution_count": 30,
   "id": "62d55ef5",
   "metadata": {},
   "outputs": [],
   "source": [
    "tope = 70"
   ]
  },
  {
   "cell_type": "code",
   "execution_count": 31,
   "id": "6eebd1df",
   "metadata": {},
   "outputs": [],
   "source": [
    "seun = 50"
   ]
  },
  {
   "cell_type": "code",
   "execution_count": 32,
   "id": "a8487fba",
   "metadata": {},
   "outputs": [
    {
     "name": "stdout",
     "output_type": "stream",
     "text": [
      "120\n"
     ]
    }
   ],
   "source": [
    "print(tope + seun)"
   ]
  },
  {
   "cell_type": "code",
   "execution_count": 33,
   "id": "a0f0c714",
   "metadata": {},
   "outputs": [
    {
     "name": "stdout",
     "output_type": "stream",
     "text": [
      "20\n"
     ]
    }
   ],
   "source": [
    "print(tope - seun)"
   ]
  },
  {
   "cell_type": "code",
   "execution_count": 34,
   "id": "1f913368",
   "metadata": {},
   "outputs": [
    {
     "name": "stdout",
     "output_type": "stream",
     "text": [
      "179846504264741214662028034056964934925124900000000000000000000000000000000000000000000000000\n"
     ]
    }
   ],
   "source": [
    "print(tope ** seun)"
   ]
  },
  {
   "cell_type": "code",
   "execution_count": 35,
   "id": "38deec11",
   "metadata": {},
   "outputs": [
    {
     "name": "stdout",
     "output_type": "stream",
     "text": [
      "3500\n"
     ]
    }
   ],
   "source": [
    "print(tope * seun)"
   ]
  },
  {
   "cell_type": "code",
   "execution_count": 36,
   "id": "6ca4f376",
   "metadata": {},
   "outputs": [
    {
     "name": "stdout",
     "output_type": "stream",
     "text": [
      "20\n"
     ]
    }
   ],
   "source": [
    "print(tope % seun)"
   ]
  },
  {
   "cell_type": "code",
   "execution_count": 37,
   "id": "faf1de8d",
   "metadata": {},
   "outputs": [
    {
     "name": "stdout",
     "output_type": "stream",
     "text": [
      "1.4\n"
     ]
    }
   ],
   "source": [
    "print(tope / seun)"
   ]
  },
  {
   "cell_type": "code",
   "execution_count": 38,
   "id": "7e6466fb",
   "metadata": {},
   "outputs": [
    {
     "name": "stdout",
     "output_type": "stream",
     "text": [
      "1\n"
     ]
    }
   ],
   "source": [
    "print(tope // seun)"
   ]
  },
  {
   "cell_type": "code",
   "execution_count": null,
   "id": "e995e543",
   "metadata": {},
   "outputs": [],
   "source": []
  },
  {
   "cell_type": "code",
   "execution_count": 39,
   "id": "9102725d",
   "metadata": {},
   "outputs": [],
   "source": [
    "david = \"56\""
   ]
  },
  {
   "cell_type": "code",
   "execution_count": 40,
   "id": "cb8a6172",
   "metadata": {},
   "outputs": [
    {
     "name": "stdout",
     "output_type": "stream",
     "text": [
      "<class 'str'>\n"
     ]
    }
   ],
   "source": [
    "print(type(david))"
   ]
  },
  {
   "cell_type": "code",
   "execution_count": 41,
   "id": "2983aa52",
   "metadata": {},
   "outputs": [
    {
     "name": "stdout",
     "output_type": "stream",
     "text": [
      "56\n"
     ]
    }
   ],
   "source": [
    "print(david)"
   ]
  },
  {
   "cell_type": "code",
   "execution_count": 42,
   "id": "88bc844a",
   "metadata": {},
   "outputs": [],
   "source": [
    "convert_david = int(david)"
   ]
  },
  {
   "cell_type": "code",
   "execution_count": 43,
   "id": "0e0adfe0",
   "metadata": {},
   "outputs": [
    {
     "name": "stdout",
     "output_type": "stream",
     "text": [
      "56\n"
     ]
    }
   ],
   "source": [
    "print(convert_david)"
   ]
  },
  {
   "cell_type": "code",
   "execution_count": 44,
   "id": "e0ff7ddd",
   "metadata": {},
   "outputs": [
    {
     "name": "stdout",
     "output_type": "stream",
     "text": [
      "<class 'int'>\n"
     ]
    }
   ],
   "source": [
    "print(type(convert_david))"
   ]
  },
  {
   "cell_type": "code",
   "execution_count": null,
   "id": "4eca738d",
   "metadata": {},
   "outputs": [],
   "source": []
  },
  {
   "cell_type": "code",
   "execution_count": 45,
   "id": "4156b5ca",
   "metadata": {},
   "outputs": [],
   "source": [
    "messi = 100"
   ]
  },
  {
   "cell_type": "code",
   "execution_count": 46,
   "id": "269a6874",
   "metadata": {},
   "outputs": [
    {
     "name": "stdout",
     "output_type": "stream",
     "text": [
      "<class 'int'>\n"
     ]
    }
   ],
   "source": [
    "print(type(messi))"
   ]
  },
  {
   "cell_type": "code",
   "execution_count": 47,
   "id": "179ac160",
   "metadata": {},
   "outputs": [],
   "source": [
    "convert_messi = float(messi)"
   ]
  },
  {
   "cell_type": "code",
   "execution_count": 48,
   "id": "750a46d1",
   "metadata": {},
   "outputs": [
    {
     "name": "stdout",
     "output_type": "stream",
     "text": [
      "100.0\n"
     ]
    }
   ],
   "source": [
    "print(convert_messi)"
   ]
  },
  {
   "cell_type": "code",
   "execution_count": 49,
   "id": "5806fb80",
   "metadata": {},
   "outputs": [
    {
     "name": "stdout",
     "output_type": "stream",
     "text": [
      "<class 'float'>\n"
     ]
    }
   ],
   "source": [
    "print(type(convert_messi))"
   ]
  },
  {
   "cell_type": "code",
   "execution_count": null,
   "id": "7bf31a97",
   "metadata": {},
   "outputs": [],
   "source": []
  },
  {
   "cell_type": "code",
   "execution_count": 50,
   "id": "6554ccbc",
   "metadata": {},
   "outputs": [],
   "source": [
    "height = 10.8"
   ]
  },
  {
   "cell_type": "code",
   "execution_count": 51,
   "id": "8a5911b7",
   "metadata": {},
   "outputs": [
    {
     "name": "stdout",
     "output_type": "stream",
     "text": [
      "10.8\n"
     ]
    }
   ],
   "source": [
    "print(height)"
   ]
  },
  {
   "cell_type": "code",
   "execution_count": 53,
   "id": "f59ea63e",
   "metadata": {},
   "outputs": [
    {
     "name": "stdout",
     "output_type": "stream",
     "text": [
      "<class 'float'>\n"
     ]
    }
   ],
   "source": [
    "print(type(height))"
   ]
  },
  {
   "cell_type": "code",
   "execution_count": 54,
   "id": "b12569b5",
   "metadata": {},
   "outputs": [],
   "source": [
    "convert_height = int(height)"
   ]
  },
  {
   "cell_type": "code",
   "execution_count": 55,
   "id": "8b08b93c",
   "metadata": {},
   "outputs": [
    {
     "name": "stdout",
     "output_type": "stream",
     "text": [
      "10\n"
     ]
    }
   ],
   "source": [
    "print(convert_height)"
   ]
  },
  {
   "cell_type": "code",
   "execution_count": 56,
   "id": "05c21e34",
   "metadata": {},
   "outputs": [
    {
     "name": "stdout",
     "output_type": "stream",
     "text": [
      "<class 'float'>\n"
     ]
    }
   ],
   "source": [
    "print(type(height))"
   ]
  },
  {
   "cell_type": "code",
   "execution_count": null,
   "id": "fa6e11ad",
   "metadata": {},
   "outputs": [],
   "source": []
  },
  {
   "cell_type": "code",
   "execution_count": 57,
   "id": "0d2a9dc7",
   "metadata": {},
   "outputs": [],
   "source": [
    "v = \"70\""
   ]
  },
  {
   "cell_type": "code",
   "execution_count": 58,
   "id": "d4ca395b",
   "metadata": {},
   "outputs": [
    {
     "name": "stdout",
     "output_type": "stream",
     "text": [
      "70\n"
     ]
    }
   ],
   "source": [
    "print(v)"
   ]
  },
  {
   "cell_type": "code",
   "execution_count": 59,
   "id": "84a2f13e",
   "metadata": {},
   "outputs": [
    {
     "name": "stdout",
     "output_type": "stream",
     "text": [
      "<class 'str'>\n"
     ]
    }
   ],
   "source": [
    "print(type(v))"
   ]
  },
  {
   "cell_type": "code",
   "execution_count": 60,
   "id": "afb4d126",
   "metadata": {},
   "outputs": [],
   "source": [
    "convert_v = int(float(v))"
   ]
  },
  {
   "cell_type": "code",
   "execution_count": 62,
   "id": "4e14bc67",
   "metadata": {},
   "outputs": [
    {
     "name": "stdout",
     "output_type": "stream",
     "text": [
      "70\n"
     ]
    }
   ],
   "source": [
    "print(convert_v)"
   ]
  },
  {
   "cell_type": "code",
   "execution_count": 63,
   "id": "52bdc29d",
   "metadata": {},
   "outputs": [
    {
     "name": "stdout",
     "output_type": "stream",
     "text": [
      "<class 'int'>\n"
     ]
    }
   ],
   "source": [
    "print(type(convert_v))"
   ]
  },
  {
   "cell_type": "code",
   "execution_count": null,
   "id": "067bd2b5",
   "metadata": {},
   "outputs": [],
   "source": []
  },
  {
   "cell_type": "code",
   "execution_count": null,
   "id": "17f93dee",
   "metadata": {},
   "outputs": [],
   "source": []
  },
  {
   "cell_type": "code",
   "execution_count": null,
   "id": "e5969b78",
   "metadata": {},
   "outputs": [],
   "source": []
  }
 ],
 "metadata": {
  "kernelspec": {
   "display_name": "Python 3 (ipykernel)",
   "language": "python",
   "name": "python3"
  },
  "language_info": {
   "codemirror_mode": {
    "name": "ipython",
    "version": 3
   },
   "file_extension": ".py",
   "mimetype": "text/x-python",
   "name": "python",
   "nbconvert_exporter": "python",
   "pygments_lexer": "ipython3",
   "version": "3.10.4"
  }
 },
 "nbformat": 4,
 "nbformat_minor": 5
}
